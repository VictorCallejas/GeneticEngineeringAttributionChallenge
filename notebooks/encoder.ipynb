{
 "metadata": {
  "language_info": {
   "codemirror_mode": {
    "name": "ipython",
    "version": 3
   },
   "file_extension": ".py",
   "mimetype": "text/x-python",
   "name": "python",
   "nbconvert_exporter": "python",
   "pygments_lexer": "ipython3",
   "version": "3.8.2-final"
  },
  "orig_nbformat": 2,
  "kernelspec": {
   "name": "Python 3.8.2 64-bit ('env')",
   "display_name": "Python 3.8.2 64-bit ('env')",
   "metadata": {
    "interpreter": {
     "hash": "d0b0e404f4b0bab6a0ce24d0958445e3188a5ca1ad205183dfb695c2c80dea74"
    }
   }
  }
 },
 "nbformat": 4,
 "nbformat_minor": 2,
 "cells": [
  {
   "cell_type": "code",
   "execution_count": 1,
   "metadata": {},
   "outputs": [],
   "source": [
    "import pandas as pd \n",
    "import numpy as np \n",
    "\n",
    "from sklearn.model_selection import train_test_split, StratifiedKFold\n",
    "\n",
    "from tqdm.notebook import tqdm\n",
    "\n",
    "import torch\n",
    "\n",
    "import seaborn as sns\n",
    "import matplotlib.pyplot as plt\n",
    "\n",
    "from sklearn.preprocessing import RobustScaler\n",
    "\n",
    "import math"
   ]
  },
  {
   "cell_type": "code",
   "execution_count": 2,
   "metadata": {},
   "outputs": [],
   "source": [
    "def top10_accuracy_scorer(gt_idx, top10_idx):\n",
    "\n",
    "    aciertos = 0\n",
    "\n",
    "    for arr, gt in zip(top10_idx,gt_idx):\n",
    "        if gt in arr:\n",
    "            aciertos+=1\n",
    "            \n",
    "    top_10_accuracy =  aciertos / len(gt_idx)\n",
    "    return top_10_accuracy"
   ]
  },
  {
   "source": [
    "## DATA"
   ],
   "cell_type": "markdown",
   "metadata": {}
  },
  {
   "cell_type": "code",
   "execution_count": 3,
   "metadata": {
    "tags": []
   },
   "outputs": [
    {
     "output_type": "stream",
     "name": "stdout",
     "text": [
      "Train:  (67447, 43)\nTest:  (18816, 42)\n"
     ]
    }
   ],
   "source": [
    "train = pd.read_csv('../data/processed/train.csv')\n",
    "test = pd.read_csv('../data/processed/test.csv')\n",
    "print('Train: ',train.shape)\n",
    "print('Test: ',test.shape)"
   ]
  },
  {
   "source": [
    "## TOKENIZER"
   ],
   "cell_type": "markdown",
   "metadata": {}
  },
  {
   "cell_type": "code",
   "execution_count": 5,
   "metadata": {},
   "outputs": [
    {
     "output_type": "display_data",
     "data": {
      "text/plain": "HBox(children=(FloatProgress(value=0.0, max=67447.0), HTML(value='')))",
      "application/vnd.jupyter.widget-view+json": {
       "version_major": 2,
       "version_minor": 0,
       "model_id": "e6ea6ef64844436e9b925692f4409e0a"
      }
     },
     "metadata": {}
    },
    {
     "output_type": "stream",
     "name": "stdout",
     "text": [
      "\n"
     ]
    },
    {
     "output_type": "display_data",
     "data": {
      "text/plain": "HBox(children=(FloatProgress(value=0.0, max=18816.0), HTML(value='')))",
      "application/vnd.jupyter.widget-view+json": {
       "version_major": 2,
       "version_minor": 0,
       "model_id": "a528d1f0cc6f42e98f037ed72801aadf"
      }
     },
     "metadata": {}
    },
    {
     "output_type": "stream",
     "name": "stdout",
     "text": [
      "\n"
     ]
    }
   ],
   "source": [
    "from Bio.Seq import Seq\n",
    "\n",
    "def dna_to_protein(sequences):\n",
    "    seqs = []\n",
    "    for seq in tqdm(sequences,total=len(sequences)):\n",
    "        try:\n",
    "            seqs.append(str(Seq(seq).translate()))\n",
    "        except e:\n",
    "            print(e)\n",
    "            print(seq)\n",
    "            print('error')\n",
    "    return seqs\n",
    "\n",
    "train_protein = dna_to_protein(train.sequence)\n",
    "test_protein = dna_to_protein(test.sequence)"
   ]
  },
  {
   "cell_type": "code",
   "execution_count": 6,
   "metadata": {},
   "outputs": [
    {
     "output_type": "display_data",
     "data": {
      "text/plain": "HBox(children=(FloatProgress(value=0.0, max=67447.0), HTML(value='')))",
      "application/vnd.jupyter.widget-view+json": {
       "version_major": 2,
       "version_minor": 0,
       "model_id": "e1c8205a9bc44655b3b490ee7373d4db"
      }
     },
     "metadata": {}
    },
    {
     "output_type": "stream",
     "name": "stdout",
     "text": [
      "\n"
     ]
    },
    {
     "output_type": "display_data",
     "data": {
      "text/plain": "HBox(children=(FloatProgress(value=0.0, max=18816.0), HTML(value='')))",
      "application/vnd.jupyter.widget-view+json": {
       "version_major": 2,
       "version_minor": 0,
       "model_id": "7bbfbe9ddc9440099fe47f378732d3ff"
      }
     },
     "metadata": {}
    },
    {
     "output_type": "stream",
     "name": "stdout",
     "text": [
      "\n"
     ]
    }
   ],
   "source": [
    "filename = 'corpus.txt'\n",
    "\n",
    "with open(filename,'w+') as f:\n",
    "    for i in tqdm(range(len(train_protein)),total=len(train_protein)):\n",
    "            f.write(train_protein[i])\n",
    "            f.write('\\n')\n",
    "    for i in tqdm(range(len(test_protein)),total=len(test_protein)):\n",
    "            f.write(test_protein[i])\n",
    "            f.write('\\n')"
   ]
  },
  {
   "cell_type": "code",
   "execution_count": 7,
   "metadata": {},
   "outputs": [
    {
     "output_type": "stream",
     "name": "stdout",
     "text": [
      "CPU times: user 27min 33s, sys: 12.9 s, total: 27min 46s\nWall time: 5min 16s\n"
     ]
    }
   ],
   "source": [
    "%%time\n",
    "from tokenizers import ByteLevelBPETokenizer, SentencePieceBPETokenizer\n",
    "# Initialize a tokenizer\n",
    "tokenizer = SentencePieceBPETokenizer()\n",
    "\n",
    "# Customize training\n",
    "tokenizer.train(files='corpus.txt', vocab_size=5000, min_frequency=1)"
   ]
  },
  {
   "cell_type": "code",
   "execution_count": 8,
   "metadata": {},
   "outputs": [
    {
     "output_type": "execute_result",
     "data": {
      "text/plain": [
       "['../data/features/bert/tok_especial/vocab.json',\n",
       " '../data/features/bert/tok_especial/merges.txt']"
      ]
     },
     "metadata": {},
     "execution_count": 8
    }
   ],
   "source": [
    "tokenizer.save_model('../data/features/bert/tok_especial/')"
   ]
  },
  {
   "cell_type": "code",
   "execution_count": 14,
   "metadata": {},
   "outputs": [],
   "source": [
    "from transformers import PreTrainedTokenizerFast\n",
    "\n",
    "#tokenizer = PreTrainedTokenizerFast.from_pretrained(\"../data/features/bert/tok_especial/\")\n",
    "vocab_size = 5000\n",
    "\n",
    "def get_seq_emb(sequences):\n",
    "\n",
    "    df = []\n",
    "\n",
    "    for seq in tqdm(sequences,total=len(sequences)):\n",
    "        input_ids = tokenizer.encode(seq).ids\n",
    "        emb = np.zeros(vocab_size,dtype=np.int16)\n",
    "        for id_ in input_ids:\n",
    "            emb[id_] += 1\n",
    "        df.append(emb)\n",
    "    \n",
    "    df = pd.DataFrame(df,dtype=np.int16)\n",
    "    print(df.shape)\n",
    "\n",
    "    return df"
   ]
  },
  {
   "cell_type": "code",
   "execution_count": 4,
   "metadata": {
    "tags": []
   },
   "outputs": [
    {
     "output_type": "error",
     "ename": "NameError",
     "evalue": "name 'get_seq_emb' is not defined",
     "traceback": [
      "\u001b[1;31m---------------------------------------------------------------------------\u001b[0m",
      "\u001b[1;31mNameError\u001b[0m                                 Traceback (most recent call last)",
      "\u001b[1;32m<ipython-input-4-53ed4c0a65fe>\u001b[0m in \u001b[0;36m<module>\u001b[1;34m\u001b[0m\n\u001b[1;32m----> 1\u001b[1;33m \u001b[0mtrain_emb\u001b[0m \u001b[1;33m=\u001b[0m \u001b[0mget_seq_emb\u001b[0m\u001b[1;33m(\u001b[0m\u001b[0mtrain_protein\u001b[0m\u001b[1;33m)\u001b[0m\u001b[1;33m\u001b[0m\u001b[1;33m\u001b[0m\u001b[0m\n\u001b[0m\u001b[0;32m      2\u001b[0m \u001b[0mtrain_emb\u001b[0m\u001b[1;33m[\u001b[0m\u001b[1;34m'sequence_id'\u001b[0m\u001b[1;33m]\u001b[0m \u001b[1;33m=\u001b[0m \u001b[0mtrain\u001b[0m\u001b[1;33m.\u001b[0m\u001b[0msequence_id\u001b[0m\u001b[1;33m.\u001b[0m\u001b[0mvalues\u001b[0m\u001b[1;33m\u001b[0m\u001b[1;33m\u001b[0m\u001b[0m\n\u001b[0;32m      3\u001b[0m \u001b[0mtest_emb\u001b[0m \u001b[1;33m=\u001b[0m \u001b[0mget_seq_emb\u001b[0m\u001b[1;33m(\u001b[0m\u001b[0mtest_protein\u001b[0m\u001b[1;33m)\u001b[0m\u001b[1;33m\u001b[0m\u001b[1;33m\u001b[0m\u001b[0m\n\u001b[0;32m      4\u001b[0m \u001b[0mtest_emb\u001b[0m\u001b[1;33m[\u001b[0m\u001b[1;34m'sequence_id'\u001b[0m\u001b[1;33m]\u001b[0m \u001b[1;33m=\u001b[0m \u001b[0mtest\u001b[0m\u001b[1;33m.\u001b[0m\u001b[0msequence_id\u001b[0m\u001b[1;33m.\u001b[0m\u001b[0mvalues\u001b[0m\u001b[1;33m\u001b[0m\u001b[1;33m\u001b[0m\u001b[0m\n",
      "\u001b[1;31mNameError\u001b[0m: name 'get_seq_emb' is not defined"
     ]
    }
   ],
   "source": [
    "train_emb = get_seq_emb(train_protein)\n",
    "train_emb['sequence_id'] = train.sequence_id.values\n",
    "test_emb = get_seq_emb(test_protein)\n",
    "test_emb['sequence_id'] = test.sequence_id.values"
   ]
  },
  {
   "cell_type": "code",
   "execution_count": 16,
   "metadata": {
    "tags": []
   },
   "outputs": [
    {
     "output_type": "stream",
     "name": "stdout",
     "text": [
      "CPU times: user 8.94 s, sys: 2.52 s, total: 11.5 s\nWall time: 11.5 s\n"
     ]
    }
   ],
   "source": [
    "%%time\n",
    "scaler = RobustScaler()\n",
    "df = pd.concat([train_emb,test_emb],axis=0)\n",
    "scaler.fit(df.iloc[:,:-1])\n",
    "\n",
    "\n",
    "df = pd.DataFrame(scaler.transform(train_emb.iloc[:,:-1]))\n",
    "df['sequence_id'] = train_emb['sequence_id']\n",
    "train_emb = df\n",
    "\n",
    "df = pd.DataFrame(scaler.transform(test_emb.iloc[:,:-1]))\n",
    "df['sequence_id'] = test_emb['sequence_id']\n",
    "test_emb = df"
   ]
  },
  {
   "cell_type": "code",
   "execution_count": 17,
   "metadata": {},
   "outputs": [],
   "source": [
    "train_emb.to_csv('../data/features/bert/tok_especial/train_emb.csv',index=False)\n",
    "test_emb.to_csv('../data/features/bert/tok_especial/test_emb.csv',index=False)"
   ]
  },
  {
   "cell_type": "code",
   "execution_count": 4,
   "metadata": {},
   "outputs": [],
   "source": [
    "train_emb = pd.read_csv('../data/features/bert/tok_especial/train_emb.csv')\n",
    "test_emb = pd.read_csv('../data/features/bert/tok_especial/test_emb.csv')"
   ]
  },
  {
   "source": [
    "## N-GRAMS"
   ],
   "cell_type": "markdown",
   "metadata": {}
  },
  {
   "source": [
    "train_ngram_features = pd.read_csv('../data/features/ngram/5_ngram_train.csv')\n",
    "test_ngram_features = pd.read_csv('../data/features/ngram/5_ngram_test.csv')\n",
    "\n",
    "print('Train: ',train_ngram_features.shape)\n",
    "print('Test: ',test_ngram_features.shape)"
   ],
   "cell_type": "code",
   "metadata": {
    "tags": []
   },
   "execution_count": 5,
   "outputs": [
    {
     "output_type": "stream",
     "name": "stdout",
     "text": [
      "Train:  (67447, 3906)\nTest:  (18816, 3906)\n"
     ]
    }
   ]
  },
  {
   "source": [
    "%%time\n",
    "scaler = RobustScaler()\n",
    "df = pd.concat([train_ngram_features,test_ngram_features],axis=0)\n",
    "scaler.fit(df.iloc[:,1:])\n",
    "\n",
    "\n",
    "train_ngram = pd.DataFrame(scaler.transform(train_ngram_features.iloc[:,1:]))\n",
    "train_ngram['sequence_id'] = train_ngram_features['sequence_id']\n",
    "\n",
    "\n",
    "test_ngram = pd.DataFrame(scaler.transform(test_ngram_features.iloc[:,1:]))\n",
    "test_ngram['sequence_id'] = test_ngram_features['sequence_id']\n"
   ],
   "cell_type": "code",
   "metadata": {
    "tags": []
   },
   "execution_count": 6,
   "outputs": [
    {
     "output_type": "stream",
     "name": "stdout",
     "text": [
      "Wall time: 22.2 s\n"
     ]
    }
   ]
  },
  {
   "source": [
    "## BLAST"
   ],
   "cell_type": "markdown",
   "metadata": {}
  },
  {
   "cell_type": "code",
   "execution_count": 7,
   "metadata": {
    "tags": []
   },
   "outputs": [
    {
     "output_type": "stream",
     "name": "stdout",
     "text": [
      "(66739, 6571)\n",
      "(18606, 6571)\n"
     ]
    }
   ],
   "source": [
    "path = '../data/features/blast/processed/train.csv'\n",
    "train_blast = pd.read_csv(path)\n",
    "print(train_blast.shape)\n",
    "\n",
    "path = '../data/features/blast/processed/test.csv'\n",
    "test_blast = pd.read_csv(path)\n",
    "print(test_blast.shape)"
   ]
  },
  {
   "cell_type": "code",
   "execution_count": 8,
   "metadata": {
    "tags": []
   },
   "outputs": [
    {
     "output_type": "stream",
     "name": "stdout",
     "text": [
      "Wall time: 1min 10s\n"
     ]
    }
   ],
   "source": [
    "%%time\n",
    "scaler = RobustScaler()\n",
    "df = pd.concat([train_blast,test_blast],axis=0)\n",
    "scaler.fit(df.iloc[:,:-1])\n",
    "\n",
    "df = pd.DataFrame(scaler.transform(train_blast.iloc[:,:-1]))\n",
    "df['sequence_id'] = train_blast['sequence_id']\n",
    "train_blast = df\n",
    "\n",
    "\n",
    "df = pd.DataFrame(scaler.transform(test_blast.iloc[:,:-1]))\n",
    "df['sequence_id'] = test_blast['sequence_id']\n",
    "test_blast = df"
   ]
  },
  {
   "cell_type": "code",
   "execution_count": 9,
   "metadata": {
    "tags": []
   },
   "outputs": [
    {
     "output_type": "stream",
     "name": "stdout",
     "text": [
      "(67447, 43)\n(18816, 42)\n(66739, 6571)\n(18606, 6571)\n(67447, 2501)\n(18816, 2501)\n(67447, 3906)\n(18816, 3906)\n"
     ]
    }
   ],
   "source": [
    "print(train.shape)\n",
    "print(test.shape)\n",
    "\n",
    "print(train_blast.shape)\n",
    "print(test_blast.shape)\n",
    "\n",
    "print(train_emb.shape)\n",
    "print(test_emb.shape)\n",
    "\n",
    "print(train_ngram.shape)\n",
    "print(test_ngram.shape)"
   ]
  },
  {
   "cell_type": "code",
   "execution_count": 10,
   "metadata": {
    "tags": []
   },
   "outputs": [
    {
     "output_type": "stream",
     "name": "stdout",
     "text": [
      "(67447, 13018)\n(18816, 13017)\n"
     ]
    }
   ],
   "source": [
    "train = pd.merge(train,train_blast,how='outer',on='sequence_id')\n",
    "test = pd.merge(test,test_blast,how='outer',on='sequence_id')\n",
    "\n",
    "train = pd.merge(train,train_emb,how='inner',on='sequence_id')\n",
    "test = pd.merge(test,test_emb,how='inner',on='sequence_id')\n",
    "\n",
    "train = pd.merge(train,train_ngram,how='inner',on='sequence_id')\n",
    "test = pd.merge(test,test_ngram,how='inner',on='sequence_id')\n",
    "\n",
    "train.fillna(0,inplace=True)\n",
    "test.fillna(0,inplace=True)\n",
    "\n",
    "print(train.shape)\n",
    "print(test.shape)\n",
    "\n",
    "del df, train_emb,test_emb, train_blast,test_blast, scaler, train_ngram_features, test_ngram_features"
   ]
  },
  {
   "cell_type": "code",
   "execution_count": 11,
   "metadata": {},
   "outputs": [],
   "source": [
    "train.drop(['sequence','sequence_id'],inplace=True,axis=1)\n",
    "test.drop(['sequence_id','sequence'],inplace=True,axis=1)"
   ]
  },
  {
   "cell_type": "code",
   "execution_count": 12,
   "metadata": {},
   "outputs": [],
   "source": [
    "X = train.drop('target',inplace=False,axis=1)\n",
    "y = train['target']"
   ]
  },
  {
   "cell_type": "code",
   "execution_count": 13,
   "metadata": {
    "tags": []
   },
   "outputs": [],
   "source": [
    "\"\"\"\n",
    "from imblearn.over_sampling import RandomOverSampler\n",
    "ros = RandomOverSampler(random_state=42,sampling_strategy='not majority')\n",
    "X_res, y_res = ros.fit_resample(X, y)\n",
    "print(X_res.shape)\n",
    "\"\"\"\n",
    "#K = 5\n",
    "#skf = StratifiedKFold(n_splits=K,shuffle=True,random_state=420)\n",
    "X_train, X_valid, y_train, y_valid = train_test_split(X, y, test_size=0.2, random_state=420,stratify=y)"
   ]
  },
  {
   "cell_type": "code",
   "execution_count": null,
   "metadata": {},
   "outputs": [],
   "source": []
  },
  {
   "cell_type": "code",
   "execution_count": 14,
   "metadata": {
    "tags": []
   },
   "outputs": [],
   "source": [
    "labs = pd.read_csv('../data/raw/train_labels.csv').columns[1:]\n",
    "\n",
    "lab_pos = dict()\n",
    "i = 0\n",
    "for lab in labs:\n",
    "    lab_pos[lab]=i\n",
    "    i+=1\n",
    "\n",
    "def get_targets(y):\n",
    "    targets = []\n",
    "    for lab in y:\n",
    "        tmp = np.zeros(len(labs))\n",
    "        idx = lab_pos[lab]\n",
    "        tmp[idx] = 1\n",
    "        targets.append(tmp)\n",
    "    targets = torch.tensor(targets)\n",
    "    print(targets.shape)\n",
    "    return targets"
   ]
  },
  {
   "cell_type": "code",
   "execution_count": 15,
   "metadata": {
    "tags": []
   },
   "outputs": [
    {
     "output_type": "stream",
     "name": "stdout",
     "text": [
      "torch.Size([53957, 1314])\n",
      "torch.Size([13490, 1314])\n",
      "Wall time: 1min 53s\n"
     ]
    }
   ],
   "source": [
    "%%time\n",
    "tmp = [torch.from_numpy(arr).float() for arr in X_train.values]\n",
    "train_dataset = torch.utils.data.TensorDataset(torch.stack(tmp),get_targets(y_train))\n",
    "tmp = [torch.from_numpy(arr).float() for arr in X_valid.values]\n",
    "valid_dataset = torch.utils.data.TensorDataset(torch.stack(tmp),get_targets(y_valid))\n",
    "tmp = [torch.from_numpy(arr).float() for arr in test.values]\n",
    "test_dataset = torch.utils.data.TensorDataset(torch.stack(tmp))"
   ]
  },
  {
   "cell_type": "code",
   "execution_count": 16,
   "metadata": {},
   "outputs": [],
   "source": [
    "train_dataloader = torch.utils.data.DataLoader(\n",
    "    dataset = train_dataset, \n",
    "    batch_size = 128, \n",
    "    sampler = torch.utils.data.RandomSampler(train_dataset)\n",
    ")"
   ]
  },
  {
   "cell_type": "code",
   "execution_count": 17,
   "metadata": {},
   "outputs": [],
   "source": [
    "valid_dataloader = torch.utils.data.DataLoader(\n",
    "    dataset = valid_dataset, \n",
    "    batch_size = 128, \n",
    "    sampler = torch.utils.data.SequentialSampler(valid_dataset)\n",
    ")"
   ]
  },
  {
   "cell_type": "code",
   "execution_count": 18,
   "metadata": {},
   "outputs": [],
   "source": [
    "test_dataloader = torch.utils.data.DataLoader(\n",
    "    dataset = test_dataset, \n",
    "    batch_size = 128, \n",
    "    sampler = torch.utils.data.SequentialSampler(test_dataset)\n",
    ")"
   ]
  },
  {
   "cell_type": "code",
   "execution_count": 19,
   "metadata": {
    "tags": []
   },
   "outputs": [
    {
     "output_type": "stream",
     "name": "stdout",
     "text": [
      "(53957, 13015)\n(13490, 13015)\n(18816, 13015)\n(53957,)\n(13490,)\n"
     ]
    }
   ],
   "source": [
    "print(X_train.shape)\n",
    "print(X_valid.shape)\n",
    "print(test.shape)\n",
    "\n",
    "print(y_train.shape)\n",
    "print(y_valid.shape)"
   ]
  },
  {
   "cell_type": "code",
   "execution_count": 20,
   "metadata": {},
   "outputs": [],
   "source": [
    "%load_ext autoreload\n",
    "%autoreload 2\n",
    "\n",
    "from models.BlastEncoder import Blast\n",
    "from models.TokEncoder import Tok\n",
    "from models.NGramEncoder import NGram\n",
    "from models.Encoder import Encoder\n"
   ]
  },
  {
   "cell_type": "code",
   "execution_count": 76,
   "metadata": {
    "tags": []
   },
   "outputs": [
    {
     "output_type": "stream",
     "name": "stdout",
     "text": [
      "Tesla V100-SXM2-16GB\n_CudaDeviceProperties(name='Tesla V100-SXM2-16GB', major=7, minor=0, total_memory=16160MB, multi_processor_count=80)\n"
     ]
    }
   ],
   "source": [
    "device = torch.device('cuda')\n",
    "print(torch.cuda.get_device_name(0))\n",
    "print(torch.cuda.get_device_properties(0))\n",
    "model = NGram().to(device)\n",
    "scaler = torch.cuda.amp.GradScaler()"
   ]
  },
  {
   "cell_type": "code",
   "execution_count": 70,
   "metadata": {
    "tags": []
   },
   "outputs": [],
   "source": [
    "epochs = 50\n",
    "\n",
    "optimizer = torch.optim.AdamW(model.parameters(), lr=5e-5)\n",
    "\n",
    "#scheduler = torch.optim.lr_scheduler.ReduceLROnPlateau(optimizer,patience=25,mode='max')\n",
    "\n",
    "folder = model.folder"
   ]
  },
  {
   "cell_type": "code",
   "execution_count": 71,
   "metadata": {
    "tags": []
   },
   "outputs": [
    {
     "output_type": "stream",
     "name": "stdout",
     "text": [
      "TRAINING...\n"
     ]
    },
    {
     "output_type": "display_data",
     "data": {
      "text/plain": "HBox(children=(FloatProgress(value=0.0, max=50.0), HTML(value='')))",
      "application/vnd.jupyter.widget-view+json": {
       "version_major": 2,
       "version_minor": 0,
       "model_id": "3c95cac03008497a83774817ef80ceaf"
      }
     },
     "metadata": {}
    },
    {
     "output_type": "display_data",
     "data": {
      "text/plain": "HBox(children=(FloatProgress(value=0.0, max=422.0), HTML(value='')))",
      "application/vnd.jupyter.widget-view+json": {
       "version_major": 2,
       "version_minor": 0,
       "model_id": "f39a256cc0814536be91ed1525de5372"
      }
     },
     "metadata": {}
    },
    {
     "output_type": "stream",
     "name": "stdout",
     "text": [
      "\nEpoch:  0  train_loss  0.3521835948671634  dev_loss  0.11494939693180072\n"
     ]
    },
    {
     "output_type": "display_data",
     "data": {
      "text/plain": "HBox(children=(FloatProgress(value=0.0, max=422.0), HTML(value='')))",
      "application/vnd.jupyter.widget-view+json": {
       "version_major": 2,
       "version_minor": 0,
       "model_id": "cd0bfbf29806412dabe75b5b25a1438b"
      }
     },
     "metadata": {}
    },
    {
     "output_type": "stream",
     "name": "stdout",
     "text": [
      "\nEpoch:  1  train_loss  0.2533338158501762  dev_loss  0.039663489350453524\n"
     ]
    },
    {
     "output_type": "display_data",
     "data": {
      "text/plain": "HBox(children=(FloatProgress(value=0.0, max=422.0), HTML(value='')))",
      "application/vnd.jupyter.widget-view+json": {
       "version_major": 2,
       "version_minor": 0,
       "model_id": "c52a03a8f51c4a9e9ec2b850b1cef58b"
      }
     },
     "metadata": {}
    },
    {
     "output_type": "stream",
     "name": "stdout",
     "text": [
      "\nEpoch:  2  train_loss  0.226839512308521  dev_loss  0.06723202759919523\n"
     ]
    },
    {
     "output_type": "display_data",
     "data": {
      "text/plain": "HBox(children=(FloatProgress(value=0.0, max=422.0), HTML(value='')))",
      "application/vnd.jupyter.widget-view+json": {
       "version_major": 2,
       "version_minor": 0,
       "model_id": "4f5472ad06a14987957092c2f1c15a22"
      }
     },
     "metadata": {}
    },
    {
     "output_type": "stream",
     "name": "stdout",
     "text": [
      "\nEpoch:  3  train_loss  0.20771620504257945  dev_loss  0.035492148250341415\n"
     ]
    },
    {
     "output_type": "display_data",
     "data": {
      "text/plain": "HBox(children=(FloatProgress(value=0.0, max=422.0), HTML(value='')))",
      "application/vnd.jupyter.widget-view+json": {
       "version_major": 2,
       "version_minor": 0,
       "model_id": "313e354a281c4666991fc48d51682a44"
      }
     },
     "metadata": {}
    },
    {
     "output_type": "stream",
     "name": "stdout",
     "text": [
      "\nEpoch:  4  train_loss  0.19063303688920646  dev_loss  0.03299721718138578\n"
     ]
    },
    {
     "output_type": "display_data",
     "data": {
      "text/plain": "HBox(children=(FloatProgress(value=0.0, max=422.0), HTML(value='')))",
      "application/vnd.jupyter.widget-view+json": {
       "version_major": 2,
       "version_minor": 0,
       "model_id": "63163650a7054573ac285d11e9d39d33"
      }
     },
     "metadata": {}
    },
    {
     "output_type": "stream",
     "name": "stdout",
     "text": [
      "\nEpoch:  5  train_loss  0.17398829883079253  dev_loss  0.07279015142394572\n"
     ]
    },
    {
     "output_type": "display_data",
     "data": {
      "text/plain": "HBox(children=(FloatProgress(value=0.0, max=422.0), HTML(value='')))",
      "application/vnd.jupyter.widget-view+json": {
       "version_major": 2,
       "version_minor": 0,
       "model_id": "308b9d2f294d40459f8de29b13b82e15"
      }
     },
     "metadata": {}
    },
    {
     "output_type": "stream",
     "name": "stdout",
     "text": [
      "\nEpoch:  6  train_loss  0.1621250379742322  dev_loss  0.022993338059912733\n"
     ]
    },
    {
     "output_type": "display_data",
     "data": {
      "text/plain": "HBox(children=(FloatProgress(value=0.0, max=422.0), HTML(value='')))",
      "application/vnd.jupyter.widget-view+json": {
       "version_major": 2,
       "version_minor": 0,
       "model_id": "4194c5c09cb3498cb89bc4821f6a3fa4"
      }
     },
     "metadata": {}
    },
    {
     "output_type": "stream",
     "name": "stdout",
     "text": [
      "\nEpoch:  7  train_loss  0.14359596077688214  dev_loss  0.02349440446820389\n"
     ]
    },
    {
     "output_type": "display_data",
     "data": {
      "text/plain": "HBox(children=(FloatProgress(value=0.0, max=422.0), HTML(value='')))",
      "application/vnd.jupyter.widget-view+json": {
       "version_major": 2,
       "version_minor": 0,
       "model_id": "0679d888adb74a9aa33d59f55163eba1"
      }
     },
     "metadata": {}
    },
    {
     "output_type": "stream",
     "name": "stdout",
     "text": [
      "\nEpoch:  8  train_loss  0.13569366517454667  dev_loss  0.024096862964180052\n"
     ]
    },
    {
     "output_type": "display_data",
     "data": {
      "text/plain": "HBox(children=(FloatProgress(value=0.0, max=422.0), HTML(value='')))",
      "application/vnd.jupyter.widget-view+json": {
       "version_major": 2,
       "version_minor": 0,
       "model_id": "0f683bb50900459e8e49c867ea11befa"
      }
     },
     "metadata": {}
    },
    {
     "output_type": "stream",
     "name": "stdout",
     "text": [
      "\nEpoch:  9  train_loss  0.12405313636613259  dev_loss  0.028657289703382927\n"
     ]
    },
    {
     "output_type": "display_data",
     "data": {
      "text/plain": "HBox(children=(FloatProgress(value=0.0, max=422.0), HTML(value='')))",
      "application/vnd.jupyter.widget-view+json": {
       "version_major": 2,
       "version_minor": 0,
       "model_id": "8858f1f3fce3460f9a1b64241b9215c6"
      }
     },
     "metadata": {}
    },
    {
     "output_type": "stream",
     "name": "stdout",
     "text": [
      "\nEpoch:  10  train_loss  0.1390996795783252  dev_loss  0.05467450505971503\n"
     ]
    },
    {
     "output_type": "display_data",
     "data": {
      "text/plain": "HBox(children=(FloatProgress(value=0.0, max=422.0), HTML(value='')))",
      "application/vnd.jupyter.widget-view+json": {
       "version_major": 2,
       "version_minor": 0,
       "model_id": "ebba74e5ada74fe78b85ed41e7de02c5"
      }
     },
     "metadata": {}
    },
    {
     "output_type": "stream",
     "name": "stdout",
     "text": [
      "\nEpoch:  11  train_loss  0.11030829216296215  dev_loss  0.026930074809359855\n"
     ]
    },
    {
     "output_type": "display_data",
     "data": {
      "text/plain": "HBox(children=(FloatProgress(value=0.0, max=422.0), HTML(value='')))",
      "application/vnd.jupyter.widget-view+json": {
       "version_major": 2,
       "version_minor": 0,
       "model_id": "e40700e9d7044d6989d06a8bada4c305"
      }
     },
     "metadata": {}
    },
    {
     "output_type": "stream",
     "name": "stdout",
     "text": [
      "\nEpoch:  12  train_loss  0.12092926663509901  dev_loss  0.02776731280800031\n"
     ]
    },
    {
     "output_type": "display_data",
     "data": {
      "text/plain": "HBox(children=(FloatProgress(value=0.0, max=422.0), HTML(value='')))",
      "application/vnd.jupyter.widget-view+json": {
       "version_major": 2,
       "version_minor": 0,
       "model_id": "82c44ea5e94d428d94807daaff272eb2"
      }
     },
     "metadata": {}
    },
    {
     "output_type": "stream",
     "name": "stdout",
     "text": [
      "\nEpoch:  13  train_loss  0.09502594541069738  dev_loss  0.024230599352697127\n"
     ]
    },
    {
     "output_type": "display_data",
     "data": {
      "text/plain": "HBox(children=(FloatProgress(value=0.0, max=422.0), HTML(value='')))",
      "application/vnd.jupyter.widget-view+json": {
       "version_major": 2,
       "version_minor": 0,
       "model_id": "8c62d8f30d964f5b8e57e1b210bdf2de"
      }
     },
     "metadata": {}
    },
    {
     "output_type": "stream",
     "name": "stdout",
     "text": [
      "\nEpoch:  14  train_loss  0.09058093835303993  dev_loss  0.02359189688652551\n"
     ]
    },
    {
     "output_type": "display_data",
     "data": {
      "text/plain": "HBox(children=(FloatProgress(value=0.0, max=422.0), HTML(value='')))",
      "application/vnd.jupyter.widget-view+json": {
       "version_major": 2,
       "version_minor": 0,
       "model_id": "af199dd78691425c9ce2b4ae2cd109e5"
      }
     },
     "metadata": {}
    },
    {
     "output_type": "stream",
     "name": "stdout",
     "text": [
      "\nEpoch:  15  train_loss  0.08249820692473538  dev_loss  0.029875440991857426\n"
     ]
    },
    {
     "output_type": "display_data",
     "data": {
      "text/plain": "HBox(children=(FloatProgress(value=0.0, max=422.0), HTML(value='')))",
      "application/vnd.jupyter.widget-view+json": {
       "version_major": 2,
       "version_minor": 0,
       "model_id": "df34ecfb02524dfb843abb6ed315bebc"
      }
     },
     "metadata": {}
    },
    {
     "output_type": "stream",
     "name": "stdout",
     "text": [
      "\nEpoch:  16  train_loss  0.07648273465395751  dev_loss  0.02595010014618335\n"
     ]
    },
    {
     "output_type": "display_data",
     "data": {
      "text/plain": "HBox(children=(FloatProgress(value=0.0, max=422.0), HTML(value='')))",
      "application/vnd.jupyter.widget-view+json": {
       "version_major": 2,
       "version_minor": 0,
       "model_id": "4e76c2e88e2b41299a4a1ba1e810d0a0"
      }
     },
     "metadata": {}
    },
    {
     "output_type": "stream",
     "name": "stdout",
     "text": [
      "\nEpoch:  17  train_loss  0.07121913831336733  dev_loss  0.02420545713405828\n"
     ]
    },
    {
     "output_type": "display_data",
     "data": {
      "text/plain": "HBox(children=(FloatProgress(value=0.0, max=422.0), HTML(value='')))",
      "application/vnd.jupyter.widget-view+json": {
       "version_major": 2,
       "version_minor": 0,
       "model_id": "6afbab44be0d4477ab439f65951c3061"
      }
     },
     "metadata": {}
    },
    {
     "output_type": "stream",
     "name": "stdout",
     "text": [
      "\nEpoch:  18  train_loss  0.09153554268110703  dev_loss  0.1006230172149989\n"
     ]
    },
    {
     "output_type": "display_data",
     "data": {
      "text/plain": "HBox(children=(FloatProgress(value=0.0, max=422.0), HTML(value='')))",
      "application/vnd.jupyter.widget-view+json": {
       "version_major": 2,
       "version_minor": 0,
       "model_id": "1e30bafee18541f1a2ceb0adf4dde89d"
      }
     },
     "metadata": {}
    },
    {
     "output_type": "stream",
     "name": "stdout",
     "text": [
      "\nEpoch:  19  train_loss  0.0715065225164331  dev_loss  0.05509508474647593\n"
     ]
    },
    {
     "output_type": "display_data",
     "data": {
      "text/plain": "HBox(children=(FloatProgress(value=0.0, max=422.0), HTML(value='')))",
      "application/vnd.jupyter.widget-view+json": {
       "version_major": 2,
       "version_minor": 0,
       "model_id": "65998141a79048848f4a0b1fe2dfe809"
      }
     },
     "metadata": {}
    },
    {
     "output_type": "stream",
     "name": "stdout",
     "text": [
      "\nEpoch:  20  train_loss  0.060434152747358756  dev_loss  0.022676106694401527\n"
     ]
    },
    {
     "output_type": "display_data",
     "data": {
      "text/plain": "HBox(children=(FloatProgress(value=0.0, max=422.0), HTML(value='')))",
      "application/vnd.jupyter.widget-view+json": {
       "version_major": 2,
       "version_minor": 0,
       "model_id": "6f23b9104de946e0997bd910a89f3f62"
      }
     },
     "metadata": {}
    },
    {
     "output_type": "stream",
     "name": "stdout",
     "text": [
      "\nEpoch:  21  train_loss  0.05514720930845887  dev_loss  0.018570695642609984\n"
     ]
    },
    {
     "output_type": "display_data",
     "data": {
      "text/plain": "HBox(children=(FloatProgress(value=0.0, max=422.0), HTML(value='')))",
      "application/vnd.jupyter.widget-view+json": {
       "version_major": 2,
       "version_minor": 0,
       "model_id": "6e87be3a28d748b8b0d8d0e1f2e27378"
      }
     },
     "metadata": {}
    },
    {
     "output_type": "stream",
     "name": "stdout",
     "text": [
      "\nEpoch:  22  train_loss  0.04788026902427394  dev_loss  0.025251537016561243\n"
     ]
    },
    {
     "output_type": "display_data",
     "data": {
      "text/plain": "HBox(children=(FloatProgress(value=0.0, max=422.0), HTML(value='')))",
      "application/vnd.jupyter.widget-view+json": {
       "version_major": 2,
       "version_minor": 0,
       "model_id": "84e40bdbe5874a66a9c8062d3c349b62"
      }
     },
     "metadata": {}
    },
    {
     "output_type": "stream",
     "name": "stdout",
     "text": [
      "\nEpoch:  23  train_loss  0.0714615186173204  dev_loss  0.07320416374068682\n"
     ]
    },
    {
     "output_type": "display_data",
     "data": {
      "text/plain": "HBox(children=(FloatProgress(value=0.0, max=422.0), HTML(value='')))",
      "application/vnd.jupyter.widget-view+json": {
       "version_major": 2,
       "version_minor": 0,
       "model_id": "4a0abe06884f401d9b767002473cf3ed"
      }
     },
     "metadata": {}
    },
    {
     "output_type": "stream",
     "name": "stdout",
     "text": [
      "\nEpoch:  24  train_loss  0.06316014662190778  dev_loss  0.03188860686305834\n"
     ]
    },
    {
     "output_type": "display_data",
     "data": {
      "text/plain": "HBox(children=(FloatProgress(value=0.0, max=422.0), HTML(value='')))",
      "application/vnd.jupyter.widget-view+json": {
       "version_major": 2,
       "version_minor": 0,
       "model_id": "8982119517554d2da03d62c0e2000b7b"
      }
     },
     "metadata": {}
    },
    {
     "output_type": "stream",
     "name": "stdout",
     "text": [
      "\nEpoch:  25  train_loss  0.04477638190047224  dev_loss  0.02346726688144564\n"
     ]
    },
    {
     "output_type": "display_data",
     "data": {
      "text/plain": "HBox(children=(FloatProgress(value=0.0, max=422.0), HTML(value='')))",
      "application/vnd.jupyter.widget-view+json": {
       "version_major": 2,
       "version_minor": 0,
       "model_id": "ac81827debd54175a2e9a80f2e6df61d"
      }
     },
     "metadata": {}
    },
    {
     "output_type": "stream",
     "name": "stdout",
     "text": [
      "\nEpoch:  26  train_loss  0.03941032764285591  dev_loss  0.017435650791035217\n"
     ]
    },
    {
     "output_type": "display_data",
     "data": {
      "text/plain": "HBox(children=(FloatProgress(value=0.0, max=422.0), HTML(value='')))",
      "application/vnd.jupyter.widget-view+json": {
       "version_major": 2,
       "version_minor": 0,
       "model_id": "1a9c34b78a0a4dddbadb1fc67aace970"
      }
     },
     "metadata": {}
    },
    {
     "output_type": "stream",
     "name": "stdout",
     "text": [
      "\nEpoch:  27  train_loss  0.03524385749084336  dev_loss  0.01868280302733183\n"
     ]
    },
    {
     "output_type": "display_data",
     "data": {
      "text/plain": "HBox(children=(FloatProgress(value=0.0, max=422.0), HTML(value='')))",
      "application/vnd.jupyter.widget-view+json": {
       "version_major": 2,
       "version_minor": 0,
       "model_id": "4e803af0ebd646c183cadc949278248b"
      }
     },
     "metadata": {}
    },
    {
     "output_type": "stream",
     "name": "stdout",
     "text": [
      "\nEpoch:  28  train_loss  0.03729476773961319  dev_loss  0.015371198702578236\n"
     ]
    },
    {
     "output_type": "display_data",
     "data": {
      "text/plain": "HBox(children=(FloatProgress(value=0.0, max=422.0), HTML(value='')))",
      "application/vnd.jupyter.widget-view+json": {
       "version_major": 2,
       "version_minor": 0,
       "model_id": "4ebe4d6b90104dedbe527777341921c9"
      }
     },
     "metadata": {}
    },
    {
     "output_type": "stream",
     "name": "stdout",
     "text": [
      "\nEpoch:  29  train_loss  0.03742476724644337  dev_loss  0.04147467542389015\n"
     ]
    },
    {
     "output_type": "display_data",
     "data": {
      "text/plain": "HBox(children=(FloatProgress(value=0.0, max=422.0), HTML(value='')))",
      "application/vnd.jupyter.widget-view+json": {
       "version_major": 2,
       "version_minor": 0,
       "model_id": "9b61710039fd41758757d3cc1e511f1a"
      }
     },
     "metadata": {}
    },
    {
     "output_type": "stream",
     "name": "stdout",
     "text": [
      "\nEpoch:  30  train_loss  0.054671065745018954  dev_loss  0.07624710764305122\n"
     ]
    },
    {
     "output_type": "display_data",
     "data": {
      "text/plain": "HBox(children=(FloatProgress(value=0.0, max=422.0), HTML(value='')))",
      "application/vnd.jupyter.widget-view+json": {
       "version_major": 2,
       "version_minor": 0,
       "model_id": "ec8a7b164a37470f87d791db33adb853"
      }
     },
     "metadata": {}
    },
    {
     "output_type": "stream",
     "name": "stdout",
     "text": [
      "\nEpoch:  31  train_loss  0.04710037170322303  dev_loss  0.030193431017806336\n"
     ]
    },
    {
     "output_type": "display_data",
     "data": {
      "text/plain": "HBox(children=(FloatProgress(value=0.0, max=422.0), HTML(value='')))",
      "application/vnd.jupyter.widget-view+json": {
       "version_major": 2,
       "version_minor": 0,
       "model_id": "904b5cef85fe4cfc8b1769b304f4a853"
      }
     },
     "metadata": {}
    },
    {
     "output_type": "stream",
     "name": "stdout",
     "text": [
      "\nEpoch:  32  train_loss  0.027785307061262605  dev_loss  0.046478490845686726\n"
     ]
    },
    {
     "output_type": "display_data",
     "data": {
      "text/plain": "HBox(children=(FloatProgress(value=0.0, max=422.0), HTML(value='')))",
      "application/vnd.jupyter.widget-view+json": {
       "version_major": 2,
       "version_minor": 0,
       "model_id": "1744b0c86fe6424086dd0f3fbb34f14e"
      }
     },
     "metadata": {}
    },
    {
     "output_type": "stream",
     "name": "stdout",
     "text": [
      "\nEpoch:  33  train_loss  0.026448110974795446  dev_loss  0.031567538125427806\n"
     ]
    },
    {
     "output_type": "display_data",
     "data": {
      "text/plain": "HBox(children=(FloatProgress(value=0.0, max=422.0), HTML(value='')))",
      "application/vnd.jupyter.widget-view+json": {
       "version_major": 2,
       "version_minor": 0,
       "model_id": "4b2b365a85e94d01b8c991492babf12d"
      }
     },
     "metadata": {}
    },
    {
     "output_type": "stream",
     "name": "stdout",
     "text": [
      "\nEpoch:  34  train_loss  0.02528208554214776  dev_loss  0.03502037559262141\n"
     ]
    },
    {
     "output_type": "display_data",
     "data": {
      "text/plain": "HBox(children=(FloatProgress(value=0.0, max=422.0), HTML(value='')))",
      "application/vnd.jupyter.widget-view+json": {
       "version_major": 2,
       "version_minor": 0,
       "model_id": "add0affcfa5a4e4ebe74aaffce4e902d"
      }
     },
     "metadata": {}
    },
    {
     "output_type": "stream",
     "name": "stdout",
     "text": [
      "\nEpoch:  35  train_loss  0.027160949994019846  dev_loss  0.091986793137732\n"
     ]
    },
    {
     "output_type": "display_data",
     "data": {
      "text/plain": "HBox(children=(FloatProgress(value=0.0, max=422.0), HTML(value='')))",
      "application/vnd.jupyter.widget-view+json": {
       "version_major": 2,
       "version_minor": 0,
       "model_id": "093e49621aa54532874391da9e08a6e3"
      }
     },
     "metadata": {}
    },
    {
     "output_type": "stream",
     "name": "stdout",
     "text": [
      "\nEpoch:  36  train_loss  0.0650002126343619  dev_loss  0.017544642249185616\n"
     ]
    },
    {
     "output_type": "display_data",
     "data": {
      "text/plain": "HBox(children=(FloatProgress(value=0.0, max=422.0), HTML(value='')))",
      "application/vnd.jupyter.widget-view+json": {
       "version_major": 2,
       "version_minor": 0,
       "model_id": "814cb918c2484be096aa7dea490e83db"
      }
     },
     "metadata": {}
    },
    {
     "output_type": "stream",
     "name": "stdout",
     "text": [
      "\nEpoch:  37  train_loss  0.024894682511740245  dev_loss  0.04354796921010731\n"
     ]
    },
    {
     "output_type": "display_data",
     "data": {
      "text/plain": "HBox(children=(FloatProgress(value=0.0, max=422.0), HTML(value='')))",
      "application/vnd.jupyter.widget-view+json": {
       "version_major": 2,
       "version_minor": 0,
       "model_id": "a337ae46d683426cb025f1bb573aefe8"
      }
     },
     "metadata": {}
    },
    {
     "output_type": "stream",
     "name": "stdout",
     "text": [
      "\nEpoch:  38  train_loss  0.029909387581774267  dev_loss  0.23469707805055137\n"
     ]
    },
    {
     "output_type": "display_data",
     "data": {
      "text/plain": "HBox(children=(FloatProgress(value=0.0, max=422.0), HTML(value='')))",
      "application/vnd.jupyter.widget-view+json": {
       "version_major": 2,
       "version_minor": 0,
       "model_id": "16e2b8c3667745d4b66fd6feb125f65b"
      }
     },
     "metadata": {}
    },
    {
     "output_type": "stream",
     "name": "stdout",
     "text": [
      "\nEpoch:  39  train_loss  0.06132761137648287  dev_loss  0.02471254791329507\n"
     ]
    },
    {
     "output_type": "display_data",
     "data": {
      "text/plain": "HBox(children=(FloatProgress(value=0.0, max=422.0), HTML(value='')))",
      "application/vnd.jupyter.widget-view+json": {
       "version_major": 2,
       "version_minor": 0,
       "model_id": "3c8e5345c16b4576b6439cb5359f547c"
      }
     },
     "metadata": {}
    },
    {
     "output_type": "stream",
     "name": "stdout",
     "text": [
      "\nEpoch:  40  train_loss  0.025909632616521905  dev_loss  0.042263444905885225\n"
     ]
    },
    {
     "output_type": "display_data",
     "data": {
      "text/plain": "HBox(children=(FloatProgress(value=0.0, max=422.0), HTML(value='')))",
      "application/vnd.jupyter.widget-view+json": {
       "version_major": 2,
       "version_minor": 0,
       "model_id": "6475f531ad7747bf88849d6304c24375"
      }
     },
     "metadata": {}
    },
    {
     "output_type": "stream",
     "name": "stdout",
     "text": [
      "\nEpoch:  41  train_loss  0.0214641346459352  dev_loss  0.018626098654099872\n"
     ]
    },
    {
     "output_type": "display_data",
     "data": {
      "text/plain": "HBox(children=(FloatProgress(value=0.0, max=422.0), HTML(value='')))",
      "application/vnd.jupyter.widget-view+json": {
       "version_major": 2,
       "version_minor": 0,
       "model_id": "8ad52eb055af423f90904f6c6e6e7705"
      }
     },
     "metadata": {}
    },
    {
     "output_type": "stream",
     "name": "stdout",
     "text": [
      "\nEpoch:  42  train_loss  0.021032290193318474  dev_loss  0.01616494735816912\n"
     ]
    },
    {
     "output_type": "display_data",
     "data": {
      "text/plain": "HBox(children=(FloatProgress(value=0.0, max=422.0), HTML(value='')))",
      "application/vnd.jupyter.widget-view+json": {
       "version_major": 2,
       "version_minor": 0,
       "model_id": "1c43cf392df94c908f2595a173b5e138"
      }
     },
     "metadata": {}
    },
    {
     "output_type": "stream",
     "name": "stdout",
     "text": [
      "\nEpoch:  43  train_loss  0.0216069162373047  dev_loss  0.01684973679077463\n"
     ]
    },
    {
     "output_type": "display_data",
     "data": {
      "text/plain": "HBox(children=(FloatProgress(value=0.0, max=422.0), HTML(value='')))",
      "application/vnd.jupyter.widget-view+json": {
       "version_major": 2,
       "version_minor": 0,
       "model_id": "a64fc3aa40644ea4b817e9e3e1e09da6"
      }
     },
     "metadata": {}
    },
    {
     "output_type": "stream",
     "name": "stdout",
     "text": [
      "\nEpoch:  44  train_loss  0.02180993068583698  dev_loss  0.034130958067316586\n"
     ]
    },
    {
     "output_type": "display_data",
     "data": {
      "text/plain": "HBox(children=(FloatProgress(value=0.0, max=422.0), HTML(value='')))",
      "application/vnd.jupyter.widget-view+json": {
       "version_major": 2,
       "version_minor": 0,
       "model_id": "a6a5109637a649829d31dbdcdd1fb833"
      }
     },
     "metadata": {}
    },
    {
     "output_type": "stream",
     "name": "stdout",
     "text": [
      "\nEpoch:  45  train_loss  0.029561024907340794  dev_loss  0.021832491524618903\n"
     ]
    },
    {
     "output_type": "display_data",
     "data": {
      "text/plain": "HBox(children=(FloatProgress(value=0.0, max=422.0), HTML(value='')))",
      "application/vnd.jupyter.widget-view+json": {
       "version_major": 2,
       "version_minor": 0,
       "model_id": "4246f898feff488a9121e842d5a66e79"
      }
     },
     "metadata": {}
    },
    {
     "output_type": "stream",
     "name": "stdout",
     "text": [
      "\nEpoch:  46  train_loss  0.025833746270492886  dev_loss  0.049485176396207746\n"
     ]
    },
    {
     "output_type": "display_data",
     "data": {
      "text/plain": "HBox(children=(FloatProgress(value=0.0, max=422.0), HTML(value='')))",
      "application/vnd.jupyter.widget-view+json": {
       "version_major": 2,
       "version_minor": 0,
       "model_id": "29087c468e574efe949fe1f2b2476ea3"
      }
     },
     "metadata": {}
    },
    {
     "output_type": "stream",
     "name": "stdout",
     "text": [
      "\nEpoch:  47  train_loss  0.023551014494768815  dev_loss  0.022079499660148508\n"
     ]
    },
    {
     "output_type": "display_data",
     "data": {
      "text/plain": "HBox(children=(FloatProgress(value=0.0, max=422.0), HTML(value='')))",
      "application/vnd.jupyter.widget-view+json": {
       "version_major": 2,
       "version_minor": 0,
       "model_id": "e245dc82cfd049e5a39139a1648775e2"
      }
     },
     "metadata": {}
    },
    {
     "output_type": "stream",
     "name": "stdout",
     "text": [
      "\nEpoch:  48  train_loss  0.019090089472496255  dev_loss  0.020154705727282837\n"
     ]
    },
    {
     "output_type": "display_data",
     "data": {
      "text/plain": "HBox(children=(FloatProgress(value=0.0, max=422.0), HTML(value='')))",
      "application/vnd.jupyter.widget-view+json": {
       "version_major": 2,
       "version_minor": 0,
       "model_id": "d00922fdc8fd45e78160816713d73014"
      }
     },
     "metadata": {}
    },
    {
     "output_type": "stream",
     "name": "stdout",
     "text": [
      "\nEpoch:  49  train_loss  0.0187736402014138  dev_loss  0.016473532318562068\n"
     ]
    }
   ],
   "source": [
    "print('TRAINING...')\n",
    "\n",
    "training_stats = []\n",
    "\n",
    "optimizer.zero_grad() \n",
    "\n",
    "with tqdm(total=epochs,leave=False) as pbar:\n",
    "  for epoch_i in range(0, epochs):\n",
    "    total_train_loss = 0\n",
    "    model.train()\n",
    "\n",
    "    for step, batch in tqdm(enumerate(train_dataloader),total=len(train_dataloader),leave=False):\n",
    "\n",
    "        optimizer.zero_grad()\n",
    "\n",
    "        with torch.cuda.amp.autocast(enabled=True):\n",
    "          _, loss = model(batch,device)\n",
    "\n",
    "        scaler.scale(loss).backward()\n",
    "        total_train_loss += loss.item()\n",
    "  \n",
    "        scaler.step(optimizer)\n",
    "        scaler.update()\n",
    "\n",
    "    model.eval()\n",
    "\n",
    "    total_dev_loss = 0\n",
    "            \n",
    "    for step, batch in enumerate(valid_dataloader):\n",
    "    \n",
    "        b_labels = batch[1]\n",
    "        with torch.cuda.amp.autocast(enabled=True):\n",
    "          with torch.no_grad():\n",
    "            _, loss = model(batch,device)\n",
    "      \n",
    "        scaler.scale(loss)\n",
    "        total_dev_loss += loss.item()\n",
    "\n",
    "    avg_train_loss = total_train_loss/len(train_dataloader)\n",
    "    avg_dev_loss = total_dev_loss/len(test_dataloader)\n",
    " \n",
    "    training_stats.append(\n",
    "        {\n",
    "            'train_loss': avg_train_loss,\n",
    "            'dev_loss': avg_dev_loss,\n",
    "        }\n",
    "      )\n",
    "    \n",
    "    torch.save(model.encoder,folder+str(epoch_i)+'.ckpt')\n",
    "    \n",
    "    pbar.update(1)\n",
    "\n",
    "    print('\\nEpoch: ',epoch_i,' train_loss ',avg_train_loss,\n",
    "            ' dev_loss ',avg_dev_loss,\n",
    "          )\n"
   ]
  },
  {
   "cell_type": "code",
   "execution_count": 72,
   "metadata": {},
   "outputs": [
    {
     "output_type": "execute_result",
     "data": {
      "text/plain": [
       "NGram(\n",
       "  (encoder): NGramEncoder(\n",
       "    (l1): Linear(in_features=3905, out_features=3000, bias=True)\n",
       "    (b1): BatchNorm1d(3000, eps=1e-05, momentum=0.1, affine=True, track_running_stats=True)\n",
       "    (l2): Linear(in_features=3000, out_features=1500, bias=True)\n",
       "    (b2): BatchNorm1d(1500, eps=1e-05, momentum=0.1, affine=True, track_running_stats=True)\n",
       "    (l3): Linear(in_features=1500, out_features=900, bias=True)\n",
       "    (b3): BatchNorm1d(900, eps=1e-05, momentum=0.1, affine=True, track_running_stats=True)\n",
       "    (a): LeakyReLU(negative_slope=0.01)\n",
       "    (l4): Linear(in_features=900, out_features=500, bias=True)\n",
       "  )\n",
       "  (decoder): NGramDecoder(\n",
       "    (l1): Linear(in_features=500, out_features=900, bias=True)\n",
       "    (b1): BatchNorm1d(900, eps=1e-05, momentum=0.1, affine=True, track_running_stats=True)\n",
       "    (l2): Linear(in_features=900, out_features=1500, bias=True)\n",
       "    (b2): BatchNorm1d(1500, eps=1e-05, momentum=0.1, affine=True, track_running_stats=True)\n",
       "    (l3): Linear(in_features=1500, out_features=3000, bias=True)\n",
       "    (b3): BatchNorm1d(3000, eps=1e-05, momentum=0.1, affine=True, track_running_stats=True)\n",
       "    (a): LeakyReLU(negative_slope=0.01)\n",
       "    (l4): Linear(in_features=3000, out_features=3905, bias=True)\n",
       "  )\n",
       "  (criterion): MSELoss()\n",
       ")"
      ]
     },
     "metadata": {},
     "execution_count": 72
    }
   ],
   "source": [
    "# Best epochs\n",
    "# Blast 74\n",
    "# Tok 124\n",
    "# NGram 49\n",
    "model"
   ]
  },
  {
   "cell_type": "code",
   "execution_count": 21,
   "metadata": {},
   "outputs": [
    {
     "output_type": "execute_result",
     "data": {
      "text/plain": [
       "Encoder(\n",
       "  (blast): BlastEncoder(\n",
       "    (c1): Conv1d(1, 2, kernel_size=(5,), stride=(5,))\n",
       "    (bc1): BatchNorm1d(2628, eps=1e-05, momentum=0.1, affine=True, track_running_stats=True)\n",
       "    (l1): Linear(in_features=2628, out_features=1000, bias=True)\n",
       "    (b1): BatchNorm1d(1000, eps=1e-05, momentum=0.1, affine=True, track_running_stats=True)\n",
       "    (a1): LeakyReLU(negative_slope=0.01)\n",
       "    (l2): Linear(in_features=1000, out_features=500, bias=True)\n",
       "    (b2): BatchNorm1d(500, eps=1e-05, momentum=0.1, affine=True, track_running_stats=True)\n",
       "    (a2): LeakyReLU(negative_slope=0.01)\n",
       "    (l3): Linear(in_features=500, out_features=200, bias=True)\n",
       "  )\n",
       "  (tok): TokEncoder(\n",
       "    (l1): Linear(in_features=5000, out_features=3000, bias=True)\n",
       "    (b1): BatchNorm1d(3000, eps=1e-05, momentum=0.1, affine=True, track_running_stats=True)\n",
       "    (l2): Linear(in_features=3000, out_features=1500, bias=True)\n",
       "    (b2): BatchNorm1d(1500, eps=1e-05, momentum=0.1, affine=True, track_running_stats=True)\n",
       "    (l3): Linear(in_features=1500, out_features=900, bias=True)\n",
       "    (b3): BatchNorm1d(900, eps=1e-05, momentum=0.1, affine=True, track_running_stats=True)\n",
       "    (a): LeakyReLU(negative_slope=0.01)\n",
       "    (l4): Linear(in_features=900, out_features=500, bias=True)\n",
       "  )\n",
       "  (ngram): NGramEncoder(\n",
       "    (l1): Linear(in_features=3905, out_features=3000, bias=True)\n",
       "    (b1): BatchNorm1d(3000, eps=1e-05, momentum=0.1, affine=True, track_running_stats=True)\n",
       "    (l2): Linear(in_features=3000, out_features=1500, bias=True)\n",
       "    (b2): BatchNorm1d(1500, eps=1e-05, momentum=0.1, affine=True, track_running_stats=True)\n",
       "    (l3): Linear(in_features=1500, out_features=900, bias=True)\n",
       "    (b3): BatchNorm1d(900, eps=1e-05, momentum=0.1, affine=True, track_running_stats=True)\n",
       "    (a): LeakyReLU(negative_slope=0.01)\n",
       "    (l4): Linear(in_features=900, out_features=500, bias=True)\n",
       "  )\n",
       ")"
      ]
     },
     "metadata": {},
     "execution_count": 21
    }
   ],
   "source": [
    "device = torch.device('cuda')\n",
    "model = Encoder(74,124,49).to(device)\n",
    "model"
   ]
  },
  {
   "cell_type": "code",
   "execution_count": 22,
   "metadata": {},
   "outputs": [],
   "source": [
    "def getFeatures(dataloader):\n",
    "    X = []\n",
    "    y = []\n",
    "    model.eval()\n",
    "    for step, batch in tqdm(enumerate(dataloader),total=len(dataloader),leave=False):\n",
    "        with torch.no_grad():\n",
    "            with torch.cuda.amp.autocast(enabled=True):\n",
    "                label = batch[1].detach().numpy()\n",
    "\n",
    "                x = model(batch,device)\n",
    "\n",
    "                X.extend(x)\n",
    "                y.extend(label)\n",
    "    \n",
    "    return np.array(X), np.array(y)\n",
    "\n",
    "def t_labels(y):\n",
    "    tmp = []\n",
    "    for l in y:\n",
    "        tmp.append(labs[np.argmax(l)])\n",
    "    return np.array(tmp)"
   ]
  },
  {
   "cell_type": "code",
   "execution_count": 23,
   "metadata": {},
   "outputs": [
    {
     "output_type": "display_data",
     "data": {
      "text/plain": "HBox(children=(FloatProgress(value=0.0, max=422.0), HTML(value='')))",
      "application/vnd.jupyter.widget-view+json": {
       "version_major": 2,
       "version_minor": 0,
       "model_id": "88df309990224acf9fc8c650272fc0d9"
      }
     },
     "metadata": {}
    },
    {
     "output_type": "display_data",
     "data": {
      "text/plain": "HBox(children=(FloatProgress(value=0.0, max=106.0), HTML(value='')))",
      "application/vnd.jupyter.widget-view+json": {
       "version_major": 2,
       "version_minor": 0,
       "model_id": "23d369d035734bcca8c3320f8d50e673"
      }
     },
     "metadata": {}
    }
   ],
   "source": [
    "X_train, y_train = getFeatures(train_dataloader)\n",
    "X_valid, y_valid = getFeatures(valid_dataloader)"
   ]
  },
  {
   "cell_type": "code",
   "execution_count": 24,
   "metadata": {},
   "outputs": [],
   "source": [
    "y_train = t_labels(y_train)\n",
    "y_valid = t_labels(y_valid)"
   ]
  },
  {
   "cell_type": "code",
   "execution_count": 25,
   "metadata": {},
   "outputs": [],
   "source": [
    "X_train = X_train.astype(np.float32)\n",
    "X_valid = X_valid.astype(np.float32)"
   ]
  },
  {
   "source": [
    "## CLS"
   ],
   "cell_type": "markdown",
   "metadata": {}
  },
  {
   "cell_type": "code",
   "execution_count": 26,
   "metadata": {},
   "outputs": [],
   "source": [
    "from sklearn.metrics import accuracy_score, f1_score\n",
    "from sklearn.ensemble import RandomForestClassifier\n",
    "from sklearn.svm import SVC\n",
    "from sklearn.neighbors import KNeighborsClassifier\n",
    "from sklearn.naive_bayes import GaussianNB \n",
    "from sklearn.linear_model import LogisticRegression\n",
    "\n",
    "import xgboost as xgb"
   ]
  },
  {
   "cell_type": "code",
   "execution_count": 27,
   "metadata": {},
   "outputs": [],
   "source": [
    "\"\"\"\n",
    "X_train = X_train[0:1000]\n",
    "y_train = y_train[0:1000]\n",
    "\"\"\"\n",
    "def top10_accuracy_scorer(estimator, X, y):\n",
    "\n",
    "    probas = estimator.predict_proba(X)\n",
    "    \n",
    "    top10_idx = np.argpartition(probas, -10, axis=1)[:, -10:]\n",
    "    \n",
    "    top10_preds = estimator.classes_[top10_idx]\n",
    "\n",
    "    mask = top10_preds == np.reshape(y,(y.shape[0],1))\n",
    "    \n",
    "    top_10_accuracy = mask.any(axis=1).mean()\n",
    " \n",
    "    return top_10_accuracy"
   ]
  },
  {
   "cell_type": "code",
   "execution_count": 31,
   "metadata": {},
   "outputs": [
    {
     "output_type": "error",
     "ename": "MemoryError",
     "evalue": "could not allocate 344457216 bytes",
     "traceback": [
      "\u001b[1;31m---------------------------------------------------------------------------\u001b[0m",
      "\u001b[1;31mMemoryError\u001b[0m                               Traceback (most recent call last)",
      "\u001b[1;32m<ipython-input-31-4060fae444d5>\u001b[0m in \u001b[0;36m<module>\u001b[1;34m\u001b[0m\n\u001b[0;32m      6\u001b[0m \u001b[1;31m#model_cls = xgb.XGBClassifier(n_estimators=100,objective='multi:softprob',eval_metric=\"mlogloss\",max_depth=10,tree_method='hist',gpu_id=0,verbosity=1,n_jobs=10,random_state=420)\u001b[0m\u001b[1;33m\u001b[0m\u001b[1;33m\u001b[0m\u001b[1;33m\u001b[0m\u001b[0m\n\u001b[0;32m      7\u001b[0m \u001b[1;33m\u001b[0m\u001b[0m\n\u001b[1;32m----> 8\u001b[1;33m \u001b[0mmodel_cls\u001b[0m\u001b[1;33m.\u001b[0m\u001b[0mfit\u001b[0m\u001b[1;33m(\u001b[0m\u001b[0mX_train\u001b[0m\u001b[1;33m,\u001b[0m \u001b[0my_train\u001b[0m\u001b[1;33m)\u001b[0m\u001b[1;33m\u001b[0m\u001b[1;33m\u001b[0m\u001b[0m\n\u001b[0m",
      "\u001b[1;32mc:\\repos\\GeneticEngineeringAttributionChallenge\\env\\lib\\site-packages\\sklearn\\ensemble\\_forest.py\u001b[0m in \u001b[0;36mfit\u001b[1;34m(self, X, y, sample_weight)\u001b[0m\n\u001b[0;32m    384\u001b[0m             \u001b[1;31m# parallel_backend contexts set at a higher level,\u001b[0m\u001b[1;33m\u001b[0m\u001b[1;33m\u001b[0m\u001b[1;33m\u001b[0m\u001b[0m\n\u001b[0;32m    385\u001b[0m             \u001b[1;31m# since correctness does not rely on using threads.\u001b[0m\u001b[1;33m\u001b[0m\u001b[1;33m\u001b[0m\u001b[1;33m\u001b[0m\u001b[0m\n\u001b[1;32m--> 386\u001b[1;33m             trees = Parallel(n_jobs=self.n_jobs, verbose=self.verbose,\n\u001b[0m\u001b[0;32m    387\u001b[0m                              \u001b[1;33m**\u001b[0m\u001b[0m_joblib_parallel_args\u001b[0m\u001b[1;33m(\u001b[0m\u001b[0mprefer\u001b[0m\u001b[1;33m=\u001b[0m\u001b[1;34m'threads'\u001b[0m\u001b[1;33m)\u001b[0m\u001b[1;33m)\u001b[0m\u001b[1;33m(\u001b[0m\u001b[1;33m\u001b[0m\u001b[1;33m\u001b[0m\u001b[0m\n\u001b[0;32m    388\u001b[0m                 delayed(_parallel_build_trees)(\n",
      "\u001b[1;32mc:\\repos\\GeneticEngineeringAttributionChallenge\\env\\lib\\site-packages\\joblib\\parallel.py\u001b[0m in \u001b[0;36m__call__\u001b[1;34m(self, iterable)\u001b[0m\n\u001b[0;32m   1040\u001b[0m \u001b[1;33m\u001b[0m\u001b[0m\n\u001b[0;32m   1041\u001b[0m             \u001b[1;32mwith\u001b[0m \u001b[0mself\u001b[0m\u001b[1;33m.\u001b[0m\u001b[0m_backend\u001b[0m\u001b[1;33m.\u001b[0m\u001b[0mretrieval_context\u001b[0m\u001b[1;33m(\u001b[0m\u001b[1;33m)\u001b[0m\u001b[1;33m:\u001b[0m\u001b[1;33m\u001b[0m\u001b[1;33m\u001b[0m\u001b[0m\n\u001b[1;32m-> 1042\u001b[1;33m                 \u001b[0mself\u001b[0m\u001b[1;33m.\u001b[0m\u001b[0mretrieve\u001b[0m\u001b[1;33m(\u001b[0m\u001b[1;33m)\u001b[0m\u001b[1;33m\u001b[0m\u001b[1;33m\u001b[0m\u001b[0m\n\u001b[0m\u001b[0;32m   1043\u001b[0m             \u001b[1;31m# Make sure that we get a last message telling us we are done\u001b[0m\u001b[1;33m\u001b[0m\u001b[1;33m\u001b[0m\u001b[1;33m\u001b[0m\u001b[0m\n\u001b[0;32m   1044\u001b[0m             \u001b[0melapsed_time\u001b[0m \u001b[1;33m=\u001b[0m \u001b[0mtime\u001b[0m\u001b[1;33m.\u001b[0m\u001b[0mtime\u001b[0m\u001b[1;33m(\u001b[0m\u001b[1;33m)\u001b[0m \u001b[1;33m-\u001b[0m \u001b[0mself\u001b[0m\u001b[1;33m.\u001b[0m\u001b[0m_start_time\u001b[0m\u001b[1;33m\u001b[0m\u001b[1;33m\u001b[0m\u001b[0m\n",
      "\u001b[1;32mc:\\repos\\GeneticEngineeringAttributionChallenge\\env\\lib\\site-packages\\joblib\\parallel.py\u001b[0m in \u001b[0;36mretrieve\u001b[1;34m(self)\u001b[0m\n\u001b[0;32m    919\u001b[0m             \u001b[1;32mtry\u001b[0m\u001b[1;33m:\u001b[0m\u001b[1;33m\u001b[0m\u001b[1;33m\u001b[0m\u001b[0m\n\u001b[0;32m    920\u001b[0m                 \u001b[1;32mif\u001b[0m \u001b[0mgetattr\u001b[0m\u001b[1;33m(\u001b[0m\u001b[0mself\u001b[0m\u001b[1;33m.\u001b[0m\u001b[0m_backend\u001b[0m\u001b[1;33m,\u001b[0m \u001b[1;34m'supports_timeout'\u001b[0m\u001b[1;33m,\u001b[0m \u001b[1;32mFalse\u001b[0m\u001b[1;33m)\u001b[0m\u001b[1;33m:\u001b[0m\u001b[1;33m\u001b[0m\u001b[1;33m\u001b[0m\u001b[0m\n\u001b[1;32m--> 921\u001b[1;33m                     \u001b[0mself\u001b[0m\u001b[1;33m.\u001b[0m\u001b[0m_output\u001b[0m\u001b[1;33m.\u001b[0m\u001b[0mextend\u001b[0m\u001b[1;33m(\u001b[0m\u001b[0mjob\u001b[0m\u001b[1;33m.\u001b[0m\u001b[0mget\u001b[0m\u001b[1;33m(\u001b[0m\u001b[0mtimeout\u001b[0m\u001b[1;33m=\u001b[0m\u001b[0mself\u001b[0m\u001b[1;33m.\u001b[0m\u001b[0mtimeout\u001b[0m\u001b[1;33m)\u001b[0m\u001b[1;33m)\u001b[0m\u001b[1;33m\u001b[0m\u001b[1;33m\u001b[0m\u001b[0m\n\u001b[0m\u001b[0;32m    922\u001b[0m                 \u001b[1;32melse\u001b[0m\u001b[1;33m:\u001b[0m\u001b[1;33m\u001b[0m\u001b[1;33m\u001b[0m\u001b[0m\n\u001b[0;32m    923\u001b[0m                     \u001b[0mself\u001b[0m\u001b[1;33m.\u001b[0m\u001b[0m_output\u001b[0m\u001b[1;33m.\u001b[0m\u001b[0mextend\u001b[0m\u001b[1;33m(\u001b[0m\u001b[0mjob\u001b[0m\u001b[1;33m.\u001b[0m\u001b[0mget\u001b[0m\u001b[1;33m(\u001b[0m\u001b[1;33m)\u001b[0m\u001b[1;33m)\u001b[0m\u001b[1;33m\u001b[0m\u001b[1;33m\u001b[0m\u001b[0m\n",
      "\u001b[1;32mC:\\Python38\\lib\\multiprocessing\\pool.py\u001b[0m in \u001b[0;36mget\u001b[1;34m(self, timeout)\u001b[0m\n\u001b[0;32m    766\u001b[0m             \u001b[1;32mreturn\u001b[0m \u001b[0mself\u001b[0m\u001b[1;33m.\u001b[0m\u001b[0m_value\u001b[0m\u001b[1;33m\u001b[0m\u001b[1;33m\u001b[0m\u001b[0m\n\u001b[0;32m    767\u001b[0m         \u001b[1;32melse\u001b[0m\u001b[1;33m:\u001b[0m\u001b[1;33m\u001b[0m\u001b[1;33m\u001b[0m\u001b[0m\n\u001b[1;32m--> 768\u001b[1;33m             \u001b[1;32mraise\u001b[0m \u001b[0mself\u001b[0m\u001b[1;33m.\u001b[0m\u001b[0m_value\u001b[0m\u001b[1;33m\u001b[0m\u001b[1;33m\u001b[0m\u001b[0m\n\u001b[0m\u001b[0;32m    769\u001b[0m \u001b[1;33m\u001b[0m\u001b[0m\n\u001b[0;32m    770\u001b[0m     \u001b[1;32mdef\u001b[0m \u001b[0m_set\u001b[0m\u001b[1;33m(\u001b[0m\u001b[0mself\u001b[0m\u001b[1;33m,\u001b[0m \u001b[0mi\u001b[0m\u001b[1;33m,\u001b[0m \u001b[0mobj\u001b[0m\u001b[1;33m)\u001b[0m\u001b[1;33m:\u001b[0m\u001b[1;33m\u001b[0m\u001b[1;33m\u001b[0m\u001b[0m\n",
      "\u001b[1;32mC:\\Python38\\lib\\multiprocessing\\pool.py\u001b[0m in \u001b[0;36mworker\u001b[1;34m(inqueue, outqueue, initializer, initargs, maxtasks, wrap_exception)\u001b[0m\n\u001b[0;32m    123\u001b[0m         \u001b[0mjob\u001b[0m\u001b[1;33m,\u001b[0m \u001b[0mi\u001b[0m\u001b[1;33m,\u001b[0m \u001b[0mfunc\u001b[0m\u001b[1;33m,\u001b[0m \u001b[0margs\u001b[0m\u001b[1;33m,\u001b[0m \u001b[0mkwds\u001b[0m \u001b[1;33m=\u001b[0m \u001b[0mtask\u001b[0m\u001b[1;33m\u001b[0m\u001b[1;33m\u001b[0m\u001b[0m\n\u001b[0;32m    124\u001b[0m         \u001b[1;32mtry\u001b[0m\u001b[1;33m:\u001b[0m\u001b[1;33m\u001b[0m\u001b[1;33m\u001b[0m\u001b[0m\n\u001b[1;32m--> 125\u001b[1;33m             \u001b[0mresult\u001b[0m \u001b[1;33m=\u001b[0m \u001b[1;33m(\u001b[0m\u001b[1;32mTrue\u001b[0m\u001b[1;33m,\u001b[0m \u001b[0mfunc\u001b[0m\u001b[1;33m(\u001b[0m\u001b[1;33m*\u001b[0m\u001b[0margs\u001b[0m\u001b[1;33m,\u001b[0m \u001b[1;33m**\u001b[0m\u001b[0mkwds\u001b[0m\u001b[1;33m)\u001b[0m\u001b[1;33m)\u001b[0m\u001b[1;33m\u001b[0m\u001b[1;33m\u001b[0m\u001b[0m\n\u001b[0m\u001b[0;32m    126\u001b[0m         \u001b[1;32mexcept\u001b[0m \u001b[0mException\u001b[0m \u001b[1;32mas\u001b[0m \u001b[0me\u001b[0m\u001b[1;33m:\u001b[0m\u001b[1;33m\u001b[0m\u001b[1;33m\u001b[0m\u001b[0m\n\u001b[0;32m    127\u001b[0m             \u001b[1;32mif\u001b[0m \u001b[0mwrap_exception\u001b[0m \u001b[1;32mand\u001b[0m \u001b[0mfunc\u001b[0m \u001b[1;32mis\u001b[0m \u001b[1;32mnot\u001b[0m \u001b[0m_helper_reraises_exception\u001b[0m\u001b[1;33m:\u001b[0m\u001b[1;33m\u001b[0m\u001b[1;33m\u001b[0m\u001b[0m\n",
      "\u001b[1;32mc:\\repos\\GeneticEngineeringAttributionChallenge\\env\\lib\\site-packages\\joblib\\_parallel_backends.py\u001b[0m in \u001b[0;36m__call__\u001b[1;34m(self, *args, **kwargs)\u001b[0m\n\u001b[0;32m    593\u001b[0m     \u001b[1;32mdef\u001b[0m \u001b[0m__call__\u001b[0m\u001b[1;33m(\u001b[0m\u001b[0mself\u001b[0m\u001b[1;33m,\u001b[0m \u001b[1;33m*\u001b[0m\u001b[0margs\u001b[0m\u001b[1;33m,\u001b[0m \u001b[1;33m**\u001b[0m\u001b[0mkwargs\u001b[0m\u001b[1;33m)\u001b[0m\u001b[1;33m:\u001b[0m\u001b[1;33m\u001b[0m\u001b[1;33m\u001b[0m\u001b[0m\n\u001b[0;32m    594\u001b[0m         \u001b[1;32mtry\u001b[0m\u001b[1;33m:\u001b[0m\u001b[1;33m\u001b[0m\u001b[1;33m\u001b[0m\u001b[0m\n\u001b[1;32m--> 595\u001b[1;33m             \u001b[1;32mreturn\u001b[0m \u001b[0mself\u001b[0m\u001b[1;33m.\u001b[0m\u001b[0mfunc\u001b[0m\u001b[1;33m(\u001b[0m\u001b[1;33m*\u001b[0m\u001b[0margs\u001b[0m\u001b[1;33m,\u001b[0m \u001b[1;33m**\u001b[0m\u001b[0mkwargs\u001b[0m\u001b[1;33m)\u001b[0m\u001b[1;33m\u001b[0m\u001b[1;33m\u001b[0m\u001b[0m\n\u001b[0m\u001b[0;32m    596\u001b[0m         \u001b[1;32mexcept\u001b[0m \u001b[0mKeyboardInterrupt\u001b[0m \u001b[1;32mas\u001b[0m \u001b[0me\u001b[0m\u001b[1;33m:\u001b[0m\u001b[1;33m\u001b[0m\u001b[1;33m\u001b[0m\u001b[0m\n\u001b[0;32m    597\u001b[0m             \u001b[1;31m# We capture the KeyboardInterrupt and reraise it as\u001b[0m\u001b[1;33m\u001b[0m\u001b[1;33m\u001b[0m\u001b[1;33m\u001b[0m\u001b[0m\n",
      "\u001b[1;32mc:\\repos\\GeneticEngineeringAttributionChallenge\\env\\lib\\site-packages\\joblib\\parallel.py\u001b[0m in \u001b[0;36m__call__\u001b[1;34m(self)\u001b[0m\n\u001b[0;32m    250\u001b[0m         \u001b[1;31m# change the default number of processes to -1\u001b[0m\u001b[1;33m\u001b[0m\u001b[1;33m\u001b[0m\u001b[1;33m\u001b[0m\u001b[0m\n\u001b[0;32m    251\u001b[0m         \u001b[1;32mwith\u001b[0m \u001b[0mparallel_backend\u001b[0m\u001b[1;33m(\u001b[0m\u001b[0mself\u001b[0m\u001b[1;33m.\u001b[0m\u001b[0m_backend\u001b[0m\u001b[1;33m,\u001b[0m \u001b[0mn_jobs\u001b[0m\u001b[1;33m=\u001b[0m\u001b[0mself\u001b[0m\u001b[1;33m.\u001b[0m\u001b[0m_n_jobs\u001b[0m\u001b[1;33m)\u001b[0m\u001b[1;33m:\u001b[0m\u001b[1;33m\u001b[0m\u001b[1;33m\u001b[0m\u001b[0m\n\u001b[1;32m--> 252\u001b[1;33m             return [func(*args, **kwargs)\n\u001b[0m\u001b[0;32m    253\u001b[0m                     for func, args, kwargs in self.items]\n\u001b[0;32m    254\u001b[0m \u001b[1;33m\u001b[0m\u001b[0m\n",
      "\u001b[1;32mc:\\repos\\GeneticEngineeringAttributionChallenge\\env\\lib\\site-packages\\joblib\\parallel.py\u001b[0m in \u001b[0;36m<listcomp>\u001b[1;34m(.0)\u001b[0m\n\u001b[0;32m    250\u001b[0m         \u001b[1;31m# change the default number of processes to -1\u001b[0m\u001b[1;33m\u001b[0m\u001b[1;33m\u001b[0m\u001b[1;33m\u001b[0m\u001b[0m\n\u001b[0;32m    251\u001b[0m         \u001b[1;32mwith\u001b[0m \u001b[0mparallel_backend\u001b[0m\u001b[1;33m(\u001b[0m\u001b[0mself\u001b[0m\u001b[1;33m.\u001b[0m\u001b[0m_backend\u001b[0m\u001b[1;33m,\u001b[0m \u001b[0mn_jobs\u001b[0m\u001b[1;33m=\u001b[0m\u001b[0mself\u001b[0m\u001b[1;33m.\u001b[0m\u001b[0m_n_jobs\u001b[0m\u001b[1;33m)\u001b[0m\u001b[1;33m:\u001b[0m\u001b[1;33m\u001b[0m\u001b[1;33m\u001b[0m\u001b[0m\n\u001b[1;32m--> 252\u001b[1;33m             return [func(*args, **kwargs)\n\u001b[0m\u001b[0;32m    253\u001b[0m                     for func, args, kwargs in self.items]\n\u001b[0;32m    254\u001b[0m \u001b[1;33m\u001b[0m\u001b[0m\n",
      "\u001b[1;32mc:\\repos\\GeneticEngineeringAttributionChallenge\\env\\lib\\site-packages\\sklearn\\ensemble\\_forest.py\u001b[0m in \u001b[0;36m_parallel_build_trees\u001b[1;34m(tree, forest, X, y, sample_weight, tree_idx, n_trees, verbose, class_weight, n_samples_bootstrap)\u001b[0m\n\u001b[0;32m    166\u001b[0m                                                         indices=indices)\n\u001b[0;32m    167\u001b[0m \u001b[1;33m\u001b[0m\u001b[0m\n\u001b[1;32m--> 168\u001b[1;33m         \u001b[0mtree\u001b[0m\u001b[1;33m.\u001b[0m\u001b[0mfit\u001b[0m\u001b[1;33m(\u001b[0m\u001b[0mX\u001b[0m\u001b[1;33m,\u001b[0m \u001b[0my\u001b[0m\u001b[1;33m,\u001b[0m \u001b[0msample_weight\u001b[0m\u001b[1;33m=\u001b[0m\u001b[0mcurr_sample_weight\u001b[0m\u001b[1;33m,\u001b[0m \u001b[0mcheck_input\u001b[0m\u001b[1;33m=\u001b[0m\u001b[1;32mFalse\u001b[0m\u001b[1;33m)\u001b[0m\u001b[1;33m\u001b[0m\u001b[1;33m\u001b[0m\u001b[0m\n\u001b[0m\u001b[0;32m    169\u001b[0m     \u001b[1;32melse\u001b[0m\u001b[1;33m:\u001b[0m\u001b[1;33m\u001b[0m\u001b[1;33m\u001b[0m\u001b[0m\n\u001b[0;32m    170\u001b[0m         \u001b[0mtree\u001b[0m\u001b[1;33m.\u001b[0m\u001b[0mfit\u001b[0m\u001b[1;33m(\u001b[0m\u001b[0mX\u001b[0m\u001b[1;33m,\u001b[0m \u001b[0my\u001b[0m\u001b[1;33m,\u001b[0m \u001b[0msample_weight\u001b[0m\u001b[1;33m=\u001b[0m\u001b[0msample_weight\u001b[0m\u001b[1;33m,\u001b[0m \u001b[0mcheck_input\u001b[0m\u001b[1;33m=\u001b[0m\u001b[1;32mFalse\u001b[0m\u001b[1;33m)\u001b[0m\u001b[1;33m\u001b[0m\u001b[1;33m\u001b[0m\u001b[0m\n",
      "\u001b[1;32mc:\\repos\\GeneticEngineeringAttributionChallenge\\env\\lib\\site-packages\\sklearn\\tree\\_classes.py\u001b[0m in \u001b[0;36mfit\u001b[1;34m(self, X, y, sample_weight, check_input, X_idx_sorted)\u001b[0m\n\u001b[0;32m    888\u001b[0m         \"\"\"\n\u001b[0;32m    889\u001b[0m \u001b[1;33m\u001b[0m\u001b[0m\n\u001b[1;32m--> 890\u001b[1;33m         super().fit(\n\u001b[0m\u001b[0;32m    891\u001b[0m             \u001b[0mX\u001b[0m\u001b[1;33m,\u001b[0m \u001b[0my\u001b[0m\u001b[1;33m,\u001b[0m\u001b[1;33m\u001b[0m\u001b[1;33m\u001b[0m\u001b[0m\n\u001b[0;32m    892\u001b[0m             \u001b[0msample_weight\u001b[0m\u001b[1;33m=\u001b[0m\u001b[0msample_weight\u001b[0m\u001b[1;33m,\u001b[0m\u001b[1;33m\u001b[0m\u001b[1;33m\u001b[0m\u001b[0m\n",
      "\u001b[1;32mc:\\repos\\GeneticEngineeringAttributionChallenge\\env\\lib\\site-packages\\sklearn\\tree\\_classes.py\u001b[0m in \u001b[0;36mfit\u001b[1;34m(self, X, y, sample_weight, check_input, X_idx_sorted)\u001b[0m\n\u001b[0;32m    373\u001b[0m                                            min_impurity_split)\n\u001b[0;32m    374\u001b[0m \u001b[1;33m\u001b[0m\u001b[0m\n\u001b[1;32m--> 375\u001b[1;33m         \u001b[0mbuilder\u001b[0m\u001b[1;33m.\u001b[0m\u001b[0mbuild\u001b[0m\u001b[1;33m(\u001b[0m\u001b[0mself\u001b[0m\u001b[1;33m.\u001b[0m\u001b[0mtree_\u001b[0m\u001b[1;33m,\u001b[0m \u001b[0mX\u001b[0m\u001b[1;33m,\u001b[0m \u001b[0my\u001b[0m\u001b[1;33m,\u001b[0m \u001b[0msample_weight\u001b[0m\u001b[1;33m,\u001b[0m \u001b[0mX_idx_sorted\u001b[0m\u001b[1;33m)\u001b[0m\u001b[1;33m\u001b[0m\u001b[1;33m\u001b[0m\u001b[0m\n\u001b[0m\u001b[0;32m    376\u001b[0m \u001b[1;33m\u001b[0m\u001b[0m\n\u001b[0;32m    377\u001b[0m         \u001b[1;32mif\u001b[0m \u001b[0mself\u001b[0m\u001b[1;33m.\u001b[0m\u001b[0mn_outputs_\u001b[0m \u001b[1;33m==\u001b[0m \u001b[1;36m1\u001b[0m \u001b[1;32mand\u001b[0m \u001b[0mis_classifier\u001b[0m\u001b[1;33m(\u001b[0m\u001b[0mself\u001b[0m\u001b[1;33m)\u001b[0m\u001b[1;33m:\u001b[0m\u001b[1;33m\u001b[0m\u001b[1;33m\u001b[0m\u001b[0m\n",
      "\u001b[1;32msklearn\\tree\\_tree.pyx\u001b[0m in \u001b[0;36msklearn.tree._tree.DepthFirstTreeBuilder.build\u001b[1;34m()\u001b[0m\n",
      "\u001b[1;32msklearn\\tree\\_tree.pyx\u001b[0m in \u001b[0;36msklearn.tree._tree.DepthFirstTreeBuilder.build\u001b[1;34m()\u001b[0m\n",
      "\u001b[1;32msklearn\\tree\\_tree.pyx\u001b[0m in \u001b[0;36msklearn.tree._tree.Tree._add_node\u001b[1;34m()\u001b[0m\n",
      "\u001b[1;32msklearn\\tree\\_tree.pyx\u001b[0m in \u001b[0;36msklearn.tree._tree.Tree._resize_c\u001b[1;34m()\u001b[0m\n",
      "\u001b[1;32msklearn\\tree\\_utils.pyx\u001b[0m in \u001b[0;36msklearn.tree._utils.safe_realloc\u001b[1;34m()\u001b[0m\n",
      "\u001b[1;31mMemoryError\u001b[0m: could not allocate 344457216 bytes"
     ]
    }
   ],
   "source": [
    "#model_cls = SVC(kernel = 'linear', C = 1)\n",
    "#model_cls = LogisticRegression()\n",
    "#model_cls = GaussianNB()\n",
    "#model_cls = KNeighborsClassifier(n_neighbors = 40)\n",
    "model_cls = RandomForestClassifier(n_jobs=10)\n",
    "#model_cls = xgb.XGBClassifier(n_estimators=100,objective='multi:softprob',eval_metric=\"mlogloss\",max_depth=10,tree_method='hist',gpu_id=0,verbosity=1,n_jobs=10,random_state=420)\n",
    "\n",
    "model_cls.fit(X_train, y_train)"
   ]
  },
  {
   "cell_type": "code",
   "execution_count": null,
   "metadata": {},
   "outputs": [],
   "source": [
    "preds = model_cls.predict(X_train)\n",
    "\n",
    "acc = accuracy_score(y_train,preds)\n",
    "f1 = f1_score(y_train,preds,average='macro')\n",
    "\n",
    "print('ACC: ',acc)\n",
    "print('F1: ', f1)\n",
    "print('top10: ',top10_accuracy_scorer(model_cls,X_train,y_train))"
   ]
  },
  {
   "cell_type": "code",
   "execution_count": null,
   "metadata": {},
   "outputs": [],
   "source": [
    "preds = model_cls.predict(X_valid)\n",
    "\n",
    "acc = accuracy_score(y_valid,preds)\n",
    "f1 = f1_score(y_valid,preds,average='macro')\n",
    "\n",
    "print('ACC: ',acc)\n",
    "print('F1: ', f1)\n",
    "print('Top-10: ',top10_accuracy_scorer(model_cls,X_valid,y_valid))"
   ]
  },
  {
   "source": [
    "## SUBMISSION"
   ],
   "cell_type": "markdown",
   "metadata": {}
  },
  {
   "cell_type": "code",
   "execution_count": 47,
   "metadata": {},
   "outputs": [
    {
     "output_type": "execute_result",
     "data": {
      "text/plain": "Sauron(\n  (blast_conv): Blast_conv(\n    (c1): Conv1d(1, 2, kernel_size=(5,), stride=(5,))\n    (br_c1): BatchNorm1d(2628, eps=1e-05, momentum=0.1, affine=True, track_running_stats=True)\n    (dp_c1): Dropout(p=0.2, inplace=False)\n    (l1): Linear(in_features=2628, out_features=5256, bias=True)\n    (br_l1): BatchNorm1d(5256, eps=1e-05, momentum=0.1, affine=True, track_running_stats=True)\n    (ac_l1): LeakyReLU(negative_slope=0.01)\n    (dp_l1): Dropout(p=0.2, inplace=False)\n    (cls): Identity()\n  )\n  (tokenet): TokeNet(\n    (l1): Linear(in_features=2500, out_features=5000, bias=True)\n    (br_l1): BatchNorm1d(5000, eps=1e-05, momentum=0.1, affine=True, track_running_stats=True)\n    (ac_l1): LeakyReLU(negative_slope=0.01)\n    (dp_l1): Dropout(p=0.2, inplace=False)\n    (cls): Identity()\n  )\n  (l1): Linear(in_features=10296, out_features=10296, bias=True)\n  (br_l1): BatchNorm1d(10296, eps=1e-05, momentum=0.1, affine=True, track_running_stats=True)\n  (ac_l1): LeakyReLU(negative_slope=0.01)\n  (dp_l1): Dropout(p=0.5, inplace=False)\n  (cls): Linear(in_features=10296, out_features=1314, bias=True)\n)"
     },
     "metadata": {},
     "execution_count": 47
    }
   ],
   "source": [
    "model = torch.load('../models/Sauron/25.ckpt').to(device)\n",
    "model"
   ]
  },
  {
   "cell_type": "code",
   "execution_count": 28,
   "metadata": {},
   "outputs": [],
   "source": [
    "model.eval()\n",
    "\n",
    "logits = []\n",
    "           \n",
    "for step, batch in enumerate(test_dataloader):\n",
    "    \n",
    "    with torch.cuda.amp.autocast():\n",
    "        with torch.no_grad():\n",
    "            b_logits = model(batch,device)\n",
    "            logits.extend(b_logits.float())"
   ]
  },
  {
   "cell_type": "code",
   "execution_count": 29,
   "metadata": {},
   "outputs": [
    {
     "output_type": "execute_result",
     "data": {
      "text/plain": [
       "(18816, 1314)"
      ]
     },
     "metadata": {},
     "execution_count": 29
    }
   ],
   "source": [
    "probas = nn.Softmax(dim=1)(torch.stack(logits)).detach().numpy()\n",
    "probas.shape"
   ]
  },
  {
   "cell_type": "code",
   "execution_count": 30,
   "metadata": {},
   "outputs": [],
   "source": [
    "submission_format = pd.read_csv('../data/raw/submission_format.csv', index_col='sequence_id')"
   ]
  },
  {
   "cell_type": "code",
   "execution_count": 31,
   "metadata": {},
   "outputs": [],
   "source": [
    "assert submission_format.shape == probas.shape\n",
    "assert (labs == submission_format.columns).all()"
   ]
  },
  {
   "cell_type": "code",
   "execution_count": 32,
   "metadata": {},
   "outputs": [],
   "source": [
    "my_submission = pd.DataFrame(data=probas, \n",
    "                             columns=labs, \n",
    "                             index=submission_format.index)"
   ]
  },
  {
   "cell_type": "code",
   "execution_count": 33,
   "metadata": {},
   "outputs": [
    {
     "output_type": "execute_result",
     "data": {
      "text/plain": [
       "                 00Q4V31T      012VT4JK      028IO5W2      03GRNN7N  \\\n",
       "sequence_id                                                           \n",
       "E0VFT        0.000000e+00  0.000000e+00  0.000000e+00  0.000000e+00   \n",
       "TTRK5        1.219130e-43  1.064852e-37  7.595038e-43  0.000000e+00   \n",
       "2Z7FZ        0.000000e+00  0.000000e+00  0.000000e+00  0.000000e+00   \n",
       "VJI6E        1.006260e-16  1.217161e-17  3.480941e-17  4.664463e-19   \n",
       "721FI        0.000000e+00  1.401298e-45  0.000000e+00  0.000000e+00   \n",
       "\n",
       "                 03Y3W51H      09MQV1TY      0A4AHRCT      0A9M05NC  \\\n",
       "sequence_id                                                           \n",
       "E0VFT        0.000000e+00  0.000000e+00  0.000000e+00  0.000000e+00   \n",
       "TTRK5        1.779546e-38  2.787869e-40  2.593103e-41  7.977755e-36   \n",
       "2Z7FZ        0.000000e+00  0.000000e+00  0.000000e+00  0.000000e+00   \n",
       "VJI6E        3.705442e-17  3.763782e-16  7.163382e-17  1.487721e-20   \n",
       "721FI        1.927066e-41  5.731311e-43  7.899047e-37  0.000000e+00   \n",
       "\n",
       "                 0B9GCUVV      0CL7QVG8  ...      ZQNGGY33      ZSHS4VJZ  \\\n",
       "sequence_id                              ...                               \n",
       "E0VFT        0.000000e+00  0.000000e+00  ...  0.000000e+00  0.000000e+00   \n",
       "TTRK5        1.070592e-42  0.000000e+00  ...  0.000000e+00  1.513460e-37   \n",
       "2Z7FZ        0.000000e+00  0.000000e+00  ...  0.000000e+00  0.000000e+00   \n",
       "VJI6E        1.230674e-15  9.422474e-19  ...  7.750716e-19  1.940933e-18   \n",
       "721FI        0.000000e+00  0.000000e+00  ...  0.000000e+00  0.000000e+00   \n",
       "\n",
       "                 ZT1IP3T6      ZU6860XU      ZU6TVFFU      ZU75P59K  \\\n",
       "sequence_id                                                           \n",
       "E0VFT        0.000000e+00  0.000000e+00  0.000000e+00  0.000000e+00   \n",
       "TTRK5        7.006492e-45  7.048812e-41  8.100313e-32  2.686714e-39   \n",
       "2Z7FZ        0.000000e+00  0.000000e+00  0.000000e+00  0.000000e+00   \n",
       "VJI6E        7.632831e-17  2.291792e-17  6.516940e-16  1.321216e-17   \n",
       "721FI        3.840455e-40  0.000000e+00  4.063766e-44  0.000000e+00   \n",
       "\n",
       "                 ZUI6TDWV      ZWFD8OHC      ZX06ZDZN      ZZJVE4HO  \n",
       "sequence_id                                                          \n",
       "E0VFT        0.000000e+00  0.000000e+00  0.000000e+00  0.000000e+00  \n",
       "TTRK5        8.718819e-33  0.000000e+00  1.737610e-42  0.000000e+00  \n",
       "2Z7FZ        0.000000e+00  0.000000e+00  0.000000e+00  0.000000e+00  \n",
       "VJI6E        1.605646e-16  2.995351e-16  3.771152e-17  7.339326e-18  \n",
       "721FI        9.710158e-41  1.261169e-44  1.937996e-42  0.000000e+00  \n",
       "\n",
       "[5 rows x 1314 columns]"
      ],
      "text/html": "<div>\n<style scoped>\n    .dataframe tbody tr th:only-of-type {\n        vertical-align: middle;\n    }\n\n    .dataframe tbody tr th {\n        vertical-align: top;\n    }\n\n    .dataframe thead th {\n        text-align: right;\n    }\n</style>\n<table border=\"1\" class=\"dataframe\">\n  <thead>\n    <tr style=\"text-align: right;\">\n      <th></th>\n      <th>00Q4V31T</th>\n      <th>012VT4JK</th>\n      <th>028IO5W2</th>\n      <th>03GRNN7N</th>\n      <th>03Y3W51H</th>\n      <th>09MQV1TY</th>\n      <th>0A4AHRCT</th>\n      <th>0A9M05NC</th>\n      <th>0B9GCUVV</th>\n      <th>0CL7QVG8</th>\n      <th>...</th>\n      <th>ZQNGGY33</th>\n      <th>ZSHS4VJZ</th>\n      <th>ZT1IP3T6</th>\n      <th>ZU6860XU</th>\n      <th>ZU6TVFFU</th>\n      <th>ZU75P59K</th>\n      <th>ZUI6TDWV</th>\n      <th>ZWFD8OHC</th>\n      <th>ZX06ZDZN</th>\n      <th>ZZJVE4HO</th>\n    </tr>\n    <tr>\n      <th>sequence_id</th>\n      <th></th>\n      <th></th>\n      <th></th>\n      <th></th>\n      <th></th>\n      <th></th>\n      <th></th>\n      <th></th>\n      <th></th>\n      <th></th>\n      <th></th>\n      <th></th>\n      <th></th>\n      <th></th>\n      <th></th>\n      <th></th>\n      <th></th>\n      <th></th>\n      <th></th>\n      <th></th>\n      <th></th>\n    </tr>\n  </thead>\n  <tbody>\n    <tr>\n      <th>E0VFT</th>\n      <td>0.000000e+00</td>\n      <td>0.000000e+00</td>\n      <td>0.000000e+00</td>\n      <td>0.000000e+00</td>\n      <td>0.000000e+00</td>\n      <td>0.000000e+00</td>\n      <td>0.000000e+00</td>\n      <td>0.000000e+00</td>\n      <td>0.000000e+00</td>\n      <td>0.000000e+00</td>\n      <td>...</td>\n      <td>0.000000e+00</td>\n      <td>0.000000e+00</td>\n      <td>0.000000e+00</td>\n      <td>0.000000e+00</td>\n      <td>0.000000e+00</td>\n      <td>0.000000e+00</td>\n      <td>0.000000e+00</td>\n      <td>0.000000e+00</td>\n      <td>0.000000e+00</td>\n      <td>0.000000e+00</td>\n    </tr>\n    <tr>\n      <th>TTRK5</th>\n      <td>1.219130e-43</td>\n      <td>1.064852e-37</td>\n      <td>7.595038e-43</td>\n      <td>0.000000e+00</td>\n      <td>1.779546e-38</td>\n      <td>2.787869e-40</td>\n      <td>2.593103e-41</td>\n      <td>7.977755e-36</td>\n      <td>1.070592e-42</td>\n      <td>0.000000e+00</td>\n      <td>...</td>\n      <td>0.000000e+00</td>\n      <td>1.513460e-37</td>\n      <td>7.006492e-45</td>\n      <td>7.048812e-41</td>\n      <td>8.100313e-32</td>\n      <td>2.686714e-39</td>\n      <td>8.718819e-33</td>\n      <td>0.000000e+00</td>\n      <td>1.737610e-42</td>\n      <td>0.000000e+00</td>\n    </tr>\n    <tr>\n      <th>2Z7FZ</th>\n      <td>0.000000e+00</td>\n      <td>0.000000e+00</td>\n      <td>0.000000e+00</td>\n      <td>0.000000e+00</td>\n      <td>0.000000e+00</td>\n      <td>0.000000e+00</td>\n      <td>0.000000e+00</td>\n      <td>0.000000e+00</td>\n      <td>0.000000e+00</td>\n      <td>0.000000e+00</td>\n      <td>...</td>\n      <td>0.000000e+00</td>\n      <td>0.000000e+00</td>\n      <td>0.000000e+00</td>\n      <td>0.000000e+00</td>\n      <td>0.000000e+00</td>\n      <td>0.000000e+00</td>\n      <td>0.000000e+00</td>\n      <td>0.000000e+00</td>\n      <td>0.000000e+00</td>\n      <td>0.000000e+00</td>\n    </tr>\n    <tr>\n      <th>VJI6E</th>\n      <td>1.006260e-16</td>\n      <td>1.217161e-17</td>\n      <td>3.480941e-17</td>\n      <td>4.664463e-19</td>\n      <td>3.705442e-17</td>\n      <td>3.763782e-16</td>\n      <td>7.163382e-17</td>\n      <td>1.487721e-20</td>\n      <td>1.230674e-15</td>\n      <td>9.422474e-19</td>\n      <td>...</td>\n      <td>7.750716e-19</td>\n      <td>1.940933e-18</td>\n      <td>7.632831e-17</td>\n      <td>2.291792e-17</td>\n      <td>6.516940e-16</td>\n      <td>1.321216e-17</td>\n      <td>1.605646e-16</td>\n      <td>2.995351e-16</td>\n      <td>3.771152e-17</td>\n      <td>7.339326e-18</td>\n    </tr>\n    <tr>\n      <th>721FI</th>\n      <td>0.000000e+00</td>\n      <td>1.401298e-45</td>\n      <td>0.000000e+00</td>\n      <td>0.000000e+00</td>\n      <td>1.927066e-41</td>\n      <td>5.731311e-43</td>\n      <td>7.899047e-37</td>\n      <td>0.000000e+00</td>\n      <td>0.000000e+00</td>\n      <td>0.000000e+00</td>\n      <td>...</td>\n      <td>0.000000e+00</td>\n      <td>0.000000e+00</td>\n      <td>3.840455e-40</td>\n      <td>0.000000e+00</td>\n      <td>4.063766e-44</td>\n      <td>0.000000e+00</td>\n      <td>9.710158e-41</td>\n      <td>1.261169e-44</td>\n      <td>1.937996e-42</td>\n      <td>0.000000e+00</td>\n    </tr>\n  </tbody>\n</table>\n<p>5 rows × 1314 columns</p>\n</div>"
     },
     "metadata": {},
     "execution_count": 33
    }
   ],
   "source": [
    "my_submission.head()"
   ]
  },
  {
   "cell_type": "code",
   "execution_count": 34,
   "metadata": {},
   "outputs": [],
   "source": [
    "my_submission.to_csv('../submissions/submission.csv')"
   ]
  },
  {
   "cell_type": "code",
   "execution_count": null,
   "metadata": {},
   "outputs": [],
   "source": []
  },
  {
   "cell_type": "code",
   "execution_count": null,
   "metadata": {},
   "outputs": [],
   "source": []
  }
 ]
}