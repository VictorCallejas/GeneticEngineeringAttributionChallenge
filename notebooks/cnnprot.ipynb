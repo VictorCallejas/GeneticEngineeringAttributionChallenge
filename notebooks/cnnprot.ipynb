{
 "metadata": {
  "language_info": {
   "codemirror_mode": {
    "name": "ipython",
    "version": 3
   },
   "file_extension": ".py",
   "mimetype": "text/x-python",
   "name": "python",
   "nbconvert_exporter": "python",
   "pygments_lexer": "ipython3",
   "version": "3.8.2-final"
  },
  "orig_nbformat": 2,
  "kernelspec": {
   "name": "python38264bitenvvenv06b471d0c6c74f06b7ccc810f4823694",
   "display_name": "Python 3.8.2 64-bit ('env': venv)"
  }
 },
 "nbformat": 4,
 "nbformat_minor": 2,
 "cells": [
  {
   "cell_type": "code",
   "execution_count": 1,
   "metadata": {},
   "outputs": [],
   "source": [
    "%matplotlib inline\n",
    "\n",
    "from Bio.Seq import Seq\n",
    "\n",
    "import os\n",
    "import gc\n",
    "\n",
    "import numpy as np\n",
    "import pandas as pd\n",
    "import matplotlib.pyplot as plt\n",
    "import seaborn as sns\n",
    "\n",
    "from collections import Counter\n",
    "from IPython.display import Image\n",
    "\n",
    "from sklearn.preprocessing import LabelEncoder\n",
    "\n",
    "import torch\n",
    "import torch.nn as nn\n",
    "\n",
    "from sklearn.metrics import accuracy_score, f1_score\n",
    "\n",
    "from sklearn.model_selection import train_test_split, StratifiedKFold\n",
    "from tqdm.notebook import tqdm"
   ]
  },
  {
   "cell_type": "code",
   "execution_count": 2,
   "metadata": {},
   "outputs": [],
   "source": [
    "def top10_accuracy_scorer(gt_idx, top10_idx):\n",
    "\n",
    "    aciertos = 0\n",
    "\n",
    "    for arr, gt in zip(top10_idx,gt_idx):\n",
    "        if gt in arr:\n",
    "            aciertos+=1\n",
    "            \n",
    "    top_10_accuracy =  aciertos / len(gt_idx)\n",
    "    return top_10_accuracy"
   ]
  },
  {
   "cell_type": "code",
   "execution_count": 3,
   "metadata": {},
   "outputs": [],
   "source": [
    "def dna_to_protein(sequences):\n",
    "    seqs = []\n",
    "    for seq in tqdm(sequences,total=len(sequences)):\n",
    "        try:\n",
    "            seqs.append(str(Seq(seq).translate()))\n",
    "        except e:\n",
    "            print(e)\n",
    "            print(seq)\n",
    "            print('error')\n",
    "    return seqs"
   ]
  },
  {
   "cell_type": "code",
   "execution_count": 4,
   "metadata": {},
   "outputs": [],
   "source": [
    "def create_dict(codes):\n",
    "  char_dict = {}\n",
    "  for index, val in enumerate(codes):\n",
    "    char_dict[val] = index + 1\n",
    "\n",
    "  return char_dict"
   ]
  },
  {
   "cell_type": "code",
   "execution_count": 5,
   "metadata": {},
   "outputs": [],
   "source": [
    "def integer_encoding(sequences,char_dict):\n",
    "  encode_list = []\n",
    "  for row in tqdm(sequences):\n",
    "    row_encode = []\n",
    "    for code in row:\n",
    "      row_encode.append(torch.tensor(char_dict.get(code, 0)))\n",
    "    encode_list.append(torch.stack(row_encode))\n",
    "  \n",
    "  return torch.stack(encode_list)"
   ]
  },
  {
   "cell_type": "code",
   "execution_count": 6,
   "metadata": {},
   "outputs": [],
   "source": [
    "def _to_one_hot(sequences, num_classes):\n",
    "    seqs = []\n",
    "    for y in tqdm(sequences,total=len(sequences)):\n",
    "        scatter_dim = len(y.size())\n",
    "        y_tensor = y.view(*y.size(), -1)\n",
    "        zeros = torch.zeros(*y.size(), num_classes, dtype=y.dtype)\n",
    "        \n",
    "        seqs.append(zeros.scatter(scatter_dim, y_tensor, 1))\n",
    "    return torch.stack(seqs)"
   ]
  },
  {
   "cell_type": "code",
   "execution_count": 7,
   "metadata": {},
   "outputs": [],
   "source": [
    "def make_plot(training_stats):\n",
    "\n",
    "    sns.set(style='darkgrid')\n",
    "    sns.set(font_scale=1.5)\n",
    "\n",
    "    plt.close()\n",
    "\n",
    "    fig, (ax1, ax2) = plt.subplots(1, 2)\n",
    "    fig.suptitle('Training stats')\n",
    "\n",
    "    fig.set_size_inches(25, 10)\n",
    "\n",
    "    ax1.plot(training_stats['train_loss'], 'b-o', label='training')\n",
    "    ax1.plot(training_stats['dev_loss'], 'b-o', label='validation')\n",
    "\n",
    "    ax1.set_title(\"Loss\")\n",
    "    ax1.set_xlabel('Epochs')\n",
    "    ax1.set_ylabel('Loss') \n",
    "    ax1.legend()\n",
    "\n",
    "    ax2.plot(training_stats['train_top10'], 'b-o', label='training')\n",
    "    ax2.plot(training_stats['dev_top10'], 'b-o', label='validation')\n",
    "\n",
    "    ax2.set_title(\"Top 10 Acc\")\n",
    "    ax2.set_xlabel('Epochs')\n",
    "    ax2.set_ylabel('Top 10 Acc')\n",
    "    ax2.legend()\n",
    "\n",
    "    plt.show() "
   ]
  },
  {
   "cell_type": "code",
   "execution_count": 8,
   "metadata": {},
   "outputs": [
    {
     "output_type": "stream",
     "name": "stdout",
     "text": [
      "Train:  (67447, 43)\nTest:  (18816, 42)\n"
     ]
    }
   ],
   "source": [
    "train = pd.read_csv('../data/processed/train.csv')\n",
    "test = pd.read_csv('../data/processed/test.csv')\n",
    "print('Train: ',train.shape)\n",
    "print('Test: ',test.shape)"
   ]
  },
  {
   "cell_type": "code",
   "execution_count": 9,
   "metadata": {},
   "outputs": [
    {
     "output_type": "display_data",
     "data": {
      "text/plain": "HBox(children=(FloatProgress(value=0.0, max=67447.0), HTML(value='')))",
      "application/vnd.jupyter.widget-view+json": {
       "version_major": 2,
       "version_minor": 0,
       "model_id": "70900315ddb34a0abf6ef21de4bb796b"
      }
     },
     "metadata": {}
    },
    {
     "output_type": "stream",
     "name": "stdout",
     "text": [
      "\n"
     ]
    },
    {
     "output_type": "display_data",
     "data": {
      "text/plain": "HBox(children=(FloatProgress(value=0.0, max=18816.0), HTML(value='')))",
      "application/vnd.jupyter.widget-view+json": {
       "version_major": 2,
       "version_minor": 0,
       "model_id": "f15b4dbfc6a346c481f2cdcb5672d33f"
      }
     },
     "metadata": {}
    },
    {
     "output_type": "stream",
     "name": "stdout",
     "text": [
      "\n"
     ]
    }
   ],
   "source": [
    "train_protein = dna_to_protein(train.sequence)\n",
    "test_protein = dna_to_protein(test.sequence)"
   ]
  },
  {
   "cell_type": "code",
   "execution_count": 10,
   "metadata": {},
   "outputs": [
    {
     "output_type": "display_data",
     "data": {
      "text/plain": "HBox(children=(FloatProgress(value=0.0, max=86263.0), HTML(value='')))",
      "application/vnd.jupyter.widget-view+json": {
       "version_major": 2,
       "version_minor": 0,
       "model_id": "5c955a60ad424bfdaf0c15bebe33875a"
      }
     },
     "metadata": {}
    },
    {
     "output_type": "stream",
     "name": "stdout",
     "text": [
      "\n20033\n"
     ]
    }
   ],
   "source": [
    "sequences = train_protein+test_protein\n",
    "max_len = 0\n",
    "\n",
    "lenghts = []\n",
    "\n",
    "for seq in tqdm(sequences,total=len(sequences)):\n",
    "    l = len(seq)\n",
    "    max_len = max(max_len, l)\n",
    "    lenghts.append(l)\n",
    "    \n",
    "print(max_len)"
   ]
  },
  {
   "cell_type": "code",
   "execution_count": 11,
   "metadata": {},
   "outputs": [
    {
     "output_type": "execute_result",
     "data": {
      "text/plain": [
       "<AxesSubplot:>"
      ]
     },
     "metadata": {},
     "execution_count": 11
    },
    {
     "output_type": "display_data",
     "data": {
      "text/plain": "<Figure size 432x288 with 1 Axes>",
      "image/svg+xml": "<?xml version=\"1.0\" encoding=\"utf-8\" standalone=\"no\"?>\r\n<!DOCTYPE svg PUBLIC \"-//W3C//DTD SVG 1.1//EN\"\r\n  \"http://www.w3.org/Graphics/SVG/1.1/DTD/svg11.dtd\">\r\n<!-- Created with matplotlib (https://matplotlib.org/) -->\r\n<svg height=\"248.518125pt\" version=\"1.1\" viewBox=\"0 0 391.190625 248.518125\" width=\"391.190625pt\" xmlns=\"http://www.w3.org/2000/svg\" xmlns:xlink=\"http://www.w3.org/1999/xlink\">\r\n <metadata>\r\n  <rdf:RDF xmlns:cc=\"http://creativecommons.org/ns#\" xmlns:dc=\"http://purl.org/dc/elements/1.1/\" xmlns:rdf=\"http://www.w3.org/1999/02/22-rdf-syntax-ns#\">\r\n   <cc:Work>\r\n    <dc:type rdf:resource=\"http://purl.org/dc/dcmitype/StillImage\"/>\r\n    <dc:date>2020-10-13T15:34:26.300203</dc:date>\r\n    <dc:format>image/svg+xml</dc:format>\r\n    <dc:creator>\r\n     <cc:Agent>\r\n      <dc:title>Matplotlib v3.3.1, https://matplotlib.org/</dc:title>\r\n     </cc:Agent>\r\n    </dc:creator>\r\n   </cc:Work>\r\n  </rdf:RDF>\r\n </metadata>\r\n <defs>\r\n  <style type=\"text/css\">*{stroke-linecap:butt;stroke-linejoin:round;}</style>\r\n </defs>\r\n <g id=\"figure_1\">\r\n  <g id=\"patch_1\">\r\n   <path d=\"M 0 248.518125 \r\nL 391.190625 248.518125 \r\nL 391.190625 0 \r\nL 0 0 \r\nz\r\n\" style=\"fill:none;\"/>\r\n  </g>\r\n  <g id=\"axes_1\">\r\n   <g id=\"patch_2\">\r\n    <path d=\"M 49.190625 224.64 \r\nL 383.990625 224.64 \r\nL 383.990625 7.2 \r\nL 49.190625 7.2 \r\nz\r\n\" style=\"fill:#ffffff;\"/>\r\n   </g>\r\n   <g id=\"patch_3\">\r\n    <path clip-path=\"url(#p73e1a74668)\" d=\"M 70.305911 224.64 \r\nL 76.1573 224.64 \r\nL 76.1573 31.506679 \r\nL 70.305911 31.506679 \r\nz\r\n\" style=\"fill:#1f77b4;opacity:0.4;\"/>\r\n   </g>\r\n   <g id=\"patch_4\">\r\n    <path clip-path=\"url(#p73e1a74668)\" d=\"M 76.1573 224.64 \r\nL 82.008688 224.64 \r\nL 82.008688 210.971222 \r\nL 76.1573 210.971222 \r\nz\r\n\" style=\"fill:#1f77b4;opacity:0.4;\"/>\r\n   </g>\r\n   <g id=\"patch_5\">\r\n    <path clip-path=\"url(#p73e1a74668)\" d=\"M 82.008688 224.64 \r\nL 87.860077 224.64 \r\nL 87.860077 191.294691 \r\nL 82.008688 191.294691 \r\nz\r\n\" style=\"fill:#1f77b4;opacity:0.4;\"/>\r\n   </g>\r\n   <g id=\"patch_6\">\r\n    <path clip-path=\"url(#p73e1a74668)\" d=\"M 87.860077 224.64 \r\nL 93.711465 224.64 \r\nL 93.711465 182.423003 \r\nL 87.860077 182.423003 \r\nz\r\n\" style=\"fill:#1f77b4;opacity:0.4;\"/>\r\n   </g>\r\n   <g id=\"patch_7\">\r\n    <path clip-path=\"url(#p73e1a74668)\" d=\"M 93.711465 224.64 \r\nL 99.562854 224.64 \r\nL 99.562854 166.970776 \r\nL 93.711465 166.970776 \r\nz\r\n\" style=\"fill:#1f77b4;opacity:0.4;\"/>\r\n   </g>\r\n   <g id=\"patch_8\">\r\n    <path clip-path=\"url(#p73e1a74668)\" d=\"M 99.562854 224.64 \r\nL 105.414242 224.64 \r\nL 105.414242 157.291979 \r\nL 99.562854 157.291979 \r\nz\r\n\" style=\"fill:#1f77b4;opacity:0.4;\"/>\r\n   </g>\r\n   <g id=\"patch_9\">\r\n    <path clip-path=\"url(#p73e1a74668)\" d=\"M 105.414242 224.64 \r\nL 111.265631 224.64 \r\nL 111.265631 159.238153 \r\nL 105.414242 159.238153 \r\nz\r\n\" style=\"fill:#1f77b4;opacity:0.4;\"/>\r\n   </g>\r\n   <g id=\"patch_10\">\r\n    <path clip-path=\"url(#p73e1a74668)\" d=\"M 111.265631 224.64 \r\nL 117.11702 224.64 \r\nL 117.11702 191.099423 \r\nL 111.265631 191.099423 \r\nz\r\n\" style=\"fill:#1f77b4;opacity:0.4;\"/>\r\n   </g>\r\n   <g id=\"patch_11\">\r\n    <path clip-path=\"url(#p73e1a74668)\" d=\"M 117.11702 224.64 \r\nL 122.968408 224.64 \r\nL 122.968408 206.707865 \r\nL 117.11702 206.707865 \r\nz\r\n\" style=\"fill:#1f77b4;opacity:0.4;\"/>\r\n   </g>\r\n   <g id=\"patch_12\">\r\n    <path clip-path=\"url(#p73e1a74668)\" d=\"M 122.968408 224.64 \r\nL 128.819797 224.64 \r\nL 128.819797 208.185395 \r\nL 122.968408 208.185395 \r\nz\r\n\" style=\"fill:#1f77b4;opacity:0.4;\"/>\r\n   </g>\r\n   <g id=\"patch_13\">\r\n    <path clip-path=\"url(#p73e1a74668)\" d=\"M 128.819797 224.64 \r\nL 134.671185 224.64 \r\nL 134.671185 217.271878 \r\nL 128.819797 217.271878 \r\nz\r\n\" style=\"fill:#1f77b4;opacity:0.4;\"/>\r\n   </g>\r\n   <g id=\"patch_14\">\r\n    <path clip-path=\"url(#p73e1a74668)\" d=\"M 134.671185 224.64 \r\nL 140.522574 224.64 \r\nL 140.522574 220.298536 \r\nL 134.671185 220.298536 \r\nz\r\n\" style=\"fill:#1f77b4;opacity:0.4;\"/>\r\n   </g>\r\n   <g id=\"patch_15\">\r\n    <path clip-path=\"url(#p73e1a74668)\" d=\"M 140.522574 224.64 \r\nL 146.373962 224.64 \r\nL 146.373962 221.632869 \r\nL 140.522574 221.632869 \r\nz\r\n\" style=\"fill:#1f77b4;opacity:0.4;\"/>\r\n   </g>\r\n   <g id=\"patch_16\">\r\n    <path clip-path=\"url(#p73e1a74668)\" d=\"M 146.373962 224.64 \r\nL 152.225351 224.64 \r\nL 152.225351 223.188506 \r\nL 146.373962 223.188506 \r\nz\r\n\" style=\"fill:#1f77b4;opacity:0.4;\"/>\r\n   </g>\r\n   <g id=\"patch_17\">\r\n    <path clip-path=\"url(#p73e1a74668)\" d=\"M 152.225351 224.64 \r\nL 158.076739 224.64 \r\nL 158.076739 223.481408 \r\nL 152.225351 223.481408 \r\nz\r\n\" style=\"fill:#1f77b4;opacity:0.4;\"/>\r\n   </g>\r\n   <g id=\"patch_18\">\r\n    <path clip-path=\"url(#p73e1a74668)\" d=\"M 158.076739 224.64 \r\nL 163.928128 224.64 \r\nL 163.928128 223.494426 \r\nL 158.076739 223.494426 \r\nz\r\n\" style=\"fill:#1f77b4;opacity:0.4;\"/>\r\n   </g>\r\n   <g id=\"patch_19\">\r\n    <path clip-path=\"url(#p73e1a74668)\" d=\"M 163.928128 224.64 \r\nL 169.779517 224.64 \r\nL 169.779517 223.702712 \r\nL 163.928128 223.702712 \r\nz\r\n\" style=\"fill:#1f77b4;opacity:0.4;\"/>\r\n   </g>\r\n   <g id=\"patch_20\">\r\n    <path clip-path=\"url(#p73e1a74668)\" d=\"M 169.779517 224.64 \r\nL 175.630905 224.64 \r\nL 175.630905 224.171356 \r\nL 169.779517 224.171356 \r\nz\r\n\" style=\"fill:#1f77b4;opacity:0.4;\"/>\r\n   </g>\r\n   <g id=\"patch_21\">\r\n    <path clip-path=\"url(#p73e1a74668)\" d=\"M 175.630905 224.64 \r\nL 181.482294 224.64 \r\nL 181.482294 224.262481 \r\nL 175.630905 224.262481 \r\nz\r\n\" style=\"fill:#1f77b4;opacity:0.4;\"/>\r\n   </g>\r\n   <g id=\"patch_22\">\r\n    <path clip-path=\"url(#p73e1a74668)\" d=\"M 181.482294 224.64 \r\nL 187.333682 224.64 \r\nL 187.333682 224.58142 \r\nL 181.482294 224.58142 \r\nz\r\n\" style=\"fill:#1f77b4;opacity:0.4;\"/>\r\n   </g>\r\n   <g id=\"patch_23\">\r\n    <path clip-path=\"url(#p73e1a74668)\" d=\"M 187.333682 224.64 \r\nL 193.185071 224.64 \r\nL 193.185071 224.594437 \r\nL 187.333682 224.594437 \r\nz\r\n\" style=\"fill:#1f77b4;opacity:0.4;\"/>\r\n   </g>\r\n   <g id=\"patch_24\">\r\n    <path clip-path=\"url(#p73e1a74668)\" d=\"M 193.185071 224.64 \r\nL 199.036459 224.64 \r\nL 199.036459 224.64 \r\nL 193.185071 224.64 \r\nz\r\n\" style=\"fill:#1f77b4;opacity:0.4;\"/>\r\n   </g>\r\n   <g id=\"patch_25\">\r\n    <path clip-path=\"url(#p73e1a74668)\" d=\"M 199.036459 224.64 \r\nL 204.887848 224.64 \r\nL 204.887848 224.607455 \r\nL 199.036459 224.607455 \r\nz\r\n\" style=\"fill:#1f77b4;opacity:0.4;\"/>\r\n   </g>\r\n   <g id=\"patch_26\">\r\n    <path clip-path=\"url(#p73e1a74668)\" d=\"M 204.887848 224.64 \r\nL 210.739236 224.64 \r\nL 210.739236 224.613964 \r\nL 204.887848 224.613964 \r\nz\r\n\" style=\"fill:#1f77b4;opacity:0.4;\"/>\r\n   </g>\r\n   <g id=\"patch_27\">\r\n    <path clip-path=\"url(#p73e1a74668)\" d=\"M 210.739236 224.64 \r\nL 216.590625 224.64 \r\nL 216.590625 224.64 \r\nL 210.739236 224.64 \r\nz\r\n\" style=\"fill:#1f77b4;opacity:0.4;\"/>\r\n   </g>\r\n   <g id=\"patch_28\">\r\n    <path clip-path=\"url(#p73e1a74668)\" d=\"M 216.590625 224.64 \r\nL 222.442014 224.64 \r\nL 222.442014 224.633491 \r\nL 216.590625 224.633491 \r\nz\r\n\" style=\"fill:#1f77b4;opacity:0.4;\"/>\r\n   </g>\r\n   <g id=\"patch_29\">\r\n    <path clip-path=\"url(#p73e1a74668)\" d=\"M 222.442014 224.64 \r\nL 228.293402 224.64 \r\nL 228.293402 224.626982 \r\nL 222.442014 224.626982 \r\nz\r\n\" style=\"fill:#1f77b4;opacity:0.4;\"/>\r\n   </g>\r\n   <g id=\"patch_30\">\r\n    <path clip-path=\"url(#p73e1a74668)\" d=\"M 228.293402 224.64 \r\nL 234.144791 224.64 \r\nL 234.144791 224.613964 \r\nL 228.293402 224.613964 \r\nz\r\n\" style=\"fill:#1f77b4;opacity:0.4;\"/>\r\n   </g>\r\n   <g id=\"patch_31\">\r\n    <path clip-path=\"url(#p73e1a74668)\" d=\"M 234.144791 224.64 \r\nL 239.996179 224.64 \r\nL 239.996179 224.607455 \r\nL 234.144791 224.607455 \r\nz\r\n\" style=\"fill:#1f77b4;opacity:0.4;\"/>\r\n   </g>\r\n   <g id=\"patch_32\">\r\n    <path clip-path=\"url(#p73e1a74668)\" d=\"M 239.996179 224.64 \r\nL 245.847568 224.64 \r\nL 245.847568 224.594437 \r\nL 239.996179 224.594437 \r\nz\r\n\" style=\"fill:#1f77b4;opacity:0.4;\"/>\r\n   </g>\r\n   <g id=\"patch_33\">\r\n    <path clip-path=\"url(#p73e1a74668)\" d=\"M 245.847568 224.64 \r\nL 251.698956 224.64 \r\nL 251.698956 224.561893 \r\nL 245.847568 224.561893 \r\nz\r\n\" style=\"fill:#1f77b4;opacity:0.4;\"/>\r\n   </g>\r\n   <g id=\"patch_34\">\r\n    <path clip-path=\"url(#p73e1a74668)\" d=\"M 251.698956 224.64 \r\nL 257.550345 224.64 \r\nL 257.550345 224.607455 \r\nL 251.698956 224.607455 \r\nz\r\n\" style=\"fill:#1f77b4;opacity:0.4;\"/>\r\n   </g>\r\n   <g id=\"patch_35\">\r\n    <path clip-path=\"url(#p73e1a74668)\" d=\"M 257.550345 224.64 \r\nL 263.401733 224.64 \r\nL 263.401733 224.587928 \r\nL 257.550345 224.587928 \r\nz\r\n\" style=\"fill:#1f77b4;opacity:0.4;\"/>\r\n   </g>\r\n   <g id=\"patch_36\">\r\n    <path clip-path=\"url(#p73e1a74668)\" d=\"M 263.401733 224.64 \r\nL 269.253122 224.64 \r\nL 269.253122 224.626982 \r\nL 263.401733 224.626982 \r\nz\r\n\" style=\"fill:#1f77b4;opacity:0.4;\"/>\r\n   </g>\r\n   <g id=\"patch_37\">\r\n    <path clip-path=\"url(#p73e1a74668)\" d=\"M 269.253122 224.64 \r\nL 275.104511 224.64 \r\nL 275.104511 224.64 \r\nL 269.253122 224.64 \r\nz\r\n\" style=\"fill:#1f77b4;opacity:0.4;\"/>\r\n   </g>\r\n   <g id=\"patch_38\">\r\n    <path clip-path=\"url(#p73e1a74668)\" d=\"M 275.104511 224.64 \r\nL 280.955899 224.64 \r\nL 280.955899 224.633491 \r\nL 275.104511 224.633491 \r\nz\r\n\" style=\"fill:#1f77b4;opacity:0.4;\"/>\r\n   </g>\r\n   <g id=\"patch_39\">\r\n    <path clip-path=\"url(#p73e1a74668)\" d=\"M 280.955899 224.64 \r\nL 286.807288 224.64 \r\nL 286.807288 224.613964 \r\nL 280.955899 224.613964 \r\nz\r\n\" style=\"fill:#1f77b4;opacity:0.4;\"/>\r\n   </g>\r\n   <g id=\"patch_40\">\r\n    <path clip-path=\"url(#p73e1a74668)\" d=\"M 286.807288 224.64 \r\nL 292.658676 224.64 \r\nL 292.658676 224.64 \r\nL 286.807288 224.64 \r\nz\r\n\" style=\"fill:#1f77b4;opacity:0.4;\"/>\r\n   </g>\r\n   <g id=\"patch_41\">\r\n    <path clip-path=\"url(#p73e1a74668)\" d=\"M 292.658676 224.64 \r\nL 298.510065 224.64 \r\nL 298.510065 224.64 \r\nL 292.658676 224.64 \r\nz\r\n\" style=\"fill:#1f77b4;opacity:0.4;\"/>\r\n   </g>\r\n   <g id=\"patch_42\">\r\n    <path clip-path=\"url(#p73e1a74668)\" d=\"M 298.510065 224.64 \r\nL 304.361453 224.64 \r\nL 304.361453 224.64 \r\nL 298.510065 224.64 \r\nz\r\n\" style=\"fill:#1f77b4;opacity:0.4;\"/>\r\n   </g>\r\n   <g id=\"patch_43\">\r\n    <path clip-path=\"url(#p73e1a74668)\" d=\"M 304.361453 224.64 \r\nL 310.212842 224.64 \r\nL 310.212842 224.64 \r\nL 304.361453 224.64 \r\nz\r\n\" style=\"fill:#1f77b4;opacity:0.4;\"/>\r\n   </g>\r\n   <g id=\"patch_44\">\r\n    <path clip-path=\"url(#p73e1a74668)\" d=\"M 310.212842 224.64 \r\nL 316.06423 224.64 \r\nL 316.06423 224.64 \r\nL 310.212842 224.64 \r\nz\r\n\" style=\"fill:#1f77b4;opacity:0.4;\"/>\r\n   </g>\r\n   <g id=\"patch_45\">\r\n    <path clip-path=\"url(#p73e1a74668)\" d=\"M 316.06423 224.64 \r\nL 321.915619 224.64 \r\nL 321.915619 224.64 \r\nL 316.06423 224.64 \r\nz\r\n\" style=\"fill:#1f77b4;opacity:0.4;\"/>\r\n   </g>\r\n   <g id=\"patch_46\">\r\n    <path clip-path=\"url(#p73e1a74668)\" d=\"M 321.915619 224.64 \r\nL 327.767008 224.64 \r\nL 327.767008 224.633491 \r\nL 321.915619 224.633491 \r\nz\r\n\" style=\"fill:#1f77b4;opacity:0.4;\"/>\r\n   </g>\r\n   <g id=\"patch_47\">\r\n    <path clip-path=\"url(#p73e1a74668)\" d=\"M 327.767008 224.64 \r\nL 333.618396 224.64 \r\nL 333.618396 224.64 \r\nL 327.767008 224.64 \r\nz\r\n\" style=\"fill:#1f77b4;opacity:0.4;\"/>\r\n   </g>\r\n   <g id=\"patch_48\">\r\n    <path clip-path=\"url(#p73e1a74668)\" d=\"M 333.618396 224.64 \r\nL 339.469785 224.64 \r\nL 339.469785 224.64 \r\nL 333.618396 224.64 \r\nz\r\n\" style=\"fill:#1f77b4;opacity:0.4;\"/>\r\n   </g>\r\n   <g id=\"patch_49\">\r\n    <path clip-path=\"url(#p73e1a74668)\" d=\"M 339.469785 224.64 \r\nL 345.321173 224.64 \r\nL 345.321173 224.64 \r\nL 339.469785 224.64 \r\nz\r\n\" style=\"fill:#1f77b4;opacity:0.4;\"/>\r\n   </g>\r\n   <g id=\"patch_50\">\r\n    <path clip-path=\"url(#p73e1a74668)\" d=\"M 345.321173 224.64 \r\nL 351.172562 224.64 \r\nL 351.172562 224.64 \r\nL 345.321173 224.64 \r\nz\r\n\" style=\"fill:#1f77b4;opacity:0.4;\"/>\r\n   </g>\r\n   <g id=\"patch_51\">\r\n    <path clip-path=\"url(#p73e1a74668)\" d=\"M 351.172562 224.64 \r\nL 357.02395 224.64 \r\nL 357.02395 224.64 \r\nL 351.172562 224.64 \r\nz\r\n\" style=\"fill:#1f77b4;opacity:0.4;\"/>\r\n   </g>\r\n   <g id=\"patch_52\">\r\n    <path clip-path=\"url(#p73e1a74668)\" d=\"M 357.02395 224.64 \r\nL 362.875339 224.64 \r\nL 362.875339 224.626982 \r\nL 357.02395 224.626982 \r\nz\r\n\" style=\"fill:#1f77b4;opacity:0.4;\"/>\r\n   </g>\r\n   <g id=\"matplotlib.axis_1\">\r\n    <g id=\"xtick_1\">\r\n     <g id=\"line2d_1\">\r\n      <defs>\r\n       <path d=\"M 0 0 \r\nL 0 3.5 \r\n\" id=\"m49e6ff45dd\" style=\"stroke:#000000;stroke-width:0.8;\"/>\r\n      </defs>\r\n      <g>\r\n       <use style=\"stroke:#000000;stroke-width:0.8;\" x=\"70.218259\" xlink:href=\"#m49e6ff45dd\" y=\"224.64\"/>\r\n      </g>\r\n     </g>\r\n     <g id=\"text_1\">\r\n      <!-- 0 -->\r\n      <g transform=\"translate(67.037009 239.238437)scale(0.1 -0.1)\">\r\n       <defs>\r\n        <path d=\"M 31.78125 66.40625 \r\nQ 24.171875 66.40625 20.328125 58.90625 \r\nQ 16.5 51.421875 16.5 36.375 \r\nQ 16.5 21.390625 20.328125 13.890625 \r\nQ 24.171875 6.390625 31.78125 6.390625 \r\nQ 39.453125 6.390625 43.28125 13.890625 \r\nQ 47.125 21.390625 47.125 36.375 \r\nQ 47.125 51.421875 43.28125 58.90625 \r\nQ 39.453125 66.40625 31.78125 66.40625 \r\nz\r\nM 31.78125 74.21875 \r\nQ 44.046875 74.21875 50.515625 64.515625 \r\nQ 56.984375 54.828125 56.984375 36.375 \r\nQ 56.984375 17.96875 50.515625 8.265625 \r\nQ 44.046875 -1.421875 31.78125 -1.421875 \r\nQ 19.53125 -1.421875 13.0625 8.265625 \r\nQ 6.59375 17.96875 6.59375 36.375 \r\nQ 6.59375 54.828125 13.0625 64.515625 \r\nQ 19.53125 74.21875 31.78125 74.21875 \r\nz\r\n\" id=\"DejaVuSans-48\"/>\r\n       </defs>\r\n       <use xlink:href=\"#DejaVuSans-48\"/>\r\n      </g>\r\n     </g>\r\n    </g>\r\n    <g id=\"xtick_2\">\r\n     <g id=\"line2d_2\">\r\n      <g>\r\n       <use style=\"stroke:#000000;stroke-width:0.8;\" x=\"143.262006\" xlink:href=\"#m49e6ff45dd\" y=\"224.64\"/>\r\n      </g>\r\n     </g>\r\n     <g id=\"text_2\">\r\n      <!-- 5000 -->\r\n      <g transform=\"translate(130.537006 239.238437)scale(0.1 -0.1)\">\r\n       <defs>\r\n        <path d=\"M 10.796875 72.90625 \r\nL 49.515625 72.90625 \r\nL 49.515625 64.59375 \r\nL 19.828125 64.59375 \r\nL 19.828125 46.734375 \r\nQ 21.96875 47.46875 24.109375 47.828125 \r\nQ 26.265625 48.1875 28.421875 48.1875 \r\nQ 40.625 48.1875 47.75 41.5 \r\nQ 54.890625 34.8125 54.890625 23.390625 \r\nQ 54.890625 11.625 47.5625 5.09375 \r\nQ 40.234375 -1.421875 26.90625 -1.421875 \r\nQ 22.3125 -1.421875 17.546875 -0.640625 \r\nQ 12.796875 0.140625 7.71875 1.703125 \r\nL 7.71875 11.625 \r\nQ 12.109375 9.234375 16.796875 8.0625 \r\nQ 21.484375 6.890625 26.703125 6.890625 \r\nQ 35.15625 6.890625 40.078125 11.328125 \r\nQ 45.015625 15.765625 45.015625 23.390625 \r\nQ 45.015625 31 40.078125 35.4375 \r\nQ 35.15625 39.890625 26.703125 39.890625 \r\nQ 22.75 39.890625 18.8125 39.015625 \r\nQ 14.890625 38.140625 10.796875 36.28125 \r\nz\r\n\" id=\"DejaVuSans-53\"/>\r\n       </defs>\r\n       <use xlink:href=\"#DejaVuSans-53\"/>\r\n       <use x=\"63.623047\" xlink:href=\"#DejaVuSans-48\"/>\r\n       <use x=\"127.246094\" xlink:href=\"#DejaVuSans-48\"/>\r\n       <use x=\"190.869141\" xlink:href=\"#DejaVuSans-48\"/>\r\n      </g>\r\n     </g>\r\n    </g>\r\n    <g id=\"xtick_3\">\r\n     <g id=\"line2d_3\">\r\n      <g>\r\n       <use style=\"stroke:#000000;stroke-width:0.8;\" x=\"216.305754\" xlink:href=\"#m49e6ff45dd\" y=\"224.64\"/>\r\n      </g>\r\n     </g>\r\n     <g id=\"text_3\">\r\n      <!-- 10000 -->\r\n      <g transform=\"translate(200.399504 239.238437)scale(0.1 -0.1)\">\r\n       <defs>\r\n        <path d=\"M 12.40625 8.296875 \r\nL 28.515625 8.296875 \r\nL 28.515625 63.921875 \r\nL 10.984375 60.40625 \r\nL 10.984375 69.390625 \r\nL 28.421875 72.90625 \r\nL 38.28125 72.90625 \r\nL 38.28125 8.296875 \r\nL 54.390625 8.296875 \r\nL 54.390625 0 \r\nL 12.40625 0 \r\nz\r\n\" id=\"DejaVuSans-49\"/>\r\n       </defs>\r\n       <use xlink:href=\"#DejaVuSans-49\"/>\r\n       <use x=\"63.623047\" xlink:href=\"#DejaVuSans-48\"/>\r\n       <use x=\"127.246094\" xlink:href=\"#DejaVuSans-48\"/>\r\n       <use x=\"190.869141\" xlink:href=\"#DejaVuSans-48\"/>\r\n       <use x=\"254.492188\" xlink:href=\"#DejaVuSans-48\"/>\r\n      </g>\r\n     </g>\r\n    </g>\r\n    <g id=\"xtick_4\">\r\n     <g id=\"line2d_4\">\r\n      <g>\r\n       <use style=\"stroke:#000000;stroke-width:0.8;\" x=\"289.349502\" xlink:href=\"#m49e6ff45dd\" y=\"224.64\"/>\r\n      </g>\r\n     </g>\r\n     <g id=\"text_4\">\r\n      <!-- 15000 -->\r\n      <g transform=\"translate(273.443252 239.238437)scale(0.1 -0.1)\">\r\n       <use xlink:href=\"#DejaVuSans-49\"/>\r\n       <use x=\"63.623047\" xlink:href=\"#DejaVuSans-53\"/>\r\n       <use x=\"127.246094\" xlink:href=\"#DejaVuSans-48\"/>\r\n       <use x=\"190.869141\" xlink:href=\"#DejaVuSans-48\"/>\r\n       <use x=\"254.492188\" xlink:href=\"#DejaVuSans-48\"/>\r\n      </g>\r\n     </g>\r\n    </g>\r\n    <g id=\"xtick_5\">\r\n     <g id=\"line2d_5\">\r\n      <g>\r\n       <use style=\"stroke:#000000;stroke-width:0.8;\" x=\"362.39325\" xlink:href=\"#m49e6ff45dd\" y=\"224.64\"/>\r\n      </g>\r\n     </g>\r\n     <g id=\"text_5\">\r\n      <!-- 20000 -->\r\n      <g transform=\"translate(346.487 239.238437)scale(0.1 -0.1)\">\r\n       <defs>\r\n        <path d=\"M 19.1875 8.296875 \r\nL 53.609375 8.296875 \r\nL 53.609375 0 \r\nL 7.328125 0 \r\nL 7.328125 8.296875 \r\nQ 12.9375 14.109375 22.625 23.890625 \r\nQ 32.328125 33.6875 34.8125 36.53125 \r\nQ 39.546875 41.84375 41.421875 45.53125 \r\nQ 43.3125 49.21875 43.3125 52.78125 \r\nQ 43.3125 58.59375 39.234375 62.25 \r\nQ 35.15625 65.921875 28.609375 65.921875 \r\nQ 23.96875 65.921875 18.8125 64.3125 \r\nQ 13.671875 62.703125 7.8125 59.421875 \r\nL 7.8125 69.390625 \r\nQ 13.765625 71.78125 18.9375 73 \r\nQ 24.125 74.21875 28.421875 74.21875 \r\nQ 39.75 74.21875 46.484375 68.546875 \r\nQ 53.21875 62.890625 53.21875 53.421875 \r\nQ 53.21875 48.921875 51.53125 44.890625 \r\nQ 49.859375 40.875 45.40625 35.40625 \r\nQ 44.1875 33.984375 37.640625 27.21875 \r\nQ 31.109375 20.453125 19.1875 8.296875 \r\nz\r\n\" id=\"DejaVuSans-50\"/>\r\n       </defs>\r\n       <use xlink:href=\"#DejaVuSans-50\"/>\r\n       <use x=\"63.623047\" xlink:href=\"#DejaVuSans-48\"/>\r\n       <use x=\"127.246094\" xlink:href=\"#DejaVuSans-48\"/>\r\n       <use x=\"190.869141\" xlink:href=\"#DejaVuSans-48\"/>\r\n       <use x=\"254.492188\" xlink:href=\"#DejaVuSans-48\"/>\r\n      </g>\r\n     </g>\r\n    </g>\r\n   </g>\r\n   <g id=\"matplotlib.axis_2\">\r\n    <g id=\"ytick_1\">\r\n     <g id=\"line2d_6\">\r\n      <defs>\r\n       <path d=\"M 0 0 \r\nL -3.5 0 \r\n\" id=\"m69b71b1cc4\" style=\"stroke:#000000;stroke-width:0.8;\"/>\r\n      </defs>\r\n      <g>\r\n       <use style=\"stroke:#000000;stroke-width:0.8;\" x=\"49.190625\" xlink:href=\"#m69b71b1cc4\" y=\"224.64\"/>\r\n      </g>\r\n     </g>\r\n     <g id=\"text_6\">\r\n      <!-- 0.0000 -->\r\n      <g transform=\"translate(7.2 228.439219)scale(0.1 -0.1)\">\r\n       <defs>\r\n        <path d=\"M 10.6875 12.40625 \r\nL 21 12.40625 \r\nL 21 0 \r\nL 10.6875 0 \r\nz\r\n\" id=\"DejaVuSans-46\"/>\r\n       </defs>\r\n       <use xlink:href=\"#DejaVuSans-48\"/>\r\n       <use x=\"63.623047\" xlink:href=\"#DejaVuSans-46\"/>\r\n       <use x=\"95.410156\" xlink:href=\"#DejaVuSans-48\"/>\r\n       <use x=\"159.033203\" xlink:href=\"#DejaVuSans-48\"/>\r\n       <use x=\"222.65625\" xlink:href=\"#DejaVuSans-48\"/>\r\n       <use x=\"286.279297\" xlink:href=\"#DejaVuSans-48\"/>\r\n      </g>\r\n     </g>\r\n    </g>\r\n    <g id=\"ytick_2\">\r\n     <g id=\"line2d_7\">\r\n      <g>\r\n       <use style=\"stroke:#000000;stroke-width:0.8;\" x=\"49.190625\" xlink:href=\"#m69b71b1cc4\" y=\"179.660892\"/>\r\n      </g>\r\n     </g>\r\n     <g id=\"text_7\">\r\n      <!-- 0.0002 -->\r\n      <g transform=\"translate(7.2 183.460111)scale(0.1 -0.1)\">\r\n       <use xlink:href=\"#DejaVuSans-48\"/>\r\n       <use x=\"63.623047\" xlink:href=\"#DejaVuSans-46\"/>\r\n       <use x=\"95.410156\" xlink:href=\"#DejaVuSans-48\"/>\r\n       <use x=\"159.033203\" xlink:href=\"#DejaVuSans-48\"/>\r\n       <use x=\"222.65625\" xlink:href=\"#DejaVuSans-48\"/>\r\n       <use x=\"286.279297\" xlink:href=\"#DejaVuSans-50\"/>\r\n      </g>\r\n     </g>\r\n    </g>\r\n    <g id=\"ytick_3\">\r\n     <g id=\"line2d_8\">\r\n      <g>\r\n       <use style=\"stroke:#000000;stroke-width:0.8;\" x=\"49.190625\" xlink:href=\"#m69b71b1cc4\" y=\"134.681785\"/>\r\n      </g>\r\n     </g>\r\n     <g id=\"text_8\">\r\n      <!-- 0.0004 -->\r\n      <g transform=\"translate(7.2 138.481003)scale(0.1 -0.1)\">\r\n       <defs>\r\n        <path d=\"M 37.796875 64.3125 \r\nL 12.890625 25.390625 \r\nL 37.796875 25.390625 \r\nz\r\nM 35.203125 72.90625 \r\nL 47.609375 72.90625 \r\nL 47.609375 25.390625 \r\nL 58.015625 25.390625 \r\nL 58.015625 17.1875 \r\nL 47.609375 17.1875 \r\nL 47.609375 0 \r\nL 37.796875 0 \r\nL 37.796875 17.1875 \r\nL 4.890625 17.1875 \r\nL 4.890625 26.703125 \r\nz\r\n\" id=\"DejaVuSans-52\"/>\r\n       </defs>\r\n       <use xlink:href=\"#DejaVuSans-48\"/>\r\n       <use x=\"63.623047\" xlink:href=\"#DejaVuSans-46\"/>\r\n       <use x=\"95.410156\" xlink:href=\"#DejaVuSans-48\"/>\r\n       <use x=\"159.033203\" xlink:href=\"#DejaVuSans-48\"/>\r\n       <use x=\"222.65625\" xlink:href=\"#DejaVuSans-48\"/>\r\n       <use x=\"286.279297\" xlink:href=\"#DejaVuSans-52\"/>\r\n      </g>\r\n     </g>\r\n    </g>\r\n    <g id=\"ytick_4\">\r\n     <g id=\"line2d_9\">\r\n      <g>\r\n       <use style=\"stroke:#000000;stroke-width:0.8;\" x=\"49.190625\" xlink:href=\"#m69b71b1cc4\" y=\"89.702677\"/>\r\n      </g>\r\n     </g>\r\n     <g id=\"text_9\">\r\n      <!-- 0.0006 -->\r\n      <g transform=\"translate(7.2 93.501896)scale(0.1 -0.1)\">\r\n       <defs>\r\n        <path d=\"M 33.015625 40.375 \r\nQ 26.375 40.375 22.484375 35.828125 \r\nQ 18.609375 31.296875 18.609375 23.390625 \r\nQ 18.609375 15.53125 22.484375 10.953125 \r\nQ 26.375 6.390625 33.015625 6.390625 \r\nQ 39.65625 6.390625 43.53125 10.953125 \r\nQ 47.40625 15.53125 47.40625 23.390625 \r\nQ 47.40625 31.296875 43.53125 35.828125 \r\nQ 39.65625 40.375 33.015625 40.375 \r\nz\r\nM 52.59375 71.296875 \r\nL 52.59375 62.3125 \r\nQ 48.875 64.0625 45.09375 64.984375 \r\nQ 41.3125 65.921875 37.59375 65.921875 \r\nQ 27.828125 65.921875 22.671875 59.328125 \r\nQ 17.53125 52.734375 16.796875 39.40625 \r\nQ 19.671875 43.65625 24.015625 45.921875 \r\nQ 28.375 48.1875 33.59375 48.1875 \r\nQ 44.578125 48.1875 50.953125 41.515625 \r\nQ 57.328125 34.859375 57.328125 23.390625 \r\nQ 57.328125 12.15625 50.6875 5.359375 \r\nQ 44.046875 -1.421875 33.015625 -1.421875 \r\nQ 20.359375 -1.421875 13.671875 8.265625 \r\nQ 6.984375 17.96875 6.984375 36.375 \r\nQ 6.984375 53.65625 15.1875 63.9375 \r\nQ 23.390625 74.21875 37.203125 74.21875 \r\nQ 40.921875 74.21875 44.703125 73.484375 \r\nQ 48.484375 72.75 52.59375 71.296875 \r\nz\r\n\" id=\"DejaVuSans-54\"/>\r\n       </defs>\r\n       <use xlink:href=\"#DejaVuSans-48\"/>\r\n       <use x=\"63.623047\" xlink:href=\"#DejaVuSans-46\"/>\r\n       <use x=\"95.410156\" xlink:href=\"#DejaVuSans-48\"/>\r\n       <use x=\"159.033203\" xlink:href=\"#DejaVuSans-48\"/>\r\n       <use x=\"222.65625\" xlink:href=\"#DejaVuSans-48\"/>\r\n       <use x=\"286.279297\" xlink:href=\"#DejaVuSans-54\"/>\r\n      </g>\r\n     </g>\r\n    </g>\r\n    <g id=\"ytick_5\">\r\n     <g id=\"line2d_10\">\r\n      <g>\r\n       <use style=\"stroke:#000000;stroke-width:0.8;\" x=\"49.190625\" xlink:href=\"#m69b71b1cc4\" y=\"44.723569\"/>\r\n      </g>\r\n     </g>\r\n     <g id=\"text_10\">\r\n      <!-- 0.0008 -->\r\n      <g transform=\"translate(7.2 48.522788)scale(0.1 -0.1)\">\r\n       <defs>\r\n        <path d=\"M 31.78125 34.625 \r\nQ 24.75 34.625 20.71875 30.859375 \r\nQ 16.703125 27.09375 16.703125 20.515625 \r\nQ 16.703125 13.921875 20.71875 10.15625 \r\nQ 24.75 6.390625 31.78125 6.390625 \r\nQ 38.8125 6.390625 42.859375 10.171875 \r\nQ 46.921875 13.96875 46.921875 20.515625 \r\nQ 46.921875 27.09375 42.890625 30.859375 \r\nQ 38.875 34.625 31.78125 34.625 \r\nz\r\nM 21.921875 38.8125 \r\nQ 15.578125 40.375 12.03125 44.71875 \r\nQ 8.5 49.078125 8.5 55.328125 \r\nQ 8.5 64.0625 14.71875 69.140625 \r\nQ 20.953125 74.21875 31.78125 74.21875 \r\nQ 42.671875 74.21875 48.875 69.140625 \r\nQ 55.078125 64.0625 55.078125 55.328125 \r\nQ 55.078125 49.078125 51.53125 44.71875 \r\nQ 48 40.375 41.703125 38.8125 \r\nQ 48.828125 37.15625 52.796875 32.3125 \r\nQ 56.78125 27.484375 56.78125 20.515625 \r\nQ 56.78125 9.90625 50.3125 4.234375 \r\nQ 43.84375 -1.421875 31.78125 -1.421875 \r\nQ 19.734375 -1.421875 13.25 4.234375 \r\nQ 6.78125 9.90625 6.78125 20.515625 \r\nQ 6.78125 27.484375 10.78125 32.3125 \r\nQ 14.796875 37.15625 21.921875 38.8125 \r\nz\r\nM 18.3125 54.390625 \r\nQ 18.3125 48.734375 21.84375 45.5625 \r\nQ 25.390625 42.390625 31.78125 42.390625 \r\nQ 38.140625 42.390625 41.71875 45.5625 \r\nQ 45.3125 48.734375 45.3125 54.390625 \r\nQ 45.3125 60.0625 41.71875 63.234375 \r\nQ 38.140625 66.40625 31.78125 66.40625 \r\nQ 25.390625 66.40625 21.84375 63.234375 \r\nQ 18.3125 60.0625 18.3125 54.390625 \r\nz\r\n\" id=\"DejaVuSans-56\"/>\r\n       </defs>\r\n       <use xlink:href=\"#DejaVuSans-48\"/>\r\n       <use x=\"63.623047\" xlink:href=\"#DejaVuSans-46\"/>\r\n       <use x=\"95.410156\" xlink:href=\"#DejaVuSans-48\"/>\r\n       <use x=\"159.033203\" xlink:href=\"#DejaVuSans-48\"/>\r\n       <use x=\"222.65625\" xlink:href=\"#DejaVuSans-48\"/>\r\n       <use x=\"286.279297\" xlink:href=\"#DejaVuSans-56\"/>\r\n      </g>\r\n     </g>\r\n    </g>\r\n   </g>\r\n   <g id=\"line2d_11\">\r\n    <path clip-path=\"url(#p73e1a74668)\" d=\"M 64.408807 224.62891 \r\nL 67.483187 223.177796 \r\nL 70.557567 180.196789 \r\nL 73.631947 17.554286 \r\nL 76.706327 107.171794 \r\nL 79.780708 204.433401 \r\nL 82.855088 200.238299 \r\nL 85.929468 187.276762 \r\nL 89.003848 184.177505 \r\nL 92.078228 180.281831 \r\nL 95.152608 171.165466 \r\nL 98.226989 163.154156 \r\nL 101.301369 159.330872 \r\nL 104.375749 157.990959 \r\nL 107.450129 166.934607 \r\nL 110.524509 164.173493 \r\nL 113.598889 183.9378 \r\nL 116.67327 197.607541 \r\nL 119.74765 205.460567 \r\nL 122.82203 205.691437 \r\nL 125.89641 208.999427 \r\nL 128.97079 214.752663 \r\nL 132.04517 217.46332 \r\nL 135.119551 219.117047 \r\nL 138.193931 220.433221 \r\nL 141.268311 221.145099 \r\nL 144.342691 222.062725 \r\nL 147.417071 222.87171 \r\nL 150.491451 223.270771 \r\nL 153.565832 223.506871 \r\nL 156.640212 223.505686 \r\nL 159.714592 223.484929 \r\nL 162.788972 223.589758 \r\nL 165.863352 223.741497 \r\nL 168.937732 223.725686 \r\nL 172.012113 224.101466 \r\nL 175.086493 224.25426 \r\nL 178.160873 224.275265 \r\nL 181.235253 224.390613 \r\nL 184.309633 224.545504 \r\nL 187.384013 224.598193 \r\nL 190.458394 224.595552 \r\nL 193.532774 224.615028 \r\nL 196.607154 224.636077 \r\nL 199.681534 224.623064 \r\nL 202.755914 224.605781 \r\nL 205.830294 224.597875 \r\nL 208.904675 224.624633 \r\nL 211.979055 224.639237 \r\nL 215.053435 224.639787 \r\nL 218.127815 224.635612 \r\nL 221.202195 224.626206 \r\nL 224.276575 224.624182 \r\nL 227.350956 224.636817 \r\nL 230.425336 224.630114 \r\nL 233.499716 224.603222 \r\nL 236.574096 224.595854 \r\nL 239.648476 224.595092 \r\nL 242.722856 224.598012 \r\nL 245.797237 224.608968 \r\nL 248.871617 224.559543 \r\nL 251.945997 224.566844 \r\nL 255.020377 224.592365 \r\nL 258.094757 224.568297 \r\nL 261.169137 224.612535 \r\nL 264.243518 224.628178 \r\nL 267.317898 224.63019 \r\nL 270.392278 224.638228 \r\nL 273.466658 224.63986 \r\nL 276.541038 224.636864 \r\nL 279.615418 224.627318 \r\nL 282.689799 224.612116 \r\nL 285.764179 224.623533 \r\nL 288.838559 224.638332 \r\nL 291.912939 224.639977 \r\nL 294.987319 224.64 \r\nL 298.061699 224.64 \r\nL 301.13608 224.64 \r\nL 304.21046 224.64 \r\nL 307.28484 224.64 \r\nL 310.35922 224.64 \r\nL 313.4336 224.64 \r\nL 316.50798 224.639995 \r\nL 319.582361 224.639432 \r\nL 322.656741 224.634041 \r\nL 325.731121 224.634581 \r\nL 328.805501 224.639573 \r\nL 331.879881 224.639997 \r\nL 334.954261 224.64 \r\nL 338.028642 224.64 \r\nL 341.103022 224.64 \r\nL 344.177402 224.64 \r\nL 347.251782 224.64 \r\nL 350.326162 224.64 \r\nL 353.400542 224.639998 \r\nL 356.474923 224.639587 \r\nL 359.549303 224.632983 \r\nL 362.623683 224.626146 \r\nL 365.698063 224.636602 \r\nL 368.772443 224.639908 \r\n\" style=\"fill:none;stroke:#1f77b4;stroke-linecap:square;stroke-width:1.5;\"/>\r\n   </g>\r\n   <g id=\"patch_53\">\r\n    <path d=\"M 49.190625 224.64 \r\nL 49.190625 7.2 \r\n\" style=\"fill:none;stroke:#000000;stroke-linecap:square;stroke-linejoin:miter;stroke-width:0.8;\"/>\r\n   </g>\r\n   <g id=\"patch_54\">\r\n    <path d=\"M 383.990625 224.64 \r\nL 383.990625 7.2 \r\n\" style=\"fill:none;stroke:#000000;stroke-linecap:square;stroke-linejoin:miter;stroke-width:0.8;\"/>\r\n   </g>\r\n   <g id=\"patch_55\">\r\n    <path d=\"M 49.190625 224.64 \r\nL 383.990625 224.64 \r\n\" style=\"fill:none;stroke:#000000;stroke-linecap:square;stroke-linejoin:miter;stroke-width:0.8;\"/>\r\n   </g>\r\n   <g id=\"patch_56\">\r\n    <path d=\"M 49.190625 7.2 \r\nL 383.990625 7.2 \r\n\" style=\"fill:none;stroke:#000000;stroke-linecap:square;stroke-linejoin:miter;stroke-width:0.8;\"/>\r\n   </g>\r\n  </g>\r\n </g>\r\n <defs>\r\n  <clipPath id=\"p73e1a74668\">\r\n   <rect height=\"217.44\" width=\"334.8\" x=\"49.190625\" y=\"7.2\"/>\r\n  </clipPath>\r\n </defs>\r\n</svg>\r\n",
      "image/png": "[encoded data removed]"
     },
     "metadata": {
      "needs_background": "light"
     }
    }
   ],
   "source": [
    "import seaborn as sns \n",
    "sns.distplot(lenghts)"
   ]
  },
  {
   "cell_type": "code",
   "execution_count": 12,
   "metadata": {},
   "outputs": [
    {
     "output_type": "execute_result",
     "data": {
      "text/plain": [
       "3118.0"
      ]
     },
     "metadata": {},
     "execution_count": 12
    }
   ],
   "source": [
    "np.percentile(lenghts,89)"
   ]
  },
  {
   "cell_type": "code",
   "execution_count": 13,
   "metadata": {},
   "outputs": [
    {
     "output_type": "stream",
     "name": "stdout",
     "text": [
      "22\n"
     ]
    },
    {
     "output_type": "execute_result",
     "data": {
      "text/plain": [
       "['H',\n",
       " 'K',\n",
       " 'S',\n",
       " 'A',\n",
       " 'Y',\n",
       " 'P',\n",
       " 'G',\n",
       " 'F',\n",
       " 'I',\n",
       " 'R',\n",
       " 'E',\n",
       " '*',\n",
       " 'N',\n",
       " 'T',\n",
       " 'V',\n",
       " 'Q',\n",
       " 'C',\n",
       " 'X',\n",
       " 'L',\n",
       " 'W',\n",
       " 'M',\n",
       " 'D']"
      ]
     },
     "metadata": {},
     "execution_count": 13
    }
   ],
   "source": [
    "bases = list(set(''.join(train_protein+test_protein)))\n",
    "print(len(bases))\n",
    "bases"
   ]
  },
  {
   "cell_type": "code",
   "execution_count": 14,
   "metadata": {},
   "outputs": [
    {
     "output_type": "stream",
     "name": "stdout",
     "text": [
      "{'H': 1, 'K': 2, 'S': 3, 'A': 4, 'Y': 5, 'P': 6, 'G': 7, 'F': 8, 'I': 9, 'R': 10, 'E': 11, '*': 12, 'N': 13, 'T': 14, 'V': 15, 'Q': 16, 'C': 17, 'X': 18, 'L': 19, 'W': 20, 'M': 21, 'D': 22}\nDict Length: 22\n"
     ]
    }
   ],
   "source": [
    "char_dict = create_dict(bases)\n",
    "\n",
    "print(char_dict)\n",
    "print(\"Dict Length:\", len(char_dict))"
   ]
  },
  {
   "cell_type": "code",
   "execution_count": 15,
   "metadata": {},
   "outputs": [
    {
     "output_type": "stream",
     "name": "stdout",
     "text": [
      "{'H': 1, 'K': 2, 'S': 3, 'A': 4, 'Y': 5, 'P': 6, 'G': 7, 'F': 8, 'I': 9, 'R': 10, 'E': 11, '*': 12, 'N': 13, 'T': 14, 'V': 15, 'Q': 16, 'C': 17, 'X': 18, 'L': 19, 'W': 20, 'M': 21, 'D': 22, '0': 0}\nDict Length: 23\n"
     ]
    }
   ],
   "source": [
    "max_len = 3000\n",
    "\n",
    "train_protein = [x[0:max_len].ljust(max_len, str('000'+x)) for x in train_protein]\n",
    "test_protein = [x[0:max_len].ljust(max_len, str('000'+x)) for x in test_protein]\n",
    "\n",
    "char_dict['0'] = 0\n",
    "char_dict['CLS'] = 1\n",
    "\n",
    "print(char_dict)\n",
    "print(\"Dict Length:\", len(char_dict))"
   ]
  },
  {
   "cell_type": "code",
   "execution_count": 16,
   "metadata": {},
   "outputs": [
    {
     "output_type": "display_data",
     "data": {
      "text/plain": "HBox(children=(FloatProgress(value=0.0, max=67447.0), HTML(value='')))",
      "application/vnd.jupyter.widget-view+json": {
       "version_major": 2,
       "version_minor": 0,
       "model_id": "fefe404ff7db41e9a77a92eda070cd1b"
      }
     },
     "metadata": {}
    },
    {
     "output_type": "stream",
     "name": "stdout",
     "text": [
      "\n"
     ]
    },
    {
     "output_type": "display_data",
     "data": {
      "text/plain": "HBox(children=(FloatProgress(value=0.0, max=18816.0), HTML(value='')))",
      "application/vnd.jupyter.widget-view+json": {
       "version_major": 2,
       "version_minor": 0,
       "model_id": "eee69968f998445b8f9814ac2a9494d4"
      }
     },
     "metadata": {}
    },
    {
     "output_type": "stream",
     "name": "stdout",
     "text": [
      "\n"
     ]
    }
   ],
   "source": [
    "X_train = integer_encoding(train_protein,char_dict)\n",
    "X_test = integer_encoding(test_protein,char_dict)"
   ]
  },
  {
   "cell_type": "code",
   "execution_count": 17,
   "metadata": {},
   "outputs": [],
   "source": [
    "X = X_train\n",
    "y = train['target']\n",
    "\n",
    "X_train, X_valid, y_train, y_valid = train_test_split(X, y, test_size=0.1,random_state=420,stratify=y)"
   ]
  },
  {
   "cell_type": "code",
   "execution_count": 18,
   "metadata": {},
   "outputs": [],
   "source": [
    "labs = pd.read_csv('../data/raw/train_labels.csv').columns[1:]\n",
    "\n",
    "lab_pos = dict()\n",
    "i = 0\n",
    "for lab in labs:\n",
    "    lab_pos[lab]=i\n",
    "    i+=1\n",
    "\n",
    "def get_targets(y):\n",
    "    targets = []\n",
    "    for lab in y:\n",
    "        tmp = np.zeros(len(labs))\n",
    "        idx = lab_pos[lab]\n",
    "        tmp[idx] = 1\n",
    "        targets.append(tmp)\n",
    "    targets = torch.tensor(targets)\n",
    "    print(targets.shape)\n",
    "    return targets"
   ]
  },
  {
   "cell_type": "code",
   "execution_count": 19,
   "metadata": {},
   "outputs": [
    {
     "output_type": "stream",
     "name": "stdout",
     "text": [
      "torch.Size([60702, 1314])\n",
      "torch.Size([6745, 1314])\n",
      "Wall time: 11.5 s\n"
     ]
    }
   ],
   "source": [
    "%%time\n",
    "\n",
    "train_dataset = torch.utils.data.TensorDataset(X_train,get_targets(y_train))\n",
    "\n",
    "valid_dataset = torch.utils.data.TensorDataset(X_valid,get_targets(y_valid))\n",
    "\n",
    "test_dataset = torch.utils.data.TensorDataset(X_test)"
   ]
  },
  {
   "cell_type": "code",
   "execution_count": 100,
   "metadata": {},
   "outputs": [],
   "source": [
    "bs = \n",
    "\n",
    "train_dataloader = torch.utils.data.DataLoader(\n",
    "    dataset = train_dataset, \n",
    "    batch_size = bs, \n",
    "    sampler = torch.utils.data.RandomSampler(train_dataset)\n",
    ")\n",
    "valid_dataloader = torch.utils.data.DataLoader(\n",
    "    dataset = valid_dataset, \n",
    "    batch_size = bs, \n",
    "    sampler = torch.utils.data.RandomSampler(valid_dataset)\n",
    ")\n",
    "test_dataloader = torch.utils.data.DataLoader(\n",
    "    dataset = test_dataset, \n",
    "    batch_size = bs, \n",
    "    sampler = torch.utils.data.RandomSampler(test_dataset)\n",
    ")"
   ]
  },
  {
   "cell_type": "code",
   "execution_count": 101,
   "metadata": {},
   "outputs": [
    {
     "output_type": "stream",
     "name": "stdout",
     "text": [
      "torch.Size([60702, 3000])\ntorch.Size([6745, 3000])\n(18816, 42)\n(60702,)\n(6745,)\n"
     ]
    }
   ],
   "source": [
    "print(X_train.shape)\n",
    "print(X_valid.shape)\n",
    "print(test.shape)\n",
    "\n",
    "print(y_train.shape)\n",
    "print(y_valid.shape)"
   ]
  },
  {
   "cell_type": "code",
   "execution_count": 102,
   "metadata": {},
   "outputs": [],
   "source": [
    "class ResNetBlock(nn.Module):\n",
    "\n",
    "    def __init__(self, config):\n",
    "        super().__init__()\n",
    "        self.conv1 = nn.Conv1d(\n",
    "            config['hidden_size'], config['hidden_size'], 3, padding=1, bias=False)\n",
    "        self.bn1 = nn.BatchNorm1d(config['hidden_size'])\n",
    "\n",
    "        self.conv2 = nn.Conv1d(\n",
    "            config['hidden_size'], config['hidden_size'], 3, padding=1, bias=False)\n",
    "        self.bn2 = nn.BatchNorm1d(config['hidden_size'])\n",
    "\n",
    "        self.activation_fn = nn.ReLU()\n",
    "\n",
    "    def forward(self, x):\n",
    "        identity = x\n",
    "\n",
    "        out = self.conv1(x)\n",
    "        out = self.bn1(out)\n",
    "        out = self.activation_fn(out)\n",
    "\n",
    "        out = self.conv2(out)\n",
    "        out = self.bn2(out)\n",
    "\n",
    "        out += identity\n",
    "        out = self.activation_fn(out)\n",
    "\n",
    "        return out\n",
    "\n",
    "class RedNetBlock(nn.Module):\n",
    "\n",
    "    def __init__(self, config):\n",
    "        super().__init__()\n",
    "        self.conv1 = nn.Conv1d(\n",
    "            config['hidden_size'], config['hidden_size'],7,stride=2, padding=0, bias=False)\n",
    "        self.bn1 = nn.BatchNorm1d(config['hidden_size'])\n",
    "\n",
    "        self.activation_fn = nn.ReLU()\n",
    "\n",
    "    def forward(self, x):\n",
    "\n",
    "        out = self.conv1(x)\n",
    "        out = self.bn1(out)\n",
    "        out = self.activation_fn(out)\n",
    "\n",
    "        return out\n",
    "\n",
    "\n",
    "class ProteinEmbeddings(nn.Module):\n",
    "\n",
    "    def __init__(self, config):\n",
    "        super().__init__()\n",
    "        self.embeddings = nn.Embedding(config['vocab_size'],config['embed_dim'], padding_idx=0)\n",
    "        self.bn = nn.BatchNorm1d(config['seq_len'])\n",
    "        self.dropout = nn.Dropout(config['hidden_dropout_prob'])\n",
    "\n",
    "    def forward(self, input_ids):\n",
    "        embeddings = self.embeddings(input_ids)\n",
    "        embeddings = self.bn(embeddings)\n",
    "        embeddings = self.dropout(embeddings)\n",
    "        return embeddings\n",
    "\n",
    "\n",
    "class ResNetEncoder(nn.Module):\n",
    "\n",
    "    def __init__(self, config):\n",
    "        super().__init__()\n",
    "        list_layers = []\n",
    "        for i in range(config['num_hidden_layers']):\n",
    "            list_layers.append(ResNetBlock(config))\n",
    "            list_layers.append(RedNetBlock(config))\n",
    "        self.layer = nn.ModuleList(list_layers)\n",
    "\n",
    "    def forward(self, x):\n",
    "\n",
    "        for layer_module in self.layer:\n",
    "            x = layer_module(x)\n",
    "\n",
    "        return x\n",
    "\n",
    "\n",
    "class cls_head(nn.Module):\n",
    "\n",
    "    def __init__(self,config):\n",
    "        super().__init__()\n",
    "\n",
    "        self.l1 = nn.Linear(config['cls_size'],config['cls_size'])\n",
    "        self.br_l1 = nn.BatchNorm1d(config['cls_size'])\n",
    "        self.ac_l1 = nn.LeakyReLU()\n",
    "        self.dp_l1 = nn.Dropout(0.1)\n",
    "\n",
    "        self.cls = nn.Linear(config['cls_size'],config['num_labels'])\n",
    "\n",
    "    def forward(self,x):\n",
    "        x = self.dp_l1(self.ac_l1(self.br_l1(self.l1(x))))\n",
    "\n",
    "        return self.cls(x)\n",
    "        "
   ]
  },
  {
   "cell_type": "code",
   "execution_count": 103,
   "metadata": {},
   "outputs": [],
   "source": [
    "class Prot_conv(nn.Module):\n",
    "    # meter cls tok\n",
    "    def __init__(self):\n",
    "        super().__init__()\n",
    "\n",
    "        self.folder = '../models/prot_conv/'\n",
    "\n",
    "        self.config = dict()\n",
    "\n",
    "        self.config['vocab_size'] = 23\n",
    "        self.config['embed_dim'] = 256\n",
    "        self.config['seq_len'] = 3000\n",
    "        self.config['num_hidden_layers'] = 2\n",
    "        self.config['hidden_size'] = 256\n",
    "        self.config['hidden_act'] = 'gelu'\n",
    "        self.config['hidden_dropout_prob'] = 0.15\n",
    "        self.config['layer_norm_eps'] = 1e-12\n",
    "        self.config['cls_size'] = 256\n",
    "        self.config['num_labels'] = 1314\n",
    "\n",
    "        self.embeddings = ProteinEmbeddings(self.config)\n",
    "\n",
    "        self.resnet = ResNetEncoder(self.config)\n",
    "\n",
    "        transformer_layer = nn.TransformerEncoderLayer(256, 8, dim_feedforward=512, dropout=0.1, activation='relu')\n",
    "        self.transformer = nn.TransformerEncoder(transformer_layer, 3, norm=None)\n",
    "        \n",
    "        self.classify = cls_head(self.config)\n",
    "\n",
    "    def forward(self,batch,device):\n",
    "\n",
    "        input_ids = batch[0].to(device)\n",
    "\n",
    "        embeddings = self.embeddings(input_ids)\n",
    "        cls_emb = self.embeddings.embeddings(torch.tensor(0).unsqueeze(0).unsqueeze(0).to(device)).repeat(batch[0].shape[0],1,1)\n",
    "\n",
    "        x = self.resnet(embeddings.transpose(1,2)).transpose(1,2)\n",
    "\n",
    "        x = torch.cat((cls_emb,x),dim=1)\n",
    "\n",
    "        x = self.transformer(x)[:,0,:]\n",
    "        \n",
    "        x = self.classify(x)\n",
    "\n",
    "        return x.cpu()\n"
   ]
  },
  {
   "cell_type": "code",
   "execution_count": 104,
   "metadata": {},
   "outputs": [
    {
     "output_type": "stream",
     "name": "stdout",
     "text": [
      "GeForce GTX 1070 with Max-Q Design\n_CudaDeviceProperties(name='GeForce GTX 1070 with Max-Q Design', major=6, minor=1, total_memory=8192MB, multi_processor_count=16)\n"
     ]
    }
   ],
   "source": [
    "device = torch.device('cuda')\n",
    "print(torch.cuda.get_device_name(0))\n",
    "print(torch.cuda.get_device_properties(0))\n",
    "model = Prot_conv().to(device)\n",
    "scaler = torch.cuda.amp.GradScaler()"
   ]
  },
  {
   "cell_type": "code",
   "execution_count": 105,
   "metadata": {},
   "outputs": [],
   "source": [
    "#model"
   ]
  },
  {
   "cell_type": "code",
   "execution_count": 106,
   "metadata": {},
   "outputs": [],
   "source": [
    "from topk.svm import SmoothTopkSVM, MaxTopkSVM \n",
    "from sklearn import metrics\n",
    "from sklearn.utils.class_weight import compute_class_weight\n",
    "\n",
    "weights = torch.from_numpy(compute_class_weight(class_weight='balanced',classes=labs,y=y))\n",
    "epochs = 90\n",
    "\n",
    "optimizer = torch.optim.AdamW(model.parameters(), lr=5e-3)\n",
    "#optimizer = torch.optim.SGD(model.parameters(), lr=0.01, momentum=0.9)\n",
    "\n",
    "scheduler = torch.optim.lr_scheduler.ReduceLROnPlateau(optimizer,patience=5,mode='max')\n",
    "\n",
    "#criterion = torch.nn.BCEWithLogitsLoss(pos_weight=weights)#pos_weight=weights\n",
    "criterion = MaxTopkSVM (1314,k=10,alpha=1)\n",
    "\n",
    "folder = model.folder"
   ]
  },
  {
   "cell_type": "code",
   "execution_count": 107,
   "metadata": {},
   "outputs": [
    {
     "output_type": "stream",
     "name": "stdout",
     "text": [
      "TRAINING...\n"
     ]
    },
    {
     "output_type": "display_data",
     "data": {
      "text/plain": "HBox(children=(FloatProgress(value=0.0, max=300.0), HTML(value='')))",
      "application/vnd.jupyter.widget-view+json": {
       "version_major": 2,
       "version_minor": 0,
       "model_id": "4adb7f3a7a8d430e95596c4ffbf7000a"
      }
     },
     "metadata": {}
    },
    {
     "output_type": "display_data",
     "data": {
      "text/plain": "HBox(children=(FloatProgress(value=0.0, max=1897.0), HTML(value='')))",
      "application/vnd.jupyter.widget-view+json": {
       "version_major": 2,
       "version_minor": 0,
       "model_id": "ffd4ed5b1b2748c0b7b2535d6072a6df"
      }
     },
     "metadata": {}
    },
    {
     "output_type": "stream",
     "name": "stdout",
     "text": [
      "\nEpoch:  0  train_loss  0.8251121882928568  dev_loss  0.7836219332229469  train acc  0.114  train_top10  0.22948173042074396  dev_acc  0.123  dev_top10  0.2357301704966642\n"
     ]
    },
    {
     "output_type": "display_data",
     "data": {
      "text/plain": "HBox(children=(FloatProgress(value=0.0, max=1897.0), HTML(value='')))",
      "application/vnd.jupyter.widget-view+json": {
       "version_major": 2,
       "version_minor": 0,
       "model_id": "eb67c000d9254a1ebf33da0bc403e668"
      }
     },
     "metadata": {}
    },
    {
     "output_type": "error",
     "ename": "KeyboardInterrupt",
     "evalue": "",
     "traceback": [
      "\u001b[1;31m---------------------------------------------------------------------------\u001b[0m",
      "\u001b[1;31mKeyboardInterrupt\u001b[0m                         Traceback (most recent call last)",
      "\u001b[1;32m<ipython-input-107-4c3cc4dee4a6>\u001b[0m in \u001b[0;36m<module>\u001b[1;34m\u001b[0m\n\u001b[0;32m     35\u001b[0m         \"\"\"\n\u001b[0;32m     36\u001b[0m \u001b[1;33m\u001b[0m\u001b[0m\n\u001b[1;32m---> 37\u001b[1;33m         \u001b[0mscaler\u001b[0m\u001b[1;33m.\u001b[0m\u001b[0mscale\u001b[0m\u001b[1;33m(\u001b[0m\u001b[0mloss\u001b[0m\u001b[1;33m)\u001b[0m\u001b[1;33m.\u001b[0m\u001b[0mbackward\u001b[0m\u001b[1;33m(\u001b[0m\u001b[1;33m)\u001b[0m\u001b[1;33m\u001b[0m\u001b[1;33m\u001b[0m\u001b[0m\n\u001b[0m\u001b[0;32m     38\u001b[0m         \u001b[0mtotal_train_loss\u001b[0m \u001b[1;33m+=\u001b[0m \u001b[0mloss\u001b[0m\u001b[1;33m.\u001b[0m\u001b[0mitem\u001b[0m\u001b[1;33m(\u001b[0m\u001b[1;33m)\u001b[0m\u001b[1;33m\u001b[0m\u001b[1;33m\u001b[0m\u001b[0m\n\u001b[0;32m     39\u001b[0m \u001b[1;33m\u001b[0m\u001b[0m\n",
      "\u001b[1;32mc:\\repos\\GeneticEngineeringAttributionChallenge\\env\\lib\\site-packages\\torch\\tensor.py\u001b[0m in \u001b[0;36mbackward\u001b[1;34m(self, gradient, retain_graph, create_graph)\u001b[0m\n\u001b[0;32m    183\u001b[0m                 \u001b[0mproducts\u001b[0m\u001b[1;33m.\u001b[0m \u001b[0mDefaults\u001b[0m \u001b[0mto\u001b[0m\u001b[0;31m \u001b[0m\u001b[0;31m`\u001b[0m\u001b[0;31m`\u001b[0m\u001b[1;32mFalse\u001b[0m\u001b[0;31m`\u001b[0m\u001b[0;31m`\u001b[0m\u001b[1;33m.\u001b[0m\u001b[1;33m\u001b[0m\u001b[1;33m\u001b[0m\u001b[0m\n\u001b[0;32m    184\u001b[0m         \"\"\"\n\u001b[1;32m--> 185\u001b[1;33m         \u001b[0mtorch\u001b[0m\u001b[1;33m.\u001b[0m\u001b[0mautograd\u001b[0m\u001b[1;33m.\u001b[0m\u001b[0mbackward\u001b[0m\u001b[1;33m(\u001b[0m\u001b[0mself\u001b[0m\u001b[1;33m,\u001b[0m \u001b[0mgradient\u001b[0m\u001b[1;33m,\u001b[0m \u001b[0mretain_graph\u001b[0m\u001b[1;33m,\u001b[0m \u001b[0mcreate_graph\u001b[0m\u001b[1;33m)\u001b[0m\u001b[1;33m\u001b[0m\u001b[1;33m\u001b[0m\u001b[0m\n\u001b[0m\u001b[0;32m    186\u001b[0m \u001b[1;33m\u001b[0m\u001b[0m\n\u001b[0;32m    187\u001b[0m     \u001b[1;32mdef\u001b[0m \u001b[0mregister_hook\u001b[0m\u001b[1;33m(\u001b[0m\u001b[0mself\u001b[0m\u001b[1;33m,\u001b[0m \u001b[0mhook\u001b[0m\u001b[1;33m)\u001b[0m\u001b[1;33m:\u001b[0m\u001b[1;33m\u001b[0m\u001b[1;33m\u001b[0m\u001b[0m\n",
      "\u001b[1;32mc:\\repos\\GeneticEngineeringAttributionChallenge\\env\\lib\\site-packages\\torch\\autograd\\__init__.py\u001b[0m in \u001b[0;36mbackward\u001b[1;34m(tensors, grad_tensors, retain_graph, create_graph, grad_variables)\u001b[0m\n\u001b[0;32m    123\u001b[0m         \u001b[0mretain_graph\u001b[0m \u001b[1;33m=\u001b[0m \u001b[0mcreate_graph\u001b[0m\u001b[1;33m\u001b[0m\u001b[1;33m\u001b[0m\u001b[0m\n\u001b[0;32m    124\u001b[0m \u001b[1;33m\u001b[0m\u001b[0m\n\u001b[1;32m--> 125\u001b[1;33m     Variable._execution_engine.run_backward(\n\u001b[0m\u001b[0;32m    126\u001b[0m         \u001b[0mtensors\u001b[0m\u001b[1;33m,\u001b[0m \u001b[0mgrad_tensors\u001b[0m\u001b[1;33m,\u001b[0m \u001b[0mretain_graph\u001b[0m\u001b[1;33m,\u001b[0m \u001b[0mcreate_graph\u001b[0m\u001b[1;33m,\u001b[0m\u001b[1;33m\u001b[0m\u001b[1;33m\u001b[0m\u001b[0m\n\u001b[0;32m    127\u001b[0m         allow_unreachable=True)  # allow_unreachable flag\n",
      "\u001b[1;31mKeyboardInterrupt\u001b[0m: "
     ]
    }
   ],
   "source": [
    "print('TRAINING...')\n",
    "epochs = 300\n",
    "training_stats = []\n",
    "\n",
    "total_steps = 0\n",
    "\n",
    "optimizer.zero_grad() \n",
    "\n",
    "with tqdm(total=epochs,leave=False) as pbar:\n",
    "  for epoch_i in range(0, epochs):\n",
    "    total_train_loss = 0\n",
    "    model.train()\n",
    "\n",
    "    #optimizer.zero_grad()\n",
    "    \"\"\"\n",
    "    if epoch_i == 20:\n",
    "      criterion = MaxTopkSVM(1314,alpha=1,k=10)\n",
    "    \"\"\"\n",
    "    logits = []\n",
    "    ground_truth = []\n",
    "    for step, batch in tqdm(enumerate(train_dataloader),total=len(train_dataloader),leave=False):\n",
    "\n",
    "        optimizer.zero_grad()\n",
    "\n",
    "        b_labels = batch[1]\n",
    "        with torch.cuda.amp.autocast(enabled=True):\n",
    "          b_logits = model(batch,device)\n",
    "        \n",
    "        loss = criterion(b_logits.float(),torch.argmax(b_labels.detach(),dim=1)).cuda()\n",
    "        \"\"\"\n",
    "        if epoch_i < 20:\n",
    "          loss = criterion(b_logits,b_labels.detach()).cuda()\n",
    "        else:\n",
    "          loss = criterion(b_logits,torch.argmax(b_labels.detach(),dim=1)).cuda()\n",
    "        \"\"\"\n",
    "\n",
    "        scaler.scale(loss).backward()\n",
    "        total_train_loss += loss.item()\n",
    "        \n",
    "        logits.extend(b_logits.detach().numpy())\n",
    "        ground_truth.extend(np.argmax(b_labels.detach().numpy(),axis=1))    \n",
    "\n",
    "        scaler.step(optimizer)\n",
    "        scaler.update()\n",
    "        total_steps+=1\n",
    "\n",
    "    y_top10_idx = np.argpartition(logits, -10, axis=1)[:, -10:]\n",
    "    y_labels = np.argmax(logits,axis=1)\n",
    "\n",
    "    train_top10 = top10_accuracy_scorer(ground_truth,y_top10_idx)\n",
    "    train_acc = round(metrics.accuracy_score(ground_truth,y_labels),3)\n",
    "    avg_train_loss = total_train_loss/len(train_dataloader)\n",
    "\n",
    "    model.eval()\n",
    "\n",
    "    total_dev_loss = 0\n",
    "\n",
    "    logits = []\n",
    "    ground_truth = []\n",
    "            \n",
    "    for step, batch in enumerate(valid_dataloader):\n",
    "\n",
    "        inputs = batch[0].to(device)\n",
    "    \n",
    "        b_labels = batch[1]\n",
    "        with torch.cuda.amp.autocast(enabled=True):\n",
    "          with torch.no_grad():\n",
    "            b_logits = model(batch,device)\n",
    "        loss = criterion(b_logits.float(),torch.argmax(b_labels.detach(),dim=1)).cuda()\n",
    "        \"\"\"\n",
    "        if epoch_i < 20:\n",
    "          loss = criterion(b_logits,b_labels.detach()).cuda()\n",
    "        else:\n",
    "          loss = criterion(b_logits,torch.argmax(b_labels.detach(),dim=1)).cuda()\n",
    "        \"\"\"\n",
    "        scaler.scale(loss)\n",
    "        total_dev_loss += loss.item()\n",
    "\n",
    "        logits.extend(b_logits.float().detach().numpy())\n",
    "        ground_truth.extend(np.argmax(b_labels.detach().numpy(),axis=1))\n",
    "\n",
    "\n",
    "    y_top10_idx = np.argpartition(logits, -10, axis=1)[:, -10:]\n",
    "    y_labels = np.argmax(logits,axis=1)\n",
    "\n",
    "    test_top10 = top10_accuracy_scorer(ground_truth,y_top10_idx)\n",
    "    test_acc = round(metrics.accuracy_score(ground_truth,y_labels),3)\n",
    "    avg_dev_loss = total_dev_loss/len(valid_dataloader)\n",
    "\n",
    "    scheduler.step(test_top10)\n",
    " \n",
    "    training_stats.append(\n",
    "        {\n",
    "            'train_loss': avg_train_loss,\n",
    "            'dev_loss': avg_dev_loss,\n",
    "            'train_acc': train_acc,\n",
    "            'train_top10':train_top10,\n",
    "            'dev_acc': test_acc,\n",
    "            'dev_top10': test_top10\n",
    "        }\n",
    "      )\n",
    "    \n",
    "    torch.save(model,folder+str(epoch_i)+'.ckpt')\n",
    "    \n",
    "    pbar.update(1)\n",
    "\n",
    "    print('\\nEpoch: ',epoch_i,' train_loss ',avg_train_loss,\n",
    "            ' dev_loss ',avg_dev_loss,\n",
    "            ' train acc ',train_acc,\n",
    "            ' train_top10 ',train_top10,\n",
    "            ' dev_acc ',test_acc,\n",
    "            ' dev_top10 ', test_top10\n",
    "          )\n",
    "\n",
    "# Show training results\n",
    "col_names = ['train_loss','train_acc','train_top10','dev_loss', 'dev_acc','dev_top10']\n",
    "training_stats = pd.DataFrame(training_stats,columns=col_names)\n",
    "make_plot(training_stats)"
   ]
  },
  {
   "cell_type": "code",
   "execution_count": null,
   "metadata": {},
   "outputs": [],
   "source": [
    "import torch, gc\n",
    "gc.collect()\n",
    "torch.cuda.empty_cache()"
   ]
  },
  {
   "cell_type": "code",
   "execution_count": null,
   "metadata": {},
   "outputs": [],
   "source": []
  },
  {
   "cell_type": "code",
   "execution_count": null,
   "metadata": {},
   "outputs": [],
   "source": []
  },
  {
   "cell_type": "code",
   "execution_count": null,
   "metadata": {},
   "outputs": [],
   "source": []
  },
  {
   "cell_type": "code",
   "execution_count": null,
   "metadata": {},
   "outputs": [],
   "source": []
  }
 ]
}