{
 "metadata": {
  "language_info": {
   "codemirror_mode": {
    "name": "ipython",
    "version": 3
   },
   "file_extension": ".py",
   "mimetype": "text/x-python",
   "name": "python",
   "nbconvert_exporter": "python",
   "pygments_lexer": "ipython3",
   "version": "3.8.2-final"
  },
  "orig_nbformat": 2,
  "kernelspec": {
   "name": "python38264bitenvvenv06b471d0c6c74f06b7ccc810f4823694",
   "display_name": "Python 3.8.2 64-bit ('env': venv)"
  }
 },
 "nbformat": 4,
 "nbformat_minor": 2,
 "cells": [
  {
   "cell_type": "code",
   "execution_count": 1,
   "metadata": {},
   "outputs": [],
   "source": [
    "import pandas as pd \n",
    "import numpy as np \n",
    "\n",
    "import xgboost as xgb\n",
    "\n",
    "import lightgbm\n",
    "\n",
    "from sklearn.ensemble import RandomForestClassifier\n",
    "from sklearn.ensemble import ExtraTreesClassifier\n",
    "from sklearn.feature_selection import SelectKBest\n",
    "from sklearn.feature_selection import f_classif, chi2\n",
    "from sklearn.feature_selection import SelectFromModel\n",
    "\n",
    "from sklearn.model_selection import StratifiedKFold\n",
    "from sklearn.model_selection import RandomizedSearchCV, GridSearchCV\n",
    "\n",
    "from tqdm import tqdm\n",
    "\n",
    "from sklearn.metrics import accuracy_score, f1_score"
   ]
  },
  {
   "cell_type": "markdown",
   "metadata": {},
   "source": [
    "## LOAD DATA"
   ]
  },
  {
   "cell_type": "code",
   "execution_count": 2,
   "metadata": {
    "tags": []
   },
   "outputs": [
    {
     "output_type": "stream",
     "name": "stdout",
     "text": "Train:  (67447, 43)\nTest:  (18816, 42)\n"
    }
   ],
   "source": [
    "train = pd.read_csv('../data/processed/train.csv')\n",
    "test = pd.read_csv('../data/processed/test.csv')\n",
    "print('Train: ',train.shape)\n",
    "print('Test: ',test.shape)"
   ]
  },
  {
   "cell_type": "code",
   "execution_count": 3,
   "metadata": {
    "tags": []
   },
   "outputs": [
    {
     "output_type": "stream",
     "name": "stdout",
     "text": "Train:  (67447, 3906)\nTest:  (18816, 3906)\n"
    }
   ],
   "source": [
    "train_ngram_features = pd.read_csv('../data/features/ngram/5_ngram_train.csv')\n",
    "test_ngram_features = pd.read_csv('../data/features/ngram/5_ngram_test.csv')\n",
    "\n",
    "print('Train: ',train_ngram_features.shape)\n",
    "print('Test: ',test_ngram_features.shape)"
   ]
  },
  {
   "cell_type": "code",
   "execution_count": 4,
   "metadata": {
    "tags": []
   },
   "outputs": [
    {
     "output_type": "stream",
     "name": "stdout",
     "text": "Train:  (67447, 3948)\nTest:  (18816, 3947)\n"
    }
   ],
   "source": [
    "train = pd.merge(train,train_ngram_features,on='sequence_id')\n",
    "test = pd.merge(test,test_ngram_features,on='sequence_id')\n",
    "\n",
    "print('Train: ',train.shape)\n",
    "print('Test: ',test.shape)"
   ]
  },
  {
   "cell_type": "code",
   "execution_count": 5,
   "metadata": {},
   "outputs": [],
   "source": [
    "def top10_accuracy_scorer(estimator, X, y):\n",
    "\n",
    "    probas = estimator.predict_proba(X)\n",
    "    \n",
    "    top10_idx = np.argpartition(probas, -10, axis=1)[:, -10:]\n",
    "    \n",
    "    top10_preds = estimator.classes_[top10_idx]\n",
    "\n",
    "    mask = top10_preds == np.reshape(np.array(y.values.ravel()),(y.shape[0],1))\n",
    "    \n",
    "    top_10_accuracy = mask.any(axis=1).mean()\n",
    " \n",
    "    return top_10_accuracy"
   ]
  },
  {
   "cell_type": "code",
   "execution_count": 6,
   "metadata": {},
   "outputs": [],
   "source": [
    "# Rename our feature array\n",
    "train.drop(['sequence','sequence_id'],inplace=True,axis=1)\n",
    "test.drop(['sequence','sequence_id'],inplace=True,axis=1)"
   ]
  },
  {
   "cell_type": "code",
   "execution_count": 7,
   "metadata": {},
   "outputs": [],
   "source": [
    "y = train['target']\n",
    "X = train.drop('target',inplace=False,axis=1)"
   ]
  },
  {
   "cell_type": "markdown",
   "metadata": {},
   "source": [
    "## Feature selection"
   ]
  },
  {
   "cell_type": "code",
   "execution_count": 8,
   "metadata": {
    "tags": []
   },
   "outputs": [
    {
     "output_type": "stream",
     "name": "stdout",
     "text": "(67447, 400)\n(18816, 400)\n"
    }
   ],
   "source": [
    "fs = SelectKBest(score_func=chi2, k=400)\n",
    "\n",
    "X = fs.fit_transform(X,y)\n",
    "test = fs.transform(test)\n",
    "print(X.shape)\n",
    "print(test.shape)   "
   ]
  },
  {
   "cell_type": "code",
   "execution_count": 8,
   "metadata": {
    "tags": []
   },
   "outputs": [
    {
     "output_type": "stream",
     "name": "stderr",
     "text": "[Parallel(n_jobs=11)]: Using backend ThreadingBackend with 11 concurrent workers.\n[Parallel(n_jobs=11)]: Done  28 tasks      | elapsed:   12.7s\n[Parallel(n_jobs=11)]: Done 178 tasks      | elapsed:  1.4min\n[Parallel(n_jobs=11)]: Done 250 out of 250 | elapsed:  2.1min finished\n(67447, 1396)\n(18816, 1396)\n"
    }
   ],
   "source": [
    "clf = ExtraTreesClassifier(n_estimators=250,max_depth=18,verbose=1,n_jobs=11,random_state=420)\n",
    "clf = clf.fit(X, y)\n",
    "\n",
    "model = SelectFromModel(clf, prefit=True)\n",
    "\n",
    "X = model.transform(X)\n",
    "test = model.transform(test)\n",
    "print(X.shape)\n",
    "print(test.shape)     "
   ]
  },
  {
   "cell_type": "code",
   "execution_count": 9,
   "metadata": {},
   "outputs": [],
   "source": [
    "del model\n",
    "del clf"
   ]
  },
  {
   "cell_type": "markdown",
   "metadata": {},
   "source": [
    "## Search hyperparameters"
   ]
  },
  {
   "cell_type": "code",
   "execution_count": 12,
   "metadata": {
    "tags": []
   },
   "outputs": [
    {
     "output_type": "stream",
     "name": "stdout",
     "text": "{'n_estimators': [100, 500, 1000], 'max_depth': [5, 10, 20]}\n"
    },
    {
     "output_type": "error",
     "ename": "TypeError",
     "evalue": "__init__() got an unexpected keyword argument 'param_distributions'",
     "traceback": [
      "\u001b[1;31m---------------------------------------------------------------------------\u001b[0m",
      "\u001b[1;31mTypeError\u001b[0m                                 Traceback (most recent call last)",
      "\u001b[1;32m<ipython-input-12-f3edb67ce6e2>\u001b[0m in \u001b[0;36m<module>\u001b[1;34m\u001b[0m\n\u001b[0;32m     25\u001b[0m \u001b[0mrf\u001b[0m \u001b[1;33m=\u001b[0m \u001b[0mRandomForestClassifier\u001b[0m\u001b[1;33m(\u001b[0m\u001b[1;33m)\u001b[0m\u001b[1;33m\u001b[0m\u001b[1;33m\u001b[0m\u001b[0m\n\u001b[0;32m     26\u001b[0m \u001b[1;33m\u001b[0m\u001b[0m\n\u001b[1;32m---> 27\u001b[1;33m \u001b[0mrf_random\u001b[0m \u001b[1;33m=\u001b[0m \u001b[0mGridSearchCV\u001b[0m\u001b[1;33m(\u001b[0m\u001b[0mestimator\u001b[0m \u001b[1;33m=\u001b[0m \u001b[0mrf\u001b[0m\u001b[1;33m,\u001b[0m \u001b[0mparam_distributions\u001b[0m \u001b[1;33m=\u001b[0m \u001b[0mrandom_grid\u001b[0m\u001b[1;33m,\u001b[0m \u001b[0mcv\u001b[0m \u001b[1;33m=\u001b[0m \u001b[1;36m5\u001b[0m\u001b[1;33m,\u001b[0m \u001b[0mverbose\u001b[0m\u001b[1;33m=\u001b[0m\u001b[1;36m1\u001b[0m\u001b[1;33m,\u001b[0m \u001b[0mrandom_state\u001b[0m\u001b[1;33m=\u001b[0m\u001b[1;36m420\u001b[0m\u001b[1;33m,\u001b[0m \u001b[0mn_jobs\u001b[0m \u001b[1;33m=\u001b[0m \u001b[1;36m10\u001b[0m\u001b[1;33m)\u001b[0m\u001b[1;33m\u001b[0m\u001b[1;33m\u001b[0m\u001b[0m\n\u001b[0m\u001b[0;32m     28\u001b[0m \u001b[1;33m\u001b[0m\u001b[0m\n\u001b[0;32m     29\u001b[0m \u001b[0mrf_random\u001b[0m\u001b[1;33m.\u001b[0m\u001b[0mfit\u001b[0m\u001b[1;33m(\u001b[0m\u001b[0mX\u001b[0m\u001b[1;33m,\u001b[0m \u001b[0my\u001b[0m\u001b[1;33m)\u001b[0m\u001b[1;33m\u001b[0m\u001b[1;33m\u001b[0m\u001b[0m\n",
      "\u001b[1;32mc:\\repos\\GeneticEngineeringAttributionChallenge\\env\\lib\\site-packages\\sklearn\\utils\\validation.py\u001b[0m in \u001b[0;36minner_f\u001b[1;34m(*args, **kwargs)\u001b[0m\n\u001b[0;32m     70\u001b[0m                           FutureWarning)\n\u001b[0;32m     71\u001b[0m         \u001b[0mkwargs\u001b[0m\u001b[1;33m.\u001b[0m\u001b[0mupdate\u001b[0m\u001b[1;33m(\u001b[0m\u001b[1;33m{\u001b[0m\u001b[0mk\u001b[0m\u001b[1;33m:\u001b[0m \u001b[0marg\u001b[0m \u001b[1;32mfor\u001b[0m \u001b[0mk\u001b[0m\u001b[1;33m,\u001b[0m \u001b[0marg\u001b[0m \u001b[1;32min\u001b[0m \u001b[0mzip\u001b[0m\u001b[1;33m(\u001b[0m\u001b[0msig\u001b[0m\u001b[1;33m.\u001b[0m\u001b[0mparameters\u001b[0m\u001b[1;33m,\u001b[0m \u001b[0margs\u001b[0m\u001b[1;33m)\u001b[0m\u001b[1;33m}\u001b[0m\u001b[1;33m)\u001b[0m\u001b[1;33m\u001b[0m\u001b[1;33m\u001b[0m\u001b[0m\n\u001b[1;32m---> 72\u001b[1;33m         \u001b[1;32mreturn\u001b[0m \u001b[0mf\u001b[0m\u001b[1;33m(\u001b[0m\u001b[1;33m**\u001b[0m\u001b[0mkwargs\u001b[0m\u001b[1;33m)\u001b[0m\u001b[1;33m\u001b[0m\u001b[1;33m\u001b[0m\u001b[0m\n\u001b[0m\u001b[0;32m     73\u001b[0m     \u001b[1;32mreturn\u001b[0m \u001b[0minner_f\u001b[0m\u001b[1;33m\u001b[0m\u001b[1;33m\u001b[0m\u001b[0m\n\u001b[0;32m     74\u001b[0m \u001b[1;33m\u001b[0m\u001b[0m\n",
      "\u001b[1;31mTypeError\u001b[0m: __init__() got an unexpected keyword argument 'param_distributions'"
     ]
    }
   ],
   "source": [
    "# Number of trees in random forest\n",
    "n_estimators = [int(x) for x in np.linspace(start = 100, stop = 2000, num = 10)]\n",
    "# Number of features to consider at every split\n",
    "max_features = ['auto', 'sqrt']\n",
    "# Maximum number of levels in tree\n",
    "max_depth = [int(x) for x in np.linspace(5, 100, num = 10)]\n",
    "max_depth.append(None)\n",
    "# Minimum number of samples required to split a node\n",
    "min_samples_split = [2, 5, 10]\n",
    "# Minimum number of samples required at each leaf node\n",
    "min_samples_leaf = [1, 2, 4]\n",
    "# Method of selecting samples for training each tree\n",
    "bootstrap = [True, False]\n",
    "\n",
    "random_grid = {\n",
    "                'n_estimators': [100,500,1000],\n",
    "               #'max_features': max_features,\n",
    "               'max_depth': [5,10,20],\n",
    "               #-'min_samples_split': min_samples_split,\n",
    "               #'min_samples_leaf': min_samples_leaf,\n",
    "               #'bootstrap': bootstrap\n",
    "               }\n",
    "print(random_grid)\n",
    "\n",
    "rf = RandomForestClassifier()\n",
    "\n",
    "rf_random = GridSearchCV(estimator = rf, param_distributions = random_grid, cv = 5, verbose=1, random_state=420, n_jobs = 10)\n",
    "\n",
    "rf_random.fit(X, y)"
   ]
  },
  {
   "cell_type": "code",
   "execution_count": null,
   "metadata": {
    "tags": []
   },
   "outputs": [],
   "source": [
    "print(rf_random.best_params_)\n",
    "print(rf_random.best_score_)\n",
    "\n",
    "del rf\n",
    "del rf_random"
   ]
  },
  {
   "cell_type": "markdown",
   "metadata": {},
   "source": [
    "## TRAINING"
   ]
  },
  {
   "cell_type": "code",
   "execution_count": 10,
   "metadata": {},
   "outputs": [],
   "source": [
    "K = 5\n",
    "skf = StratifiedKFold(n_splits=K,shuffle=True,random_state=420)"
   ]
  },
  {
   "cell_type": "code",
   "execution_count": 11,
   "metadata": {
    "tags": []
   },
   "outputs": [
    {
     "output_type": "stream",
     "name": "stderr",
     "text": "0%|          | 0/5 [00:00<?, ?it/s]\n--------FOLD  1\nACC:  0.4441808747220163\nF1:  0.1705129295375663\nTOP-10:  0.5824314306893995\n 20%|██        | 1/5 [1:15:01<5:00:05, 4501.44s/it]\n--------FOLD  2\n"
    }
   ],
   "source": [
    "test_preds = []\n",
    "\n",
    "for i, (train_index, dev_index) in tqdm(enumerate(skf.split(X, y)),total=K):\n",
    "    print('\\n--------FOLD ',i+1)\n",
    "    X_t, X_d = X[train_index], X[dev_index]\n",
    "    y_t, y_d = y[train_index], y[dev_index]\n",
    "\n",
    "    #model = xgb.XGBClassifier(n_estimators=2,objective='multi:softprob',eval_metric=\"mlogloss\",max_depth=3,tree_method='hist',gpu_id=0,verbosity=1,n_jobs=10,random_state=420)\n",
    "    model = RandomForestClassifier(n_estimators=300,max_depth=20,verbose=0,n_jobs=11,random_state=420,max_features=None)\n",
    "    \"\"\"\n",
    "    model = lightgbm.LGBMClassifier(\n",
    "    objective='multiclass',\n",
    "    boosting='dart',\n",
    "    #learning_rate = 0.1,\n",
    "    #max_depth = 20,\n",
    "    n_jobs=-2,\n",
    "    silent=True,\n",
    "    random_state=420,\n",
    "    #num_leaves = 400,\n",
    "    #n_estimators = 400,\n",
    "    #bagging_fraction = 0.8,\n",
    "    #feature_fraction = 0.9\n",
    "    )\n",
    "    \"\"\"\n",
    "\n",
    "    model.fit(X_t, y_t)\n",
    "\n",
    "    preds = model.predict(X_d)\n",
    "\n",
    "    acc = accuracy_score(y_d,preds)\n",
    "    f1 = f1_score(y_d,preds,average='macro')\n",
    "    top = top10_accuracy_scorer(model, X_d, y_d)\n",
    "\n",
    "    print('ACC: ',acc)\n",
    "    print('F1: ', f1)\n",
    "    print('TOP-10: ',top)\n",
    "\n",
    "    test_preds.append(model.predict_proba(test))"
   ]
  },
  {
   "cell_type": "markdown",
   "metadata": {},
   "source": [
    "## Submission"
   ]
  },
  {
   "cell_type": "code",
   "execution_count": 9,
   "metadata": {},
   "outputs": [
    {
     "output_type": "execute_result",
     "data": {
      "text/plain": "(18816, 1314)"
     },
     "metadata": {},
     "execution_count": 9
    }
   ],
   "source": [
    "test_preds = np.array(test_preds)\n",
    "probas=np.mean(test_preds,axis=0)\n",
    "probas.shape"
   ]
  },
  {
   "cell_type": "code",
   "execution_count": 15,
   "metadata": {},
   "outputs": [],
   "source": [
    "submission_format = pd.read_csv('../data/submission_format.csv', index_col='sequence_id')"
   ]
  },
  {
   "cell_type": "code",
   "execution_count": 16,
   "metadata": {},
   "outputs": [],
   "source": [
    "assert submission_format.shape == probas.shape\n",
    "assert (model.classes_ == submission_format.columns).all()"
   ]
  },
  {
   "cell_type": "code",
   "execution_count": 17,
   "metadata": {},
   "outputs": [],
   "source": [
    "my_submission = pd.DataFrame(data=probas, \n",
    "                             columns=model.classes_, \n",
    "                             index=submission_format.index)"
   ]
  },
  {
   "cell_type": "code",
   "execution_count": 18,
   "metadata": {},
   "outputs": [
    {
     "output_type": "execute_result",
     "data": {
      "text/plain": "             00Q4V31T  012VT4JK      028IO5W2  03GRNN7N  03Y3W51H  09MQV1TY  \\\nsequence_id                                                                   \nE0VFT        0.000003  0.000046  8.401008e-07  0.000000  0.001139  0.000020   \nTTRK5        0.000057  0.000099  5.862148e-05  0.000000  0.000302  0.000030   \n2Z7FZ        0.000181  0.000434  1.958461e-04  0.000000  0.000836  0.000427   \nVJI6E        0.000021  0.000000  0.000000e+00  0.001045  0.000354  0.000000   \n721FI        0.000305  0.001219  3.603261e-04  0.000000  0.002239  0.000160   \n\n             0A4AHRCT  0A9M05NC  0B9GCUVV  0CL7QVG8  ...  ZQNGGY33  ZSHS4VJZ  \\\nsequence_id                                          ...                       \nE0VFT        0.001222  0.000016  0.000028  0.000000  ...  0.000004  0.000070   \nTTRK5        0.000089  0.000099  0.000403  0.000000  ...  0.000063  0.000059   \n2Z7FZ        0.001064  0.000524  0.000931  0.000000  ...  0.000341  0.000077   \nVJI6E        0.000000  0.000000  0.018758  0.000051  ...  0.000000  0.000000   \n721FI        0.000575  0.000927  0.002196  0.000000  ...  0.000245  0.000127   \n\n                 ZT1IP3T6  ZU6860XU  ZU6TVFFU  ZU75P59K  ZUI6TDWV  ZWFD8OHC  \\\nsequence_id                                                                   \nE0VFT        3.145652e-07  0.000000  0.000057  0.000005  0.001009  0.000024   \nTTRK5        1.930482e-05  0.000000  0.000222  0.000010  0.000117  0.000478   \n2Z7FZ        9.226794e-05  0.000000  0.001110  0.000052  0.000209  0.001889   \nVJI6E        8.177017e-05  0.000052  0.000000  0.000000  0.000000  0.000000   \n721FI        1.239933e-04  0.000000  0.001260  0.000028  0.000371  0.003329   \n\n                 ZX06ZDZN  ZZJVE4HO  \nsequence_id                          \nE0VFT        4.003635e-07  0.000096  \nTTRK5        1.332598e-05  0.000067  \n2Z7FZ        3.911472e-05  0.000717  \nVJI6E        0.000000e+00  0.000151  \n721FI        7.929932e-05  0.000534  \n\n[5 rows x 1314 columns]",
      "text/html": "<div>\n<style scoped>\n    .dataframe tbody tr th:only-of-type {\n        vertical-align: middle;\n    }\n\n    .dataframe tbody tr th {\n        vertical-align: top;\n    }\n\n    .dataframe thead th {\n        text-align: right;\n    }\n</style>\n<table border=\"1\" class=\"dataframe\">\n  <thead>\n    <tr style=\"text-align: right;\">\n      <th></th>\n      <th>00Q4V31T</th>\n      <th>012VT4JK</th>\n      <th>028IO5W2</th>\n      <th>03GRNN7N</th>\n      <th>03Y3W51H</th>\n      <th>09MQV1TY</th>\n      <th>0A4AHRCT</th>\n      <th>0A9M05NC</th>\n      <th>0B9GCUVV</th>\n      <th>0CL7QVG8</th>\n      <th>...</th>\n      <th>ZQNGGY33</th>\n      <th>ZSHS4VJZ</th>\n      <th>ZT1IP3T6</th>\n      <th>ZU6860XU</th>\n      <th>ZU6TVFFU</th>\n      <th>ZU75P59K</th>\n      <th>ZUI6TDWV</th>\n      <th>ZWFD8OHC</th>\n      <th>ZX06ZDZN</th>\n      <th>ZZJVE4HO</th>\n    </tr>\n    <tr>\n      <th>sequence_id</th>\n      <th></th>\n      <th></th>\n      <th></th>\n      <th></th>\n      <th></th>\n      <th></th>\n      <th></th>\n      <th></th>\n      <th></th>\n      <th></th>\n      <th></th>\n      <th></th>\n      <th></th>\n      <th></th>\n      <th></th>\n      <th></th>\n      <th></th>\n      <th></th>\n      <th></th>\n      <th></th>\n      <th></th>\n    </tr>\n  </thead>\n  <tbody>\n    <tr>\n      <th>E0VFT</th>\n      <td>0.000003</td>\n      <td>0.000046</td>\n      <td>8.401008e-07</td>\n      <td>0.000000</td>\n      <td>0.001139</td>\n      <td>0.000020</td>\n      <td>0.001222</td>\n      <td>0.000016</td>\n      <td>0.000028</td>\n      <td>0.000000</td>\n      <td>...</td>\n      <td>0.000004</td>\n      <td>0.000070</td>\n      <td>3.145652e-07</td>\n      <td>0.000000</td>\n      <td>0.000057</td>\n      <td>0.000005</td>\n      <td>0.001009</td>\n      <td>0.000024</td>\n      <td>4.003635e-07</td>\n      <td>0.000096</td>\n    </tr>\n    <tr>\n      <th>TTRK5</th>\n      <td>0.000057</td>\n      <td>0.000099</td>\n      <td>5.862148e-05</td>\n      <td>0.000000</td>\n      <td>0.000302</td>\n      <td>0.000030</td>\n      <td>0.000089</td>\n      <td>0.000099</td>\n      <td>0.000403</td>\n      <td>0.000000</td>\n      <td>...</td>\n      <td>0.000063</td>\n      <td>0.000059</td>\n      <td>1.930482e-05</td>\n      <td>0.000000</td>\n      <td>0.000222</td>\n      <td>0.000010</td>\n      <td>0.000117</td>\n      <td>0.000478</td>\n      <td>1.332598e-05</td>\n      <td>0.000067</td>\n    </tr>\n    <tr>\n      <th>2Z7FZ</th>\n      <td>0.000181</td>\n      <td>0.000434</td>\n      <td>1.958461e-04</td>\n      <td>0.000000</td>\n      <td>0.000836</td>\n      <td>0.000427</td>\n      <td>0.001064</td>\n      <td>0.000524</td>\n      <td>0.000931</td>\n      <td>0.000000</td>\n      <td>...</td>\n      <td>0.000341</td>\n      <td>0.000077</td>\n      <td>9.226794e-05</td>\n      <td>0.000000</td>\n      <td>0.001110</td>\n      <td>0.000052</td>\n      <td>0.000209</td>\n      <td>0.001889</td>\n      <td>3.911472e-05</td>\n      <td>0.000717</td>\n    </tr>\n    <tr>\n      <th>VJI6E</th>\n      <td>0.000021</td>\n      <td>0.000000</td>\n      <td>0.000000e+00</td>\n      <td>0.001045</td>\n      <td>0.000354</td>\n      <td>0.000000</td>\n      <td>0.000000</td>\n      <td>0.000000</td>\n      <td>0.018758</td>\n      <td>0.000051</td>\n      <td>...</td>\n      <td>0.000000</td>\n      <td>0.000000</td>\n      <td>8.177017e-05</td>\n      <td>0.000052</td>\n      <td>0.000000</td>\n      <td>0.000000</td>\n      <td>0.000000</td>\n      <td>0.000000</td>\n      <td>0.000000e+00</td>\n      <td>0.000151</td>\n    </tr>\n    <tr>\n      <th>721FI</th>\n      <td>0.000305</td>\n      <td>0.001219</td>\n      <td>3.603261e-04</td>\n      <td>0.000000</td>\n      <td>0.002239</td>\n      <td>0.000160</td>\n      <td>0.000575</td>\n      <td>0.000927</td>\n      <td>0.002196</td>\n      <td>0.000000</td>\n      <td>...</td>\n      <td>0.000245</td>\n      <td>0.000127</td>\n      <td>1.239933e-04</td>\n      <td>0.000000</td>\n      <td>0.001260</td>\n      <td>0.000028</td>\n      <td>0.000371</td>\n      <td>0.003329</td>\n      <td>7.929932e-05</td>\n      <td>0.000534</td>\n    </tr>\n  </tbody>\n</table>\n<p>5 rows × 1314 columns</p>\n</div>"
     },
     "metadata": {},
     "execution_count": 18
    }
   ],
   "source": [
    "my_submission.head()"
   ]
  },
  {
   "cell_type": "code",
   "execution_count": 19,
   "metadata": {},
   "outputs": [],
   "source": [
    "my_submission.to_csv('../submissions/submissionX.csv')"
   ]
  },
  {
   "cell_type": "code",
   "execution_count": null,
   "metadata": {},
   "outputs": [],
   "source": []
  }
 ]
}