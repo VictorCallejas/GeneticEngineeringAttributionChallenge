{
 "metadata": {
  "language_info": {
   "codemirror_mode": {
    "name": "ipython",
    "version": 3
   },
   "file_extension": ".py",
   "mimetype": "text/x-python",
   "name": "python",
   "nbconvert_exporter": "python",
   "pygments_lexer": "ipython3",
   "version": "3.8.2-final"
  },
  "orig_nbformat": 2,
  "kernelspec": {
   "name": "python38264bitenvvenv06b471d0c6c74f06b7ccc810f4823694",
   "display_name": "Python 3.8.2 64-bit ('env': venv)"
  }
 },
 "nbformat": 4,
 "nbformat_minor": 2,
 "cells": [
  {
   "cell_type": "code",
   "execution_count": 1,
   "metadata": {},
   "outputs": [],
   "source": [
    "import pandas as pd\n",
    "\n",
    "from sklearn.model_selection import StratifiedKFold\n",
    "\n",
    "import collections\n",
    "\n",
    "import os"
   ]
  },
  {
   "cell_type": "code",
   "execution_count": 2,
   "metadata": {
    "tags": []
   },
   "outputs": [
    {
     "output_type": "stream",
     "name": "stdout",
     "text": "Train:  (63017, 41)\nTrain labels:  (63017, 1315)\nTest:  (18816, 41)\n"
    }
   ],
   "source": [
    "X_train = pd.read_csv('../data/raw/train_values.csv')\n",
    "y_train = pd.read_csv('../data/raw/train_labels.csv')\n",
    "X_test = pd.read_csv('../data/raw/test_values.csv')\n",
    "print('Train: ',X_train.shape)\n",
    "print('Train labels: ', y_train.shape)\n",
    "print('Test: ',X_test.shape)"
   ]
  },
  {
   "cell_type": "code",
   "execution_count": 3,
   "metadata": {
    "tags": []
   },
   "outputs": [
    {
     "output_type": "stream",
     "name": "stdout",
     "text": "(63017,)\n"
    }
   ],
   "source": [
    "lab_ids = pd.DataFrame(y_train.drop('sequence_id',axis=1,inplace=False).idxmax(axis=1), columns=['lab_id']).lab_id.values.ravel()\n",
    "\n",
    "print(lab_ids.shape)"
   ]
  },
  {
   "cell_type": "code",
   "execution_count": 4,
   "metadata": {
    "tags": []
   },
   "outputs": [
    {
     "output_type": "stream",
     "name": "stdout",
     "text": "(67447, 42)\nFalse\n"
    }
   ],
   "source": [
    "# Replicate obs of labs with < n obs\n",
    "duplicate_th = 10\n",
    "\n",
    "\n",
    "counts = collections.Counter(lab_ids)\n",
    "X_train['target'] = lab_ids\n",
    "\n",
    "replicate = []\n",
    "for i,row in X_train.iterrows():\n",
    "    tmp = duplicate_th - counts[row.target]\n",
    "    if tmp > 0:\n",
    "        s_id = row.sequence_id\n",
    "        for j in range(1,tmp):\n",
    "            new_row = row.copy()\n",
    "            new_row[0] = s_id+'_'+str(j)\n",
    "            replicate.append(new_row)\n",
    "X_train = X_train.append(replicate)\n",
    "\n",
    "\n",
    "print(X_train.shape)\n",
    "print(X_train.sequence_id.duplicated().any())"
   ]
  },
  {
   "cell_type": "code",
   "execution_count": 5,
   "metadata": {
    "tags": []
   },
   "outputs": [
    {
     "output_type": "stream",
     "name": "stdout",
     "text": "count    67447.000000\nmean      4867.924785\nstd       3895.161052\nmin         20.000000\n25%        910.000000\n50%       4795.000000\n75%       7506.000000\nmax      60099.000000\nName: sequence_len, dtype: float64\ncount    18816.000000\nmean      4875.523810\nstd       4004.117614\nmin         19.000000\n25%        894.750000\n50%       4732.000000\n75%       7341.250000\nmax      38638.000000\nName: sequence_len, dtype: float64\n"
    }
   ],
   "source": [
    "X_train['sequence_len'] = X_train.sequence.apply(len)\n",
    "X_test['sequence_len'] = X_test.sequence.apply(len)\n",
    "\n",
    "print(X_train['sequence_len'].describe())\n",
    "print(X_test['sequence_len'].describe())"
   ]
  },
  {
   "cell_type": "code",
   "execution_count": 6,
   "metadata": {},
   "outputs": [],
   "source": [
    "X_test.to_csv('../data/processed/test.csv',index=False)\n",
    "X_train.to_csv('../data/processed/train.csv',index=False)"
   ]
  },
  {
   "cell_type": "code",
   "execution_count": 7,
   "metadata": {},
   "outputs": [],
   "source": [
    "X_train.reset_index(inplace=True)"
   ]
  },
  {
   "cell_type": "code",
   "execution_count": 9,
   "metadata": {
    "tags": []
   },
   "outputs": [
    {
     "output_type": "stream",
     "name": "stdout",
     "text": "K =  3\n--------FOLD  1\n--------FOLD  2\n--------FOLD  3\nK =  5\n--------FOLD  1\n--------FOLD  2\n--------FOLD  3\n--------FOLD  4\n--------FOLD  5\nK =  10\n--------FOLD  1\n--------FOLD  2\n--------FOLD  3\n--------FOLD  4\n--------FOLD  5\n--------FOLD  6\n--------FOLD  7\n--------FOLD  8\n--------FOLD  9\n--------FOLD  10\n"
    }
   ],
   "source": [
    "K = [3,5,10]\n",
    "\n",
    "y = X_train['target']\n",
    "X = X_train.drop('target',axis=1,inplace=False)\n",
    "\n",
    "for k in K:\n",
    "    print('K = ',k)\n",
    "\n",
    "    path = '../data/folds/'+str(k)\n",
    "    os.makedirs(path)\n",
    "\n",
    "    sss = StratifiedKFold(n_splits=k, random_state=420,shuffle=True)\n",
    "\n",
    "    for i, (train_index, dev_index) in enumerate(sss.split(X,y)):\n",
    "        print('--------FOLD ',i+1)\n",
    "        X_t, X_d = X.iloc[train_index], X.iloc[dev_index]\n",
    "        y_t, y_d = y[train_index], y[dev_index]\n",
    "\n",
    "        X_t.to_csv(path+'/X_train_split_'+str(i+1)+'.csv',index=False)\n",
    "        X_d.to_csv(path+'/X_dev_split_'+str(i+1)+'.csv',index=False)\n",
    "        y_t.to_csv(path+'/y_train_split_'+str(i+1)+'.csv',index=False)\n",
    "        y_d.to_csv(path+'/y_dev_split_'+str(i+1)+'.csv',index=False)"
   ]
  },
  {
   "cell_type": "code",
   "execution_count": null,
   "metadata": {},
   "outputs": [],
   "source": []
  }
 ]
}