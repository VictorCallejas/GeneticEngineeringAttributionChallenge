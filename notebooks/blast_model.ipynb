{
 "metadata": {
  "language_info": {
   "codemirror_mode": {
    "name": "ipython",
    "version": 3
   },
   "file_extension": ".py",
   "mimetype": "text/x-python",
   "name": "python",
   "nbconvert_exporter": "python",
   "pygments_lexer": "ipython3",
   "version": "3.8.2-final"
  },
  "orig_nbformat": 2,
  "kernelspec": {
   "name": "python38264bitenvvenv06b471d0c6c74f06b7ccc810f4823694",
   "display_name": "Python 3.8.2 64-bit ('env': venv)"
  }
 },
 "nbformat": 4,
 "nbformat_minor": 2,
 "cells": [
  {
   "cell_type": "code",
   "execution_count": 1,
   "metadata": {},
   "outputs": [],
   "source": [
    "import pandas as pd \n",
    "import numpy as np \n",
    "\n",
    "from sklearn.ensemble import RandomForestClassifier\n",
    "from sklearn.ensemble import ExtraTreesClassifier\n",
    "from sklearn.feature_selection import SelectFromModel\n",
    "\n",
    "from sklearn.model_selection import StratifiedKFold\n",
    "from sklearn.model_selection import RandomizedSearchCV, GridSearchCV\n",
    "\n",
    "from tqdm import tqdm\n",
    "\n",
    "from sklearn.metrics import accuracy_score, f1_score"
   ]
  },
  {
   "cell_type": "code",
   "execution_count": 2,
   "metadata": {
    "tags": []
   },
   "outputs": [
    {
     "output_type": "stream",
     "name": "stdout",
     "text": [
      "Train:  (67447, 43)\nTest:  (18816, 42)\n"
     ]
    }
   ],
   "source": [
    "train = pd.read_csv('../data/processed/train.csv')\n",
    "test = pd.read_csv('../data/processed/test.csv')\n",
    "print('Train: ',train.shape)\n",
    "print('Test: ',test.shape)"
   ]
  },
  {
   "source": [
    "## N-GRAMS"
   ],
   "cell_type": "markdown",
   "metadata": {}
  },
  {
   "cell_type": "code",
   "execution_count": 3,
   "metadata": {
    "tags": []
   },
   "outputs": [
    {
     "output_type": "stream",
     "name": "stdout",
     "text": [
      "Train:  (67447, 3906)\nTest:  (18816, 3906)\n"
     ]
    }
   ],
   "source": [
    "train_ngram_features = pd.read_csv('../data/features/ngram/5_ngram_train.csv')\n",
    "test_ngram_features = pd.read_csv('../data/features/ngram/5_ngram_test.csv')\n",
    "\n",
    "print('Train: ',train_ngram_features.shape)\n",
    "print('Test: ',test_ngram_features.shape)"
   ]
  },
  {
   "cell_type": "code",
   "execution_count": 4,
   "metadata": {
    "tags": []
   },
   "outputs": [
    {
     "output_type": "stream",
     "name": "stdout",
     "text": [
      "Train:  (67447, 3948)\nTest:  (18816, 3947)\n"
     ]
    }
   ],
   "source": [
    "train = pd.merge(train,train_ngram_features,on='sequence_id')\n",
    "test = pd.merge(test,test_ngram_features,on='sequence_id')\n",
    "\n",
    "print('Train: ',train.shape)\n",
    "print('Test: ',test.shape)"
   ]
  },
  {
   "source": [
    "## TOKENS"
   ],
   "cell_type": "markdown",
   "metadata": {}
  },
  {
   "cell_type": "code",
   "execution_count": 5,
   "metadata": {},
   "outputs": [],
   "source": [
    "from transformers import RobertaTokenizer\n",
    "import multiprocessing as mp\n",
    "\n",
    "import aux_w"
   ]
  },
  {
   "cell_type": "code",
   "execution_count": 14,
   "metadata": {
    "tags": []
   },
   "outputs": [
    {
     "output_type": "stream",
     "name": "stderr",
     "text": "100%|██████████| 67447/67447 [1:55:17<00:00,  9.75it/s]\n"
    },
    {
     "output_type": "execute_result",
     "data": {
      "text/plain": "(67447, 1001)"
     },
     "metadata": {},
     "execution_count": 14
    }
   ],
   "source": [
    "rows = []\n",
    "tar = []\n",
    "\n",
    "pool = mp.Pool(10)\n",
    "\n",
    "with tqdm(total=train.shape[0]) as pbar:\n",
    "    for i, row in enumerate(pool.imap_unordered(aux_w.tokenize_worker, zip(train.sequence.values,train.sequence_id.values))):\n",
    "        rows.append(row[0])\n",
    "        tar.append(row[1])\n",
    "        pbar.update(1)\n",
    "\n",
    "pool.close()\n",
    "pool.join()\n",
    "\n",
    "df = pd.DataFrame(rows)\n",
    "df['sequence_id'] = tar\n",
    "df.shape"
   ]
  },
  {
   "cell_type": "code",
   "execution_count": null,
   "metadata": {},
   "outputs": [],
   "source": [
    "train = pd.merge(train,df,axis=1,on='sequence_id')\n",
    "train.shape"
   ]
  },
  {
   "cell_type": "code",
   "execution_count": null,
   "metadata": {},
   "outputs": [],
   "source": [
    "rows = []\n",
    "tar = []\n",
    "\n",
    "pool = mp.Pool(10)\n",
    "\n",
    "with tqdm(total=test.shape[0]) as pbar:\n",
    "    for i, row in enumerate(pool.imap_unordered(aux_w.tokenize_worker, zip(test.sequence.values,test.sequence_id.values))):\n",
    "        rows.append(row[0])\n",
    "        tar.append(row[1])\n",
    "        pbar.update(1)\n",
    "\n",
    "pool.close()\n",
    "pool.join()\n",
    "\n",
    "df = pd.DataFrame(rows)\n",
    "df['sequence_id'] = tar\n",
    "df.shape"
   ]
  },
  {
   "cell_type": "code",
   "execution_count": null,
   "metadata": {},
   "outputs": [],
   "source": [
    "test = pd.merge(test,df,axis=1,on='sequence_id')\n",
    "test.shape"
   ]
  },
  {
   "source": [
    "## BLAST"
   ],
   "cell_type": "markdown",
   "metadata": {}
  },
  {
   "cell_type": "code",
   "execution_count": 5,
   "metadata": {
    "tags": []
   },
   "outputs": [
    {
     "output_type": "stream",
     "name": "stderr",
     "text": [
      "100%|██████████| 10/10 [11:23<00:00, 68.33s/it]\n",
      "(66739, 14455)\n"
     ]
    }
   ],
   "source": [
    "FOLD = 10\n",
    "df = pd.DataFrame()\n",
    "for f_idx in tqdm(range(1,FOLD+1)):\n",
    "    path = '../data/features/blast/'+str(FOLD)+'/dev_result_'+str(f_idx)+'.csv'\n",
    "    new_df = pd.read_csv(path)\n",
    "    df = pd.concat([df, new_df], ignore_index=True,axis=0)\n",
    "del new_df\n",
    "print(df.shape)"
   ]
  },
  {
   "cell_type": "code",
   "execution_count": 6,
   "metadata": {},
   "outputs": [
    {
     "output_type": "execute_result",
     "data": {
      "text/plain": [
       "False"
      ]
     },
     "metadata": {},
     "execution_count": 6
    }
   ],
   "source": [
    "df.sequence_id.duplicated().any()"
   ]
  },
  {
   "cell_type": "code",
   "execution_count": 7,
   "metadata": {
    "tags": []
   },
   "outputs": [
    {
     "output_type": "error",
     "ename": "SyntaxError",
     "evalue": "invalid syntax (<ipython-input-7-202fd32f9920>, line 5)",
     "traceback": [
      "\u001b[1;36m  File \u001b[1;32m\"<ipython-input-7-202fd32f9920>\"\u001b[1;36m, line \u001b[1;32m5\u001b[0m\n\u001b[1;33m    df = df.loc[:,columnVals]\u001b[0m\n\u001b[1;37m    ^\u001b[0m\n\u001b[1;31mSyntaxError\u001b[0m\u001b[1;31m:\u001b[0m invalid syntax\n"
     ]
    }
   ],
   "source": [
    "#00Q4V31Thits,00Q4V31Tidentity,00Q4V31Talignment length,00Q4V31Tmismatches,00Q4V31Tgap opens,00Q4V31Tq. start,00Q4V31Tq. end,00Q4V31Ts. start,00Q4V31Ts. end,00Q4V31Tevalue,00Q4V31Tbit score,\n",
    "print(df.shape)\n",
    "columnVals = df.columns.map(lambda x:('bit score' in x) | ('sequence_id' in x)\n",
    "#columnVals = df.columns.map(lambda x: ('hits' in x) | ('identity' in x) | ('alignment length' in x) | ('mismatches' in x) | ('gap opens' in x) | ('bit score in x' in x) | ('sequence_id' in x))\n",
    "df = df.loc[:,columnVals]\n",
    "df.shape"
   ]
  },
  {
   "cell_type": "code",
   "execution_count": null,
   "metadata": {
    "tags": []
   },
   "outputs": [],
   "source": [
    "%%time\n",
    "train = pd.merge(train,df,how='left',on='sequence_id')\n",
    "del df\n",
    "train.shape"
   ]
  },
  {
   "cell_type": "code",
   "execution_count": null,
   "metadata": {
    "tags": []
   },
   "outputs": [],
   "source": [
    "path = '../data/features/blast/test/blast_result.csv'\n",
    "df = pd.read_csv(path)\n",
    "columnVals = columnVals = df.columns.map(lambda x:('bit score' in x) | ('sequence_id' in x)\n",
    "df = df.loc[:,columnVals]\n",
    "print(df.shape)\n",
    "test = pd.merge(test,df,how='left',on='sequence_id')\n",
    "del df\n",
    "test.shape"
   ]
  },
  {
   "cell_type": "code",
   "execution_count": null,
   "metadata": {},
   "outputs": [],
   "source": [
    "train.fillna(0,inplace=True)\n",
    "test.fillna(0,inplace=True)"
   ]
  },
  {
   "cell_type": "code",
   "execution_count": null,
   "metadata": {},
   "outputs": [],
   "source": []
  },
  {
   "cell_type": "code",
   "execution_count": null,
   "metadata": {},
   "outputs": [],
   "source": []
  },
  {
   "cell_type": "code",
   "execution_count": null,
   "metadata": {},
   "outputs": [],
   "source": []
  },
  {
   "cell_type": "code",
   "execution_count": null,
   "metadata": {},
   "outputs": [],
   "source": [
    "def top10_accuracy_scorer(classes,y_d, preds):\n",
    "    \n",
    "    top10_idx = np.argpartition(preds, -10, axis=1)[:, -10:]\n",
    "    \n",
    "    top10_preds = classes[top10_idx]\n",
    "\n",
    "    mask = top10_preds == np.reshape(np.array(y_d.values.ravel()),(y_d.shape[0],1))\n",
    "    \n",
    "    top_10_accuracy = mask.any(axis=1).mean()\n",
    " \n",
    "    return top_10_accuracy"
   ]
  },
  {
   "cell_type": "code",
   "execution_count": null,
   "metadata": {},
   "outputs": [],
   "source": [
    "# Rename our feature array\n",
    "train.drop(['sequence','sequence_id'],inplace=True,axis=1)\n",
    "test.drop(['sequence','sequence_id'],inplace=True,axis=1)"
   ]
  },
  {
   "cell_type": "code",
   "execution_count": null,
   "metadata": {},
   "outputs": [],
   "source": [
    "y = train['target']\n",
    "X = train.drop('target',inplace=False,axis=1)"
   ]
  },
  {
   "cell_type": "code",
   "execution_count": 13,
   "metadata": {},
   "outputs": [
    {
     "output_type": "execute_result",
     "data": {
      "text/plain": "   bacterial_resistance_ampicillin  bacterial_resistance_chloramphenicol  \\\n0                              0.0                                   0.0   \n1                              1.0                                   0.0   \n2                              1.0                                   0.0   \n3                              1.0                                   0.0   \n4                              1.0                                   0.0   \n\n   bacterial_resistance_kanamycin  bacterial_resistance_other  \\\n0                             1.0                         0.0   \n1                             0.0                         0.0   \n2                             0.0                         0.0   \n3                             0.0                         0.0   \n4                             0.0                         0.0   \n\n   bacterial_resistance_spectinomycin  copy_number_high_copy  \\\n0                                 0.0                    1.0   \n1                                 0.0                    1.0   \n2                                 0.0                    1.0   \n3                                 0.0                    1.0   \n4                                 0.0                    1.0   \n\n   copy_number_low_copy  copy_number_unknown  growth_strain_ccdb_survival  \\\n0                   0.0                  0.0                          0.0   \n1                   0.0                  0.0                          0.0   \n2                   0.0                  0.0                          0.0   \n3                   0.0                  0.0                          0.0   \n4                   0.0                  0.0                          0.0   \n\n   growth_strain_dh10b  ...  species_budding_yeast  species_fly  \\\n0                  0.0  ...                    0.0          0.0   \n1                  0.0  ...                    0.0          0.0   \n2                  0.0  ...                    0.0          0.0   \n3                  0.0  ...                    0.0          0.0   \n4                  0.0  ...                    0.0          0.0   \n\n   species_human  species_mouse  species_mustard_weed  species_nematode  \\\n0            0.0            1.0                   0.0               0.0   \n1            0.0            1.0                   0.0               0.0   \n2            0.0            1.0                   0.0               0.0   \n3            0.0            1.0                   0.0               0.0   \n4            0.0            1.0                   0.0               0.0   \n\n   species_other  species_rat  species_synthetic  species_zebrafish  \n0            0.0          0.0                0.0                0.0  \n1            0.0          0.0                0.0                0.0  \n2            0.0          0.0                0.0                0.0  \n3            0.0          0.0                0.0                0.0  \n4            0.0          0.0                0.0                0.0  \n\n[5 rows x 39 columns]",
      "text/html": "<div>\n<style scoped>\n    .dataframe tbody tr th:only-of-type {\n        vertical-align: middle;\n    }\n\n    .dataframe tbody tr th {\n        vertical-align: top;\n    }\n\n    .dataframe thead th {\n        text-align: right;\n    }\n</style>\n<table border=\"1\" class=\"dataframe\">\n  <thead>\n    <tr style=\"text-align: right;\">\n      <th></th>\n      <th>bacterial_resistance_ampicillin</th>\n      <th>bacterial_resistance_chloramphenicol</th>\n      <th>bacterial_resistance_kanamycin</th>\n      <th>bacterial_resistance_other</th>\n      <th>bacterial_resistance_spectinomycin</th>\n      <th>copy_number_high_copy</th>\n      <th>copy_number_low_copy</th>\n      <th>copy_number_unknown</th>\n      <th>growth_strain_ccdb_survival</th>\n      <th>growth_strain_dh10b</th>\n      <th>...</th>\n      <th>species_budding_yeast</th>\n      <th>species_fly</th>\n      <th>species_human</th>\n      <th>species_mouse</th>\n      <th>species_mustard_weed</th>\n      <th>species_nematode</th>\n      <th>species_other</th>\n      <th>species_rat</th>\n      <th>species_synthetic</th>\n      <th>species_zebrafish</th>\n    </tr>\n  </thead>\n  <tbody>\n    <tr>\n      <th>0</th>\n      <td>0.0</td>\n      <td>0.0</td>\n      <td>1.0</td>\n      <td>0.0</td>\n      <td>0.0</td>\n      <td>1.0</td>\n      <td>0.0</td>\n      <td>0.0</td>\n      <td>0.0</td>\n      <td>0.0</td>\n      <td>...</td>\n      <td>0.0</td>\n      <td>0.0</td>\n      <td>0.0</td>\n      <td>1.0</td>\n      <td>0.0</td>\n      <td>0.0</td>\n      <td>0.0</td>\n      <td>0.0</td>\n      <td>0.0</td>\n      <td>0.0</td>\n    </tr>\n    <tr>\n      <th>1</th>\n      <td>1.0</td>\n      <td>0.0</td>\n      <td>0.0</td>\n      <td>0.0</td>\n      <td>0.0</td>\n      <td>1.0</td>\n      <td>0.0</td>\n      <td>0.0</td>\n      <td>0.0</td>\n      <td>0.0</td>\n      <td>...</td>\n      <td>0.0</td>\n      <td>0.0</td>\n      <td>0.0</td>\n      <td>1.0</td>\n      <td>0.0</td>\n      <td>0.0</td>\n      <td>0.0</td>\n      <td>0.0</td>\n      <td>0.0</td>\n      <td>0.0</td>\n    </tr>\n    <tr>\n      <th>2</th>\n      <td>1.0</td>\n      <td>0.0</td>\n      <td>0.0</td>\n      <td>0.0</td>\n      <td>0.0</td>\n      <td>1.0</td>\n      <td>0.0</td>\n      <td>0.0</td>\n      <td>0.0</td>\n      <td>0.0</td>\n      <td>...</td>\n      <td>0.0</td>\n      <td>0.0</td>\n      <td>0.0</td>\n      <td>1.0</td>\n      <td>0.0</td>\n      <td>0.0</td>\n      <td>0.0</td>\n      <td>0.0</td>\n      <td>0.0</td>\n      <td>0.0</td>\n    </tr>\n    <tr>\n      <th>3</th>\n      <td>1.0</td>\n      <td>0.0</td>\n      <td>0.0</td>\n      <td>0.0</td>\n      <td>0.0</td>\n      <td>1.0</td>\n      <td>0.0</td>\n      <td>0.0</td>\n      <td>0.0</td>\n      <td>0.0</td>\n      <td>...</td>\n      <td>0.0</td>\n      <td>0.0</td>\n      <td>0.0</td>\n      <td>1.0</td>\n      <td>0.0</td>\n      <td>0.0</td>\n      <td>0.0</td>\n      <td>0.0</td>\n      <td>0.0</td>\n      <td>0.0</td>\n    </tr>\n    <tr>\n      <th>4</th>\n      <td>1.0</td>\n      <td>0.0</td>\n      <td>0.0</td>\n      <td>0.0</td>\n      <td>0.0</td>\n      <td>1.0</td>\n      <td>0.0</td>\n      <td>0.0</td>\n      <td>0.0</td>\n      <td>0.0</td>\n      <td>...</td>\n      <td>0.0</td>\n      <td>0.0</td>\n      <td>0.0</td>\n      <td>1.0</td>\n      <td>0.0</td>\n      <td>0.0</td>\n      <td>0.0</td>\n      <td>0.0</td>\n      <td>0.0</td>\n      <td>0.0</td>\n    </tr>\n  </tbody>\n</table>\n<p>5 rows × 39 columns</p>\n</div>"
     },
     "metadata": {},
     "execution_count": 13
    }
   ],
   "source": [
    "X.iloc[0:5,0:39]"
   ]
  },
  {
   "cell_type": "markdown",
   "metadata": {},
   "source": [
    "## FEATURES SELECTION"
   ]
  },
  {
   "cell_type": "code",
   "execution_count": null,
   "metadata": {},
   "outputs": [],
   "source": [
    "fs = SelectKBest(score_func=chi2, k=400)\n",
    "\n",
    "X = fs.fit_transform(X,y)\n",
    "test = fs.transform(test)\n",
    "print(X.shape)\n",
    "print(test.shape)   "
   ]
  },
  {
   "cell_type": "code",
   "execution_count": null,
   "metadata": {},
   "outputs": [],
   "source": [
    "clf = ExtraTreesClassifier(n_estimators=250,max_depth=18,verbose=1,n_jobs=11,random_state=420)\n",
    "clf = clf.fit(X, y)\n",
    "\n",
    "model = SelectFromModel(clf, prefit=True)\n",
    "\n",
    "X = model.transform(X)\n",
    "test = model.transform(test)\n",
    "print(X.shape)\n",
    "print(test.shape)     "
   ]
  },
  {
   "cell_type": "code",
   "execution_count": null,
   "metadata": {},
   "outputs": [],
   "source": [
    "del model\n",
    "del clf"
   ]
  },
  {
   "cell_type": "markdown",
   "metadata": {},
   "source": [
    "## Search hyperparameters"
   ]
  },
  {
   "cell_type": "code",
   "execution_count": null,
   "metadata": {},
   "outputs": [],
   "source": [
    "# Number of trees in random forest\n",
    "n_estimators = [int(x) for x in np.linspace(start = 100, stop = 2000, num = 10)]\n",
    "# Number of features to consider at every split\n",
    "max_features = ['auto', 'sqrt']\n",
    "# Maximum number of levels in tree\n",
    "max_depth = [int(x) for x in np.linspace(5, 100, num = 10)]\n",
    "max_depth.append(None)\n",
    "# Minimum number of samples required to split a node\n",
    "min_samples_split = [2, 5, 10]\n",
    "# Minimum number of samples required at each leaf node\n",
    "min_samples_leaf = [1, 2, 4]\n",
    "# Method of selecting samples for training each tree\n",
    "bootstrap = [True, False]\n",
    "\n",
    "random_grid = {\n",
    "                'n_estimators': [100,500,1000],\n",
    "               #'max_features': max_features,\n",
    "               'max_depth': [5,10,20],\n",
    "               #-'min_samples_split': min_samples_split,\n",
    "               #'min_samples_leaf': min_samples_leaf,\n",
    "               #'bootstrap': bootstrap\n",
    "               }\n",
    "print(random_grid)\n",
    "\n",
    "rf = RandomForestClassifier()\n",
    "\n",
    "rf_random = GridSearchCV(estimator = rf, param_distributions = random_grid, cv = 5, verbose=1, random_state=420, n_jobs = 10)\n",
    "\n",
    "rf_random.fit(X, y)"
   ]
  },
  {
   "cell_type": "code",
   "execution_count": null,
   "metadata": {},
   "outputs": [],
   "source": [
    "print(rf_random.best_params_)\n",
    "print(rf_random.best_score_)\n",
    "\n",
    "del rf\n",
    "del rf_random"
   ]
  },
  {
   "cell_type": "markdown",
   "metadata": {},
   "source": [
    "### TRAINING"
   ]
  },
  {
   "cell_type": "code",
   "execution_count": null,
   "metadata": {},
   "outputs": [],
   "source": [
    "from pytorch_tabnet.tab_model import TabNetClassifier\n",
    "from sklearn.model_selection import train_test_split\n",
    "from matplotlib import pyplot as plt\n",
    "import torch"
   ]
  },
  {
   "cell_type": "code",
   "execution_count": 15,
   "metadata": {},
   "outputs": [],
   "source": [
    "X_train, X_dev, y_train, y_dev = train_test_split(X, y,stratify=y, test_size=0.2)"
   ]
  },
  {
   "cell_type": "code",
   "execution_count": 16,
   "metadata": {
    "tags": []
   },
   "outputs": [
    {
     "output_type": "stream",
     "name": "stdout",
     "text": "Device used : cuda\n"
    }
   ],
   "source": [
    "model = TabNetClassifier(\n",
    "    n_d=300,\n",
    "    n_a=300,\n",
    "    n_steps=10,\n",
    "    cat_idxs=np.indices([39])[0].tolist(),\n",
    "    lambda_sparse=1e-4, momentum=0.3, clip_value=2.,\n",
    "    optimizer_fn=torch.optim.Adam,\n",
    "    optimizer_params=dict(lr=2e-2),\n",
    "    scheduler_params = {\"gamma\": 0.95,\n",
    "                     \"step_size\": 20},\n",
    "    scheduler_fn=torch.optim.lr_scheduler.StepLR, epsilon=1e-15\n",
    ")"
   ]
  },
  {
   "cell_type": "code",
   "execution_count": 17,
   "metadata": {
    "tags": []
   },
   "outputs": [
    {
     "output_type": "stream",
     "name": "stdout",
     "text": "Will train until validation stopping metric hasn't improved in 10 rounds.\n---------------------------------------\n| EPOCH |  train  |   valid  | total time (s)\n| 1     | 0.05234 |  0.03944 |   74.7      \n| 2     | 0.16157 |  0.15263 |   150.9     \n| 3     | 0.18952 |  0.21801 |   237.7     \n| 4     | 0.23041 |  0.23395 |   323.5     \n| 5     | 0.23993 |  0.24374 |   406.3     \n| 6     | 0.24666 |  0.26620 |   492.2     \n| 7     | 0.27227 |  0.28777 |   578.6     \n| 8     | 0.29292 |  0.30519 |   667.4     \n| 9     | 0.30882 |  0.33113 |   751.2     \n| 10    | 0.32165 |  0.28406 |   837.5     \n| 11    | 0.33225 |  0.31616 |   920.6     \n| 12    | 0.34198 |  0.33818 |   1003.6    \n| 13    | 0.34919 |  0.36901 |   1084.5    \n| 14    | 0.35002 |  0.35107 |   1164.4    \n| 15    | 0.36056 |  0.36501 |   1243.8    \n"
    },
    {
     "output_type": "error",
     "ename": "KeyboardInterrupt",
     "evalue": "",
     "traceback": [
      "\u001b[1;31m---------------------------------------------------------------------------\u001b[0m",
      "\u001b[1;31mKeyboardInterrupt\u001b[0m                         Traceback (most recent call last)",
      "\u001b[1;32m<ipython-input-17-2ef5edf40411>\u001b[0m in \u001b[0;36m<module>\u001b[1;34m\u001b[0m\n\u001b[1;32m----> 1\u001b[1;33m model.fit(\n\u001b[0m\u001b[0;32m      2\u001b[0m     \u001b[0mX_train\u001b[0m\u001b[1;33m=\u001b[0m\u001b[0mX_train\u001b[0m\u001b[1;33m.\u001b[0m\u001b[0mvalues\u001b[0m\u001b[1;33m,\u001b[0m \u001b[0my_train\u001b[0m\u001b[1;33m=\u001b[0m\u001b[0my_train\u001b[0m\u001b[1;33m.\u001b[0m\u001b[0mvalues\u001b[0m\u001b[1;33m,\u001b[0m\u001b[1;33m\u001b[0m\u001b[1;33m\u001b[0m\u001b[0m\n\u001b[0;32m      3\u001b[0m     \u001b[0mX_valid\u001b[0m\u001b[1;33m=\u001b[0m\u001b[0mX_dev\u001b[0m\u001b[1;33m.\u001b[0m\u001b[0mvalues\u001b[0m\u001b[1;33m,\u001b[0m \u001b[0my_valid\u001b[0m\u001b[1;33m=\u001b[0m\u001b[0my_dev\u001b[0m\u001b[1;33m.\u001b[0m\u001b[0mvalues\u001b[0m\u001b[1;33m,\u001b[0m\u001b[1;33m\u001b[0m\u001b[1;33m\u001b[0m\u001b[0m\n\u001b[0;32m      4\u001b[0m     \u001b[0mmax_epochs\u001b[0m\u001b[1;33m=\u001b[0m\u001b[1;36m200\u001b[0m\u001b[1;33m,\u001b[0m \u001b[0mpatience\u001b[0m\u001b[1;33m=\u001b[0m\u001b[1;36m10\u001b[0m\u001b[1;33m,\u001b[0m\u001b[1;33m\u001b[0m\u001b[1;33m\u001b[0m\u001b[0m\n\u001b[0;32m      5\u001b[0m     \u001b[0mbatch_size\u001b[0m\u001b[1;33m=\u001b[0m\u001b[1;36m512\u001b[0m\u001b[1;33m,\u001b[0m \u001b[0mvirtual_batch_size\u001b[0m\u001b[1;33m=\u001b[0m\u001b[1;36m64\u001b[0m\u001b[1;33m\u001b[0m\u001b[1;33m\u001b[0m\u001b[0m\n",
      "\u001b[1;32mc:\\repos\\GeneticEngineeringAttributionChallenge\\env\\lib\\site-packages\\pytorch_tabnet\\tab_model.py\u001b[0m in \u001b[0;36mfit\u001b[1;34m(self, X_train, y_train, X_valid, y_valid, loss_fn, weights, max_epochs, patience, batch_size, virtual_batch_size, num_workers, drop_last)\u001b[0m\n\u001b[0;32m    226\u001b[0m             \u001b[0mself\u001b[0m\u001b[1;33m.\u001b[0m\u001b[0mlearning_rates\u001b[0m\u001b[1;33m.\u001b[0m\u001b[0mappend\u001b[0m\u001b[1;33m(\u001b[0m\u001b[0mself\u001b[0m\u001b[1;33m.\u001b[0m\u001b[0moptimizer\u001b[0m\u001b[1;33m.\u001b[0m\u001b[0mparam_groups\u001b[0m\u001b[1;33m[\u001b[0m\u001b[1;33m-\u001b[0m\u001b[1;36m1\u001b[0m\u001b[1;33m]\u001b[0m\u001b[1;33m[\u001b[0m\u001b[1;34m\"lr\"\u001b[0m\u001b[1;33m]\u001b[0m\u001b[1;33m)\u001b[0m\u001b[1;33m\u001b[0m\u001b[1;33m\u001b[0m\u001b[0m\n\u001b[0;32m    227\u001b[0m \u001b[1;33m\u001b[0m\u001b[0m\n\u001b[1;32m--> 228\u001b[1;33m             \u001b[0mfit_metrics\u001b[0m \u001b[1;33m=\u001b[0m \u001b[0mself\u001b[0m\u001b[1;33m.\u001b[0m\u001b[0mfit_epoch\u001b[0m\u001b[1;33m(\u001b[0m\u001b[0mtrain_dataloader\u001b[0m\u001b[1;33m,\u001b[0m \u001b[0mvalid_dataloader\u001b[0m\u001b[1;33m)\u001b[0m\u001b[1;33m\u001b[0m\u001b[1;33m\u001b[0m\u001b[0m\n\u001b[0m\u001b[0;32m    229\u001b[0m \u001b[1;33m\u001b[0m\u001b[0m\n\u001b[0;32m    230\u001b[0m             \u001b[1;31m# leaving it here, may be used for callbacks later\u001b[0m\u001b[1;33m\u001b[0m\u001b[1;33m\u001b[0m\u001b[1;33m\u001b[0m\u001b[0m\n",
      "\u001b[1;32mc:\\repos\\GeneticEngineeringAttributionChallenge\\env\\lib\\site-packages\\pytorch_tabnet\\tab_model.py\u001b[0m in \u001b[0;36mfit_epoch\u001b[1;34m(self, train_dataloader, valid_dataloader)\u001b[0m\n\u001b[0;32m    345\u001b[0m                 \u001b[0mDataLoader\u001b[0m \u001b[1;32mwith\u001b[0m \u001b[0mvalid\u001b[0m \u001b[0mset\u001b[0m\u001b[1;33m\u001b[0m\u001b[1;33m\u001b[0m\u001b[0m\n\u001b[0;32m    346\u001b[0m         \"\"\"\n\u001b[1;32m--> 347\u001b[1;33m         \u001b[0mtrain_metrics\u001b[0m \u001b[1;33m=\u001b[0m \u001b[0mself\u001b[0m\u001b[1;33m.\u001b[0m\u001b[0mtrain_epoch\u001b[0m\u001b[1;33m(\u001b[0m\u001b[0mtrain_dataloader\u001b[0m\u001b[1;33m)\u001b[0m\u001b[1;33m\u001b[0m\u001b[1;33m\u001b[0m\u001b[0m\n\u001b[0m\u001b[0;32m    348\u001b[0m         \u001b[0mvalid_metrics\u001b[0m \u001b[1;33m=\u001b[0m \u001b[0mself\u001b[0m\u001b[1;33m.\u001b[0m\u001b[0mpredict_epoch\u001b[0m\u001b[1;33m(\u001b[0m\u001b[0mvalid_dataloader\u001b[0m\u001b[1;33m)\u001b[0m\u001b[1;33m\u001b[0m\u001b[1;33m\u001b[0m\u001b[0m\n\u001b[0;32m    349\u001b[0m \u001b[1;33m\u001b[0m\u001b[0m\n",
      "\u001b[1;32mc:\\repos\\GeneticEngineeringAttributionChallenge\\env\\lib\\site-packages\\pytorch_tabnet\\tab_model.py\u001b[0m in \u001b[0;36mtrain_epoch\u001b[1;34m(self, train_loader)\u001b[0m\n\u001b[0;32m    609\u001b[0m \u001b[1;33m\u001b[0m\u001b[0m\n\u001b[0;32m    610\u001b[0m         \u001b[1;32mfor\u001b[0m \u001b[0mdata\u001b[0m\u001b[1;33m,\u001b[0m \u001b[0mtargets\u001b[0m \u001b[1;32min\u001b[0m \u001b[0mtrain_loader\u001b[0m\u001b[1;33m:\u001b[0m\u001b[1;33m\u001b[0m\u001b[1;33m\u001b[0m\u001b[0m\n\u001b[1;32m--> 611\u001b[1;33m             \u001b[0mbatch_outs\u001b[0m \u001b[1;33m=\u001b[0m \u001b[0mself\u001b[0m\u001b[1;33m.\u001b[0m\u001b[0mtrain_batch\u001b[0m\u001b[1;33m(\u001b[0m\u001b[0mdata\u001b[0m\u001b[1;33m,\u001b[0m \u001b[0mtargets\u001b[0m\u001b[1;33m)\u001b[0m\u001b[1;33m\u001b[0m\u001b[1;33m\u001b[0m\u001b[0m\n\u001b[0m\u001b[0;32m    612\u001b[0m             \u001b[1;32mif\u001b[0m \u001b[0mself\u001b[0m\u001b[1;33m.\u001b[0m\u001b[0moutput_dim\u001b[0m \u001b[1;33m==\u001b[0m \u001b[1;36m2\u001b[0m\u001b[1;33m:\u001b[0m\u001b[1;33m\u001b[0m\u001b[1;33m\u001b[0m\u001b[0m\n\u001b[0;32m    613\u001b[0m                 y_preds.append(torch.nn.Softmax(dim=1)(batch_outs[\"y_preds\"])[:, 1]\n",
      "\u001b[1;32mc:\\repos\\GeneticEngineeringAttributionChallenge\\env\\lib\\site-packages\\pytorch_tabnet\\tab_model.py\u001b[0m in \u001b[0;36mtrain_batch\u001b[1;34m(self, data, targets)\u001b[0m\n\u001b[0;32m    657\u001b[0m         \u001b[0mloss\u001b[0m \u001b[1;33m-=\u001b[0m \u001b[0mself\u001b[0m\u001b[1;33m.\u001b[0m\u001b[0mlambda_sparse\u001b[0m\u001b[1;33m*\u001b[0m\u001b[0mM_loss\u001b[0m\u001b[1;33m\u001b[0m\u001b[1;33m\u001b[0m\u001b[0m\n\u001b[0;32m    658\u001b[0m \u001b[1;33m\u001b[0m\u001b[0m\n\u001b[1;32m--> 659\u001b[1;33m         \u001b[0mloss\u001b[0m\u001b[1;33m.\u001b[0m\u001b[0mbackward\u001b[0m\u001b[1;33m(\u001b[0m\u001b[1;33m)\u001b[0m\u001b[1;33m\u001b[0m\u001b[1;33m\u001b[0m\u001b[0m\n\u001b[0m\u001b[0;32m    660\u001b[0m         \u001b[1;32mif\u001b[0m \u001b[0mself\u001b[0m\u001b[1;33m.\u001b[0m\u001b[0mclip_value\u001b[0m\u001b[1;33m:\u001b[0m\u001b[1;33m\u001b[0m\u001b[1;33m\u001b[0m\u001b[0m\n\u001b[0;32m    661\u001b[0m             \u001b[0mclip_grad_norm_\u001b[0m\u001b[1;33m(\u001b[0m\u001b[0mself\u001b[0m\u001b[1;33m.\u001b[0m\u001b[0mnetwork\u001b[0m\u001b[1;33m.\u001b[0m\u001b[0mparameters\u001b[0m\u001b[1;33m(\u001b[0m\u001b[1;33m)\u001b[0m\u001b[1;33m,\u001b[0m \u001b[0mself\u001b[0m\u001b[1;33m.\u001b[0m\u001b[0mclip_value\u001b[0m\u001b[1;33m)\u001b[0m\u001b[1;33m\u001b[0m\u001b[1;33m\u001b[0m\u001b[0m\n",
      "\u001b[1;32mc:\\repos\\GeneticEngineeringAttributionChallenge\\env\\lib\\site-packages\\torch\\tensor.py\u001b[0m in \u001b[0;36mbackward\u001b[1;34m(self, gradient, retain_graph, create_graph)\u001b[0m\n\u001b[0;32m    183\u001b[0m                 \u001b[0mproducts\u001b[0m\u001b[1;33m.\u001b[0m \u001b[0mDefaults\u001b[0m \u001b[0mto\u001b[0m\u001b[0;31m \u001b[0m\u001b[0;31m`\u001b[0m\u001b[0;31m`\u001b[0m\u001b[1;32mFalse\u001b[0m\u001b[0;31m`\u001b[0m\u001b[0;31m`\u001b[0m\u001b[1;33m.\u001b[0m\u001b[1;33m\u001b[0m\u001b[1;33m\u001b[0m\u001b[0m\n\u001b[0;32m    184\u001b[0m         \"\"\"\n\u001b[1;32m--> 185\u001b[1;33m         \u001b[0mtorch\u001b[0m\u001b[1;33m.\u001b[0m\u001b[0mautograd\u001b[0m\u001b[1;33m.\u001b[0m\u001b[0mbackward\u001b[0m\u001b[1;33m(\u001b[0m\u001b[0mself\u001b[0m\u001b[1;33m,\u001b[0m \u001b[0mgradient\u001b[0m\u001b[1;33m,\u001b[0m \u001b[0mretain_graph\u001b[0m\u001b[1;33m,\u001b[0m \u001b[0mcreate_graph\u001b[0m\u001b[1;33m)\u001b[0m\u001b[1;33m\u001b[0m\u001b[1;33m\u001b[0m\u001b[0m\n\u001b[0m\u001b[0;32m    186\u001b[0m \u001b[1;33m\u001b[0m\u001b[0m\n\u001b[0;32m    187\u001b[0m     \u001b[1;32mdef\u001b[0m \u001b[0mregister_hook\u001b[0m\u001b[1;33m(\u001b[0m\u001b[0mself\u001b[0m\u001b[1;33m,\u001b[0m \u001b[0mhook\u001b[0m\u001b[1;33m)\u001b[0m\u001b[1;33m:\u001b[0m\u001b[1;33m\u001b[0m\u001b[1;33m\u001b[0m\u001b[0m\n",
      "\u001b[1;32mc:\\repos\\GeneticEngineeringAttributionChallenge\\env\\lib\\site-packages\\torch\\autograd\\__init__.py\u001b[0m in \u001b[0;36mbackward\u001b[1;34m(tensors, grad_tensors, retain_graph, create_graph, grad_variables)\u001b[0m\n\u001b[0;32m    123\u001b[0m         \u001b[0mretain_graph\u001b[0m \u001b[1;33m=\u001b[0m \u001b[0mcreate_graph\u001b[0m\u001b[1;33m\u001b[0m\u001b[1;33m\u001b[0m\u001b[0m\n\u001b[0;32m    124\u001b[0m \u001b[1;33m\u001b[0m\u001b[0m\n\u001b[1;32m--> 125\u001b[1;33m     Variable._execution_engine.run_backward(\n\u001b[0m\u001b[0;32m    126\u001b[0m         \u001b[0mtensors\u001b[0m\u001b[1;33m,\u001b[0m \u001b[0mgrad_tensors\u001b[0m\u001b[1;33m,\u001b[0m \u001b[0mretain_graph\u001b[0m\u001b[1;33m,\u001b[0m \u001b[0mcreate_graph\u001b[0m\u001b[1;33m,\u001b[0m\u001b[1;33m\u001b[0m\u001b[1;33m\u001b[0m\u001b[0m\n\u001b[0;32m    127\u001b[0m         allow_unreachable=True)  # allow_unreachable flag\n",
      "\u001b[1;31mKeyboardInterrupt\u001b[0m: "
     ]
    }
   ],
   "source": [
    "model.fit(\n",
    "    X_train=X_train.values, y_train=y_train.values,\n",
    "    X_valid=X_dev.values, y_valid=y_dev.values,\n",
    "    max_epochs=200, patience=10,\n",
    "    batch_size=512, virtual_batch_size=64\n",
    ")"
   ]
  },
  {
   "cell_type": "code",
   "execution_count": null,
   "metadata": {},
   "outputs": [],
   "source": [
    "plt.plot(model.history['train']['loss'])\n",
    "plt.plot(model.history['valid']['loss'])"
   ]
  },
  {
   "cell_type": "code",
   "execution_count": null,
   "metadata": {},
   "outputs": [],
   "source": [
    "# plot accuracies\n",
    "plt.plot([-x for x in model.history['train']['metric']])\n",
    "plt.plot([-x for x in model.history['valid']['metric']])"
   ]
  },
  {
   "cell_type": "code",
   "execution_count": null,
   "metadata": {},
   "outputs": [],
   "source": [
    "probas = model.predict_proba(X_dev.values)\n",
    "top = top10_accuracy_scorer(model.classes_,y_dev,probas)\n",
    "top"
   ]
  },
  {
   "source": [
    "## RF"
   ],
   "cell_type": "markdown",
   "metadata": {}
  },
  {
   "cell_type": "code",
   "execution_count": null,
   "metadata": {},
   "outputs": [],
   "source": [
    "K = 5\n",
    "skf = StratifiedKFold(n_splits=K,shuffle=True,random_state=420)"
   ]
  },
  {
   "cell_type": "code",
   "execution_count": null,
   "metadata": {
    "tags": []
   },
   "outputs": [],
   "source": [
    "test_preds = []\n",
    "for i, (train_index, dev_index) in tqdm(enumerate(skf.split(X, y)),total=K):\n",
    "    print('\\n--------FOLD ',i+1)\n",
    "    X_t, X_d = X.iloc[train_index], X.iloc[dev_index]\n",
    "    y_t, y_d = y[train_index], y[dev_index]\n",
    "\n",
    "    model = RandomForestClassifier(n_estimators=100,max_depth=15,verbose=0,n_jobs=11,random_state=420)\n",
    "\n",
    "    model.fit(X_t, y_t)\n",
    "\n",
    "    preds = model.predict(X_d)\n",
    "    probas = model.predict_proba(X_d)\n",
    "\n",
    "    acc = accuracy_score(y_d,preds)\n",
    "    f1 = f1_score(y_d,preds,average='macro')\n",
    "    top = top10_accuracy_scorer(model.classes_,y_d,probas)\n",
    "\n",
    "    print('ACC: ',acc)\n",
    "    print('F1: ', f1)\n",
    "    print('TOP-10: ',top)\n",
    "\n",
    "    test_preds.append(model.predict_proba(test))"
   ]
  },
  {
   "cell_type": "markdown",
   "metadata": {},
   "source": [
    "## SUBMISSION"
   ]
  },
  {
   "cell_type": "code",
   "execution_count": null,
   "metadata": {},
   "outputs": [],
   "source": [
    "test_preds = np.array(test_preds)\n",
    "probas=np.mean(test_preds,axis=0)\n",
    "probas.shape"
   ]
  },
  {
   "cell_type": "code",
   "execution_count": 48,
   "metadata": {},
   "outputs": [],
   "source": [
    "probas = model.predict_proba(test.values)"
   ]
  },
  {
   "cell_type": "code",
   "execution_count": 49,
   "metadata": {},
   "outputs": [],
   "source": [
    "submission_format = pd.read_csv('../data/raw/submission_format.csv', index_col='sequence_id')"
   ]
  },
  {
   "cell_type": "code",
   "execution_count": 50,
   "metadata": {},
   "outputs": [],
   "source": [
    "assert submission_format.shape == probas.shape\n",
    "assert (model.classes_ == submission_format.columns).all()"
   ]
  },
  {
   "cell_type": "code",
   "execution_count": 51,
   "metadata": {},
   "outputs": [],
   "source": [
    "my_submission = pd.DataFrame(data=probas, \n",
    "                             columns=model.classes_, \n",
    "                             index=submission_format.index)"
   ]
  },
  {
   "cell_type": "code",
   "execution_count": 52,
   "metadata": {},
   "outputs": [
    {
     "output_type": "execute_result",
     "data": {
      "text/plain": "                 00Q4V31T      012VT4JK      028IO5W2      03GRNN7N  \\\nsequence_id                                                           \nE0VFT        1.515082e-27  5.625991e-27  1.891753e-43  1.649788e-21   \nTTRK5        0.000000e+00  0.000000e+00  3.775939e-41  3.296548e-37   \n2Z7FZ        9.471412e-21  5.500529e-20  4.124677e-34  3.916077e-16   \nVJI6E        0.000000e+00  8.836621e-38  2.400263e-39  0.000000e+00   \n721FI        7.235823e-24  9.087500e-24  2.219892e-21  4.267954e-19   \n\n                 03Y3W51H      09MQV1TY      0A4AHRCT      0A9M05NC  \\\nsequence_id                                                           \nE0VFT        1.202046e-25  1.715993e-28  4.014787e-10  0.000000e+00   \nTTRK5        0.000000e+00  1.401298e-45  9.429340e-35  1.758771e-28   \n2Z7FZ        2.158911e-25  6.725175e-16  2.752208e-03  6.953894e-38   \nVJI6E        4.932411e-31  0.000000e+00  5.367708e-36  0.000000e+00   \n721FI        4.867489e-14  6.668676e-31  1.094942e-15  1.479028e-18   \n\n                 0B9GCUVV      0CL7QVG8  ...      ZQNGGY33      ZSHS4VJZ  \\\nsequence_id                              ...                               \nE0VFT        7.314778e-42  4.400077e-43  ...  3.056437e-38  0.000000e+00   \nTTRK5        1.044531e-30  0.000000e+00  ...  4.016087e-32  0.000000e+00   \n2Z7FZ        4.252380e-26  9.019391e-37  ...  1.121510e-21  0.000000e+00   \nVJI6E        6.043064e-06  1.401298e-45  ...  4.400077e-43  1.401298e-45   \n721FI        1.144900e-12  2.322124e-23  ...  4.085907e-12  1.424093e-27   \n\n                 ZT1IP3T6      ZU6860XU      ZU6TVFFU      ZU75P59K  \\\nsequence_id                                                           \nE0VFT        2.559326e-24  8.209619e-37  1.908444e-36  5.074584e-26   \nTTRK5        2.002628e-34  0.000000e+00  0.000000e+00  0.000000e+00   \n2Z7FZ        3.367852e-18  8.205101e-39  3.291074e-21  3.068186e-17   \nVJI6E        8.398241e-12  0.000000e+00  7.787215e-35  2.963532e-33   \n721FI        6.358644e-06  2.527213e-27  1.344011e-28  1.288921e-31   \n\n                 ZUI6TDWV      ZWFD8OHC      ZX06ZDZN      ZZJVE4HO  \nsequence_id                                                          \nE0VFT        0.000000e+00  1.033698e-31  7.006492e-45  7.284635e-18  \nTTRK5        0.000000e+00  5.943285e-37  0.000000e+00  6.717345e-14  \n2Z7FZ        0.000000e+00  1.188096e-32  0.000000e+00  6.623164e-11  \nVJI6E        0.000000e+00  7.804918e-18  5.802032e-16  4.362130e-23  \n721FI        1.844060e-19  4.458698e-15  7.075241e-33  2.122319e-15  \n\n[5 rows x 1314 columns]",
      "text/html": "<div>\n<style scoped>\n    .dataframe tbody tr th:only-of-type {\n        vertical-align: middle;\n    }\n\n    .dataframe tbody tr th {\n        vertical-align: top;\n    }\n\n    .dataframe thead th {\n        text-align: right;\n    }\n</style>\n<table border=\"1\" class=\"dataframe\">\n  <thead>\n    <tr style=\"text-align: right;\">\n      <th></th>\n      <th>00Q4V31T</th>\n      <th>012VT4JK</th>\n      <th>028IO5W2</th>\n      <th>03GRNN7N</th>\n      <th>03Y3W51H</th>\n      <th>09MQV1TY</th>\n      <th>0A4AHRCT</th>\n      <th>0A9M05NC</th>\n      <th>0B9GCUVV</th>\n      <th>0CL7QVG8</th>\n      <th>...</th>\n      <th>ZQNGGY33</th>\n      <th>ZSHS4VJZ</th>\n      <th>ZT1IP3T6</th>\n      <th>ZU6860XU</th>\n      <th>ZU6TVFFU</th>\n      <th>ZU75P59K</th>\n      <th>ZUI6TDWV</th>\n      <th>ZWFD8OHC</th>\n      <th>ZX06ZDZN</th>\n      <th>ZZJVE4HO</th>\n    </tr>\n    <tr>\n      <th>sequence_id</th>\n      <th></th>\n      <th></th>\n      <th></th>\n      <th></th>\n      <th></th>\n      <th></th>\n      <th></th>\n      <th></th>\n      <th></th>\n      <th></th>\n      <th></th>\n      <th></th>\n      <th></th>\n      <th></th>\n      <th></th>\n      <th></th>\n      <th></th>\n      <th></th>\n      <th></th>\n      <th></th>\n      <th></th>\n    </tr>\n  </thead>\n  <tbody>\n    <tr>\n      <th>E0VFT</th>\n      <td>1.515082e-27</td>\n      <td>5.625991e-27</td>\n      <td>1.891753e-43</td>\n      <td>1.649788e-21</td>\n      <td>1.202046e-25</td>\n      <td>1.715993e-28</td>\n      <td>4.014787e-10</td>\n      <td>0.000000e+00</td>\n      <td>7.314778e-42</td>\n      <td>4.400077e-43</td>\n      <td>...</td>\n      <td>3.056437e-38</td>\n      <td>0.000000e+00</td>\n      <td>2.559326e-24</td>\n      <td>8.209619e-37</td>\n      <td>1.908444e-36</td>\n      <td>5.074584e-26</td>\n      <td>0.000000e+00</td>\n      <td>1.033698e-31</td>\n      <td>7.006492e-45</td>\n      <td>7.284635e-18</td>\n    </tr>\n    <tr>\n      <th>TTRK5</th>\n      <td>0.000000e+00</td>\n      <td>0.000000e+00</td>\n      <td>3.775939e-41</td>\n      <td>3.296548e-37</td>\n      <td>0.000000e+00</td>\n      <td>1.401298e-45</td>\n      <td>9.429340e-35</td>\n      <td>1.758771e-28</td>\n      <td>1.044531e-30</td>\n      <td>0.000000e+00</td>\n      <td>...</td>\n      <td>4.016087e-32</td>\n      <td>0.000000e+00</td>\n      <td>2.002628e-34</td>\n      <td>0.000000e+00</td>\n      <td>0.000000e+00</td>\n      <td>0.000000e+00</td>\n      <td>0.000000e+00</td>\n      <td>5.943285e-37</td>\n      <td>0.000000e+00</td>\n      <td>6.717345e-14</td>\n    </tr>\n    <tr>\n      <th>2Z7FZ</th>\n      <td>9.471412e-21</td>\n      <td>5.500529e-20</td>\n      <td>4.124677e-34</td>\n      <td>3.916077e-16</td>\n      <td>2.158911e-25</td>\n      <td>6.725175e-16</td>\n      <td>2.752208e-03</td>\n      <td>6.953894e-38</td>\n      <td>4.252380e-26</td>\n      <td>9.019391e-37</td>\n      <td>...</td>\n      <td>1.121510e-21</td>\n      <td>0.000000e+00</td>\n      <td>3.367852e-18</td>\n      <td>8.205101e-39</td>\n      <td>3.291074e-21</td>\n      <td>3.068186e-17</td>\n      <td>0.000000e+00</td>\n      <td>1.188096e-32</td>\n      <td>0.000000e+00</td>\n      <td>6.623164e-11</td>\n    </tr>\n    <tr>\n      <th>VJI6E</th>\n      <td>0.000000e+00</td>\n      <td>8.836621e-38</td>\n      <td>2.400263e-39</td>\n      <td>0.000000e+00</td>\n      <td>4.932411e-31</td>\n      <td>0.000000e+00</td>\n      <td>5.367708e-36</td>\n      <td>0.000000e+00</td>\n      <td>6.043064e-06</td>\n      <td>1.401298e-45</td>\n      <td>...</td>\n      <td>4.400077e-43</td>\n      <td>1.401298e-45</td>\n      <td>8.398241e-12</td>\n      <td>0.000000e+00</td>\n      <td>7.787215e-35</td>\n      <td>2.963532e-33</td>\n      <td>0.000000e+00</td>\n      <td>7.804918e-18</td>\n      <td>5.802032e-16</td>\n      <td>4.362130e-23</td>\n    </tr>\n    <tr>\n      <th>721FI</th>\n      <td>7.235823e-24</td>\n      <td>9.087500e-24</td>\n      <td>2.219892e-21</td>\n      <td>4.267954e-19</td>\n      <td>4.867489e-14</td>\n      <td>6.668676e-31</td>\n      <td>1.094942e-15</td>\n      <td>1.479028e-18</td>\n      <td>1.144900e-12</td>\n      <td>2.322124e-23</td>\n      <td>...</td>\n      <td>4.085907e-12</td>\n      <td>1.424093e-27</td>\n      <td>6.358644e-06</td>\n      <td>2.527213e-27</td>\n      <td>1.344011e-28</td>\n      <td>1.288921e-31</td>\n      <td>1.844060e-19</td>\n      <td>4.458698e-15</td>\n      <td>7.075241e-33</td>\n      <td>2.122319e-15</td>\n    </tr>\n  </tbody>\n</table>\n<p>5 rows × 1314 columns</p>\n</div>"
     },
     "metadata": {},
     "execution_count": 52
    }
   ],
   "source": [
    "my_submission.head()"
   ]
  },
  {
   "cell_type": "code",
   "execution_count": 53,
   "metadata": {},
   "outputs": [],
   "source": [
    "my_submission.to_csv('../submissions/submission_tabnet.csv')"
   ]
  },
  {
   "cell_type": "code",
   "execution_count": null,
   "metadata": {},
   "outputs": [],
   "source": []
  }
 ]
}