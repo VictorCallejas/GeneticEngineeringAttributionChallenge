{
 "metadata": {
  "language_info": {
   "codemirror_mode": {
    "name": "ipython",
    "version": 3
   },
   "file_extension": ".py",
   "mimetype": "text/x-python",
   "name": "python",
   "nbconvert_exporter": "python",
   "pygments_lexer": "ipython3",
   "version": "3.8.2-final"
  },
  "orig_nbformat": 2,
  "kernelspec": {
   "name": "python38264bitenvvenv06b471d0c6c74f06b7ccc810f4823694",
   "display_name": "Python 3.8.2 64-bit ('env': venv)"
  }
 },
 "nbformat": 4,
 "nbformat_minor": 2,
 "cells": [
  {
   "cell_type": "code",
   "execution_count": 40,
   "metadata": {},
   "outputs": [],
   "source": [
    "import pandas as pd\n",
    "\n",
    "from itertools import product\n",
    "\n",
    "from tqdm import tqdm"
   ]
  },
  {
   "cell_type": "code",
   "execution_count": 41,
   "metadata": {
    "tags": []
   },
   "outputs": [
    {
     "output_type": "stream",
     "name": "stdout",
     "text": "(67447, 43)\n(18816, 42)\n"
    }
   ],
   "source": [
    "train = pd.read_csv('../data/processed/train.csv')\n",
    "test = pd.read_csv('../data/processed/test.csv')\n",
    "\n",
    "print(train.shape)\n",
    "print(test.shape)"
   ]
  },
  {
   "cell_type": "code",
   "execution_count": 42,
   "metadata": {},
   "outputs": [],
   "source": [
    "bases = {'A', 'C', 'G', 'N', 'T'}"
   ]
  },
  {
   "cell_type": "code",
   "execution_count": 43,
   "metadata": {
    "tags": []
   },
   "outputs": [
    {
     "output_type": "stream",
     "name": "stdout",
     "text": "Number of subsequences: 3905\n"
    },
    {
     "output_type": "execute_result",
     "data": {
      "text/plain": "['T', 'A', 'N', 'G', 'C', 'TT', 'TA', 'TN', 'TG', 'TC']"
     },
     "metadata": {},
     "execution_count": 43
    }
   ],
   "source": [
    "subsequences = []\n",
    "n = 5\n",
    "for i in range(1,n+1):\n",
    "    subsequences.extend(''.join(permutation) for permutation in product(bases, repeat=i))\n",
    "print(f\"Number of subsequences: {len(subsequences)}\")\n",
    "subsequences[:10]"
   ]
  },
  {
   "cell_type": "code",
   "execution_count": 44,
   "metadata": {},
   "outputs": [],
   "source": [
    "def get_ngram_features(data, subsequences):\n",
    "    features = pd.DataFrame(index=data.index)\n",
    "    features['sequence_id']=data['sequence_id']\n",
    "    for subseq in tqdm(subsequences):\n",
    "         features[subseq] = data.sequence.str.count(subseq)\n",
    "    return features"
   ]
  },
  {
   "cell_type": "code",
   "execution_count": 45,
   "metadata": {
    "tags": []
   },
   "outputs": [
    {
     "output_type": "stream",
     "name": "stderr",
     "text": "100%|██████████| 3905/3905 [50:50<00:00,  1.28it/s](67447, 3906)\n\n"
    },
    {
     "output_type": "execute_result",
     "data": {
      "text/plain": "  sequence_id     T     A   N     G     C   TT   TA  TN   TG  ...  CCCGT  \\\n0       9ZIMC  1586  1848   0  1794  1923  326  285   0  451  ...      5   \n1       5SAQC   107   124   0   107   118   18   12   0   47  ...      2   \n2       E7QRO    72   220  92   971    95   11    9   4   40  ...      0   \n3       CT5FP   196   230   0   235   253   34   27   0   69  ...      1   \n4       7PTD8   243   386  72   415   234   34   51   1   92  ...      0   \n\n   CCCGA  CCCGN  CCCGG  CCCGC  CCCCT  CCCCA  CCCCN  CCCCG  CCCCC  \n0      9      0      2      9      8     19      0      6      7  \n1      0      0      0      0      2      0      0      2      1  \n2      0      0      0      1      0      0      0      0      0  \n3      0      0      0      2      1      1      0      1      1  \n4      0      0      0      0      0      1      1      0      0  \n\n[5 rows x 3906 columns]",
      "text/html": "<div>\n<style scoped>\n    .dataframe tbody tr th:only-of-type {\n        vertical-align: middle;\n    }\n\n    .dataframe tbody tr th {\n        vertical-align: top;\n    }\n\n    .dataframe thead th {\n        text-align: right;\n    }\n</style>\n<table border=\"1\" class=\"dataframe\">\n  <thead>\n    <tr style=\"text-align: right;\">\n      <th></th>\n      <th>sequence_id</th>\n      <th>T</th>\n      <th>A</th>\n      <th>N</th>\n      <th>G</th>\n      <th>C</th>\n      <th>TT</th>\n      <th>TA</th>\n      <th>TN</th>\n      <th>TG</th>\n      <th>...</th>\n      <th>CCCGT</th>\n      <th>CCCGA</th>\n      <th>CCCGN</th>\n      <th>CCCGG</th>\n      <th>CCCGC</th>\n      <th>CCCCT</th>\n      <th>CCCCA</th>\n      <th>CCCCN</th>\n      <th>CCCCG</th>\n      <th>CCCCC</th>\n    </tr>\n  </thead>\n  <tbody>\n    <tr>\n      <th>0</th>\n      <td>9ZIMC</td>\n      <td>1586</td>\n      <td>1848</td>\n      <td>0</td>\n      <td>1794</td>\n      <td>1923</td>\n      <td>326</td>\n      <td>285</td>\n      <td>0</td>\n      <td>451</td>\n      <td>...</td>\n      <td>5</td>\n      <td>9</td>\n      <td>0</td>\n      <td>2</td>\n      <td>9</td>\n      <td>8</td>\n      <td>19</td>\n      <td>0</td>\n      <td>6</td>\n      <td>7</td>\n    </tr>\n    <tr>\n      <th>1</th>\n      <td>5SAQC</td>\n      <td>107</td>\n      <td>124</td>\n      <td>0</td>\n      <td>107</td>\n      <td>118</td>\n      <td>18</td>\n      <td>12</td>\n      <td>0</td>\n      <td>47</td>\n      <td>...</td>\n      <td>2</td>\n      <td>0</td>\n      <td>0</td>\n      <td>0</td>\n      <td>0</td>\n      <td>2</td>\n      <td>0</td>\n      <td>0</td>\n      <td>2</td>\n      <td>1</td>\n    </tr>\n    <tr>\n      <th>2</th>\n      <td>E7QRO</td>\n      <td>72</td>\n      <td>220</td>\n      <td>92</td>\n      <td>971</td>\n      <td>95</td>\n      <td>11</td>\n      <td>9</td>\n      <td>4</td>\n      <td>40</td>\n      <td>...</td>\n      <td>0</td>\n      <td>0</td>\n      <td>0</td>\n      <td>0</td>\n      <td>1</td>\n      <td>0</td>\n      <td>0</td>\n      <td>0</td>\n      <td>0</td>\n      <td>0</td>\n    </tr>\n    <tr>\n      <th>3</th>\n      <td>CT5FP</td>\n      <td>196</td>\n      <td>230</td>\n      <td>0</td>\n      <td>235</td>\n      <td>253</td>\n      <td>34</td>\n      <td>27</td>\n      <td>0</td>\n      <td>69</td>\n      <td>...</td>\n      <td>1</td>\n      <td>0</td>\n      <td>0</td>\n      <td>0</td>\n      <td>2</td>\n      <td>1</td>\n      <td>1</td>\n      <td>0</td>\n      <td>1</td>\n      <td>1</td>\n    </tr>\n    <tr>\n      <th>4</th>\n      <td>7PTD8</td>\n      <td>243</td>\n      <td>386</td>\n      <td>72</td>\n      <td>415</td>\n      <td>234</td>\n      <td>34</td>\n      <td>51</td>\n      <td>1</td>\n      <td>92</td>\n      <td>...</td>\n      <td>0</td>\n      <td>0</td>\n      <td>0</td>\n      <td>0</td>\n      <td>0</td>\n      <td>0</td>\n      <td>1</td>\n      <td>1</td>\n      <td>0</td>\n      <td>0</td>\n    </tr>\n  </tbody>\n</table>\n<p>5 rows × 3906 columns</p>\n</div>"
     },
     "metadata": {},
     "execution_count": 45
    }
   ],
   "source": [
    "# Calculate n-gram features on our training set\n",
    "train_ngram_features = get_ngram_features(train, subsequences)\n",
    "print(train_ngram_features.shape)\n",
    "train_ngram_features.head()"
   ]
  },
  {
   "cell_type": "code",
   "execution_count": 46,
   "metadata": {
    "tags": []
   },
   "outputs": [
    {
     "output_type": "stream",
     "name": "stderr",
     "text": "100%|██████████| 3905/3905 [15:48<00:00,  4.12it/s](18816, 3906)\n\n"
    },
    {
     "output_type": "execute_result",
     "data": {
      "text/plain": "  sequence_id     T     A  N     G     C   TT   TA  TN   TG  ...  CCCGT  \\\n0       E0VFT  2358  2363  0  2310  2348  432  558   0  674  ...      7   \n1       TTRK5  1435  1454  0  1960  1824  260  230   0  476  ...      8   \n2       2Z7FZ  2157  2222  0  2434  2231  464  437   0  618  ...     11   \n3       VJI6E   174   251  0   365   440   18   15   0   68  ...      1   \n4       721FI  1659  1631  0  1513  1575  381  316   0  412  ...      3   \n\n   CCCGA  CCCGN  CCCGG  CCCGC  CCCCT  CCCCA  CCCCN  CCCCG  CCCCC  \n0      9      0      6     11      9     13      0     16     12  \n1     12      0     13     10      5      8      0     10      9  \n2     17      0      6     11      6      8      0     10      9  \n3      1      0      2      2      1      4      0      2      1  \n4      5      0      5      8      6     12      0      6      7  \n\n[5 rows x 3906 columns]",
      "text/html": "<div>\n<style scoped>\n    .dataframe tbody tr th:only-of-type {\n        vertical-align: middle;\n    }\n\n    .dataframe tbody tr th {\n        vertical-align: top;\n    }\n\n    .dataframe thead th {\n        text-align: right;\n    }\n</style>\n<table border=\"1\" class=\"dataframe\">\n  <thead>\n    <tr style=\"text-align: right;\">\n      <th></th>\n      <th>sequence_id</th>\n      <th>T</th>\n      <th>A</th>\n      <th>N</th>\n      <th>G</th>\n      <th>C</th>\n      <th>TT</th>\n      <th>TA</th>\n      <th>TN</th>\n      <th>TG</th>\n      <th>...</th>\n      <th>CCCGT</th>\n      <th>CCCGA</th>\n      <th>CCCGN</th>\n      <th>CCCGG</th>\n      <th>CCCGC</th>\n      <th>CCCCT</th>\n      <th>CCCCA</th>\n      <th>CCCCN</th>\n      <th>CCCCG</th>\n      <th>CCCCC</th>\n    </tr>\n  </thead>\n  <tbody>\n    <tr>\n      <th>0</th>\n      <td>E0VFT</td>\n      <td>2358</td>\n      <td>2363</td>\n      <td>0</td>\n      <td>2310</td>\n      <td>2348</td>\n      <td>432</td>\n      <td>558</td>\n      <td>0</td>\n      <td>674</td>\n      <td>...</td>\n      <td>7</td>\n      <td>9</td>\n      <td>0</td>\n      <td>6</td>\n      <td>11</td>\n      <td>9</td>\n      <td>13</td>\n      <td>0</td>\n      <td>16</td>\n      <td>12</td>\n    </tr>\n    <tr>\n      <th>1</th>\n      <td>TTRK5</td>\n      <td>1435</td>\n      <td>1454</td>\n      <td>0</td>\n      <td>1960</td>\n      <td>1824</td>\n      <td>260</td>\n      <td>230</td>\n      <td>0</td>\n      <td>476</td>\n      <td>...</td>\n      <td>8</td>\n      <td>12</td>\n      <td>0</td>\n      <td>13</td>\n      <td>10</td>\n      <td>5</td>\n      <td>8</td>\n      <td>0</td>\n      <td>10</td>\n      <td>9</td>\n    </tr>\n    <tr>\n      <th>2</th>\n      <td>2Z7FZ</td>\n      <td>2157</td>\n      <td>2222</td>\n      <td>0</td>\n      <td>2434</td>\n      <td>2231</td>\n      <td>464</td>\n      <td>437</td>\n      <td>0</td>\n      <td>618</td>\n      <td>...</td>\n      <td>11</td>\n      <td>17</td>\n      <td>0</td>\n      <td>6</td>\n      <td>11</td>\n      <td>6</td>\n      <td>8</td>\n      <td>0</td>\n      <td>10</td>\n      <td>9</td>\n    </tr>\n    <tr>\n      <th>3</th>\n      <td>VJI6E</td>\n      <td>174</td>\n      <td>251</td>\n      <td>0</td>\n      <td>365</td>\n      <td>440</td>\n      <td>18</td>\n      <td>15</td>\n      <td>0</td>\n      <td>68</td>\n      <td>...</td>\n      <td>1</td>\n      <td>1</td>\n      <td>0</td>\n      <td>2</td>\n      <td>2</td>\n      <td>1</td>\n      <td>4</td>\n      <td>0</td>\n      <td>2</td>\n      <td>1</td>\n    </tr>\n    <tr>\n      <th>4</th>\n      <td>721FI</td>\n      <td>1659</td>\n      <td>1631</td>\n      <td>0</td>\n      <td>1513</td>\n      <td>1575</td>\n      <td>381</td>\n      <td>316</td>\n      <td>0</td>\n      <td>412</td>\n      <td>...</td>\n      <td>3</td>\n      <td>5</td>\n      <td>0</td>\n      <td>5</td>\n      <td>8</td>\n      <td>6</td>\n      <td>12</td>\n      <td>0</td>\n      <td>6</td>\n      <td>7</td>\n    </tr>\n  </tbody>\n</table>\n<p>5 rows × 3906 columns</p>\n</div>"
     },
     "metadata": {},
     "execution_count": 46
    }
   ],
   "source": [
    "# Calculate n-gram features on our training set\n",
    "test_ngram_features = get_ngram_features(test, subsequences)\n",
    "print(test_ngram_features.shape)\n",
    "test_ngram_features.head()"
   ]
  },
  {
   "cell_type": "code",
   "execution_count": 47,
   "metadata": {},
   "outputs": [],
   "source": [
    "train_ngram_features.to_csv('../data/features/ngram/'+str(n)+'_ngram_train.csv',index=False)\n",
    "test_ngram_features.to_csv('../data/features/ngram/'+str(n)+'_ngram_test.csv',index=False)"
   ]
  },
  {
   "cell_type": "code",
   "execution_count": null,
   "metadata": {},
   "outputs": [],
   "source": []
  }
 ]
}